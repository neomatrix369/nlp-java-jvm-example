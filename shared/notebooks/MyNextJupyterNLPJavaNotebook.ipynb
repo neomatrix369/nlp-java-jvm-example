{
 "cells": [
  {
   "cell_type": "markdown",
   "metadata": {},
   "source": [
    "## Table of contents\n",
    "\n",
    "* [Find out the version info of the underlying JDK/JVM on which this notebook is running](#Find-out-the-version-info-of-the-underlying-JDK/JVM-on-which-this-notebook-is-running)\n",
    "* [Valohai command-line client](#Valohai-command-line-client)\n",
    "* [Set up project using the vh client](Set-up-project-using-the-vh-client)\n",
    "* Java bindings (Java API) via Valohai client\n",
    " * [Language Detector API](#Language-Detector-API)\n",
    " * [Sentence Detection API](#Sentence-Detection-API)\n",
    " * [Tokenizer API](#Tokenizer-API)\n",
    " * [Name Finder API](#Name-Finder-API)\n",
    " * [More Name Finder API examples](#More-Name-Finder-API-examples)\n",
    " * [Parts of speech (POS) Tagger API](#Parts-of-speech-(POS)-Tagger-API)\n",
    " * [Chunking API](#Chunking-API)\n",
    " * [Parsing API](#Parsing-API)"
   ]
  },
  {
   "cell_type": "markdown",
   "metadata": {},
   "source": [
    "### Find out the version info of the underlying JDK/JVM on which this notebook is running"
   ]
  },
  {
   "cell_type": "code",
   "execution_count": 85,
   "metadata": {},
   "outputs": [
    {
     "name": "stdout",
     "output_type": "stream",
     "text": [
      "java.version: 11.0.4\n"
     ]
    }
   ],
   "source": [
    "System.out.println(\"java.version: \" + System.getProperty(\"java.version\"));"
   ]
  },
  {
   "cell_type": "code",
   "execution_count": 86,
   "metadata": {},
   "outputs": [
    {
     "name": "stdout",
     "output_type": "stream",
     "text": [
      "java.specification.version: 11\n",
      "java.runtime.version: 11.0.4+11\n"
     ]
    }
   ],
   "source": [
    "System.out.println(\"java.specification.version: \" + System.getProperty(\"java.specification.version\"));\n",
    "System.out.println(\"java.runtime.version: \" + System.getProperty(\"java.runtime.version\"));"
   ]
  },
  {
   "cell_type": "code",
   "execution_count": 87,
   "metadata": {
    "scrolled": false
   },
   "outputs": [
    {
     "name": "stdout",
     "output_type": "stream",
     "text": [
      "java runtime VM version: 11.0.4+11\n"
     ]
    }
   ],
   "source": [
    "import java.lang.management.ManagementFactory;\n",
    "\n",
    "System.out.println(\"java runtime VM version: \" + ManagementFactory.getRuntimeMXBean().getVmVersion());"
   ]
  },
  {
   "cell_type": "markdown",
   "metadata": {},
   "source": [
    "Return to [Table of contents](#Table-of-contents)"
   ]
  },
  {
   "cell_type": "markdown",
   "metadata": {},
   "source": [
    "### Valohai command-line client"
   ]
  },
  {
   "cell_type": "code",
   "execution_count": 1,
   "metadata": {
    "scrolled": true
   },
   "outputs": [
    {
     "name": "stdout",
     "output_type": "stream",
     "text": [
      "Usage: vh [OPTIONS] COMMAND [ARGS]...\n",
      "\n",
      "  :type ctx: click.Context\n",
      "\n",
      "Options:\n",
      "  --debug / --no-debug\n",
      "  --output-format, --table-format [human|csv|tsv|scsv|psv|json]\n",
      "  --valohai-host URL              Override the Valohai API host (default\n",
      "                                  https://app.valohai.com/)  [env var:\n",
      "                                  VALOHAI_HOST]\n",
      "  --valohai-token SECRET          Use this Valohai authentication token  [env\n",
      "                                  var: VALOHAI_TOKEN]\n",
      "  --project UUID                  (Advanced) Override the project ID  [env\n",
      "                                  var: VALOHAI_PROJECT]\n",
      "  --project-mode local|remote     (Advanced) When using --project, set the\n",
      "                                  project mode  [env var:\n",
      "                                  VALOHAI_PROJECT_MODE]\n",
      "  --project-root DIR              (Advanced) When using --project, set the\n",
      "                                  project root directory  [env var:\n",
      "                                  VALOHAI_PROJECT_ROOT]\n",
      "  --help                          Show this message and exit.\n",
      "\n",
      "Commands:\n",
      "  environments  List all available execution environments.\n",
      "  execution     Execution-related commands.\n",
      "  init          Interactively initialize a Valohai project.\n",
      "  lint          Lint (syntax-check) a valohai.yaml file.\n",
      "  login         Log in into Valohai.\n",
      "  logout        Remove local authentication token.\n",
      "  parcel\n",
      "  project       Project-related commands.\n",
      "\n",
      "Commands (execution ...):\n",
      "  execution delete     Delete one or more executions, optionally purging their\n",
      "                       outputs as well.\n",
      "  execution info       Show execution info.\n",
      "  execution list       Show a list of executions for the project.\n",
      "  execution logs       Show or stream execution event log.\n",
      "  execution open       Open an execution in a web browser.\n",
      "  execution outputs    List and download execution outputs.\n",
      "  execution run        Start an execution of a step.\n",
      "  execution stop       Stop one or more in-progress executions.\n",
      "  execution summarize  Summarize execution metadata.\n",
      "  execution watch      Watch execution progress in a console UI.\n",
      "\n",
      "Commands (project ...):\n",
      "  project commits  List the commits for the linked project.\n",
      "  project create   Create a new project and optionally link it to the\n",
      "                   directory.\n",
      "  project fetch    Fetch new commits for the linked project.\n",
      "  project link     Link a directory with a Valohai project.\n",
      "  project list     List all projects.\n",
      "  project open     Open the project's view in a web browser.\n",
      "  project status   Get the general status of the linked project\n",
      "  project unlink   Unlink a linked Valohai project.\n"
     ]
    }
   ],
   "source": [
    "%system vh --help"
   ]
  },
  {
   "cell_type": "markdown",
   "metadata": {},
   "source": [
    "### Set up project using the vh client\n",
    "_Your Valohai token has must have been provided (and set) during startup of the container. Without this the rest of the commands in the notebook may not work. The below commands expects it and will run successfully when it is not set in the environment._"
   ]
  },
  {
   "cell_type": "code",
   "execution_count": 1,
   "metadata": {},
   "outputs": [
    {
     "name": "stdout",
     "output_type": "stream",
     "text": [
      "😼  Success! Project nlp-java-jvm-example created.\n",
      "🙂  Success! Linked /home/jovyan/work to nlp-java-jvm-example.\n"
     ]
    }
   ],
   "source": [
    "// Please execute this cell only once, check your Valohai dashoard for presence of the project\n",
    "\n",
    "%system ./create-project.sh nlp-java-jvm-example"
   ]
  },
  {
   "cell_type": "markdown",
   "metadata": {},
   "source": [
    "### Language Detector API"
   ]
  },
  {
   "cell_type": "markdown",
   "metadata": {},
   "source": [
    "##### Show a simple example detecting a language of a sentence using a Language detecting model called langdetect-183.bin on a remote instance (powered by Valohai), from within the notebook cell using cell magic!"
   ]
  },
  {
   "cell_type": "code",
   "execution_count": 40,
   "metadata": {
    "scrolled": false
   },
   "outputs": [
    {
     "name": "stdout",
     "output_type": "stream",
     "text": [
      "Executing step detect-language\n",
      "Sentence: Another sentence\n",
      "Packaging /home/jovyan/work...\n",
      "=>   Git not available, found 15 files to package\n",
      "Uploading 27.5 kB...\n",
      "😊  Success! Uploaded ad-hoc code ~3014abf803a1c995f3b6c791c50166b30be02315ab2d3c0c66795b0715451ae6\n",
      "😼  Success! Execution #54 created. See https://app.valohai.com/p/neomatrix369/nlp-java-jvm-example/execution/016eabe0-9dc1-6806-6983-5bb73c013049/\n"
     ]
    }
   ],
   "source": [
    "%system ./exec-step.sh \"detect-language\" \"Another sentence\""
   ]
  },
  {
   "cell_type": "code",
   "execution_count": 41,
   "metadata": {
    "scrolled": true
   },
   "outputs": [
    {
     "name": "stdout",
     "output_type": "stream",
     "text": [
      "Watching counter 54\n",
      "(nlp-java-jvm-example) #54                            2019-11-27T08:01:16.281927\n",
      "Status: complete    Step: detect-languagCommit: ~3014abf803a          574 events\n",
      "================================================================================\n",
      "08:01:00.61  apache-opennlp-1.9.1/docs/apidocs/opennlp-tools/opennlp/tools/namef\n",
      "08:01:00.63  apache-opennlp-1.9.1/docs/apidocs/opennlp-tools/opennlp/tools/forma\n",
      "08:01:00.65  apache-opennlp-1.9.1/docs/apidocs/opennlp-tools/opennlp/tools/forma\n",
      "08:01:00.67  apache-opennlp-1.9.1/docs/apidocs/opennlp-tools/opennlp/tools/stemm\n",
      "08:01:00.69  apache-opennlp-1.9.1/docs/apidocs/opennlp-brat-annotator/script.js \n",
      "08:01:00.71  apache-opennlp-1.9.1/docs/apidocs/opennlp-uima/opennlp/uima/util/cl\n",
      "08:01:01.31  ++ tr ' ' :                                                        \n",
      "08:01:01.31  ++ echo apache-opennlp-1.9.1/lib/aopalliance-repackaged-2.5.0-b30.j\n",
      "08:01:01.31  + java -cp .:apache-opennlp-1.9.1/lib/aopalliance-repackaged-2.5.0-\n",
      "08:01:01.44  [Started...]                                                       \n",
      "08:01:02.24  Sentence: 'Another sentence'                                       \n",
      "08:01:02.26  Best language: plt                                                 \n",
      "08:01:02.26  Best language confidence: 0.014114330560624104                     \n",
      "08:01:02.27                                                                     \n",
      "08:01:02.27  Predict languages (with confidence): [tur (0.009708737864077673), b\n",
      "08:01:02.27  [...Finished]                                                      \n",
      "08:01:02.27  + set +x                                                           \n",
      "08:01:02.76  container finished with return code 0, duration 3.013581           \n",
      "08:01:02.77  completed in 7.62 seconds                                          \n",
      "(nlp-java-jvm-example) #54                            2019-11-27T08:01:17.468574\n",
      "Status: complete    Step: detect-languagCommit: ~3014abf803a          574 events\n",
      "================================================================================\n",
      "08:01:00.61  apache-opennlp-1.9.1/docs/apidocs/opennlp-tools/opennlp/tools/namef\n",
      "08:01:00.63  apache-opennlp-1.9.1/docs/apidocs/opennlp-tools/opennlp/tools/forma\n",
      "08:01:00.65  apache-opennlp-1.9.1/docs/apidocs/opennlp-tools/opennlp/tools/forma\n",
      "08:01:00.67  apache-opennlp-1.9.1/docs/apidocs/opennlp-tools/opennlp/tools/stemm\n",
      "08:01:00.69  apache-opennlp-1.9.1/docs/apidocs/opennlp-brat-annotator/script.js \n",
      "08:01:00.71  apache-opennlp-1.9.1/docs/apidocs/opennlp-uima/opennlp/uima/util/cl\n",
      "08:01:01.31  ++ tr ' ' :                                                        \n",
      "08:01:01.31  ++ echo apache-opennlp-1.9.1/lib/aopalliance-repackaged-2.5.0-b30.j\n",
      "08:01:01.31  + java -cp .:apache-opennlp-1.9.1/lib/aopalliance-repackaged-2.5.0-\n",
      "08:01:01.44  [Started...]                                                       \n",
      "08:01:02.24  Sentence: 'Another sentence'                                       \n",
      "08:01:02.26  Best language: plt                                                 \n",
      "08:01:02.26  Best language confidence: 0.014114330560624104                     \n",
      "08:01:02.27                                                                     \n",
      "08:01:02.27  Predict languages (with confidence): [tur (0.009708737864077673), b\n",
      "08:01:02.27  [...Finished]                                                      \n",
      "08:01:02.27  + set +x                                                           \n",
      "08:01:02.76  container finished with return code 0, duration 3.013581           \n",
      "08:01:02.77  completed in 7.62 seconds                                          \n",
      "(nlp-java-jvm-example) #54                            2019-11-27T08:01:18.652506\n",
      "Status: complete    Step: detect-languagCommit: ~3014abf803a          574 events\n",
      "================================================================================\n",
      "08:01:00.61  apache-opennlp-1.9.1/docs/apidocs/opennlp-tools/opennlp/tools/namef\n",
      "08:01:00.63  apache-opennlp-1.9.1/docs/apidocs/opennlp-tools/opennlp/tools/forma\n",
      "08:01:00.65  apache-opennlp-1.9.1/docs/apidocs/opennlp-tools/opennlp/tools/forma\n",
      "08:01:00.67  apache-opennlp-1.9.1/docs/apidocs/opennlp-tools/opennlp/tools/stemm\n",
      "08:01:00.69  apache-opennlp-1.9.1/docs/apidocs/opennlp-brat-annotator/script.js \n",
      "08:01:00.71  apache-opennlp-1.9.1/docs/apidocs/opennlp-uima/opennlp/uima/util/cl\n",
      "08:01:01.31  ++ tr ' ' :                                                        \n",
      "08:01:01.31  ++ echo apache-opennlp-1.9.1/lib/aopalliance-repackaged-2.5.0-b30.j\n",
      "08:01:01.31  + java -cp .:apache-opennlp-1.9.1/lib/aopalliance-repackaged-2.5.0-\n",
      "08:01:01.44  [Started...]                                                       \n",
      "08:01:02.24  Sentence: 'Another sentence'                                       \n",
      "08:01:02.26  Best language: plt                                                 \n",
      "08:01:02.26  Best language confidence: 0.014114330560624104                     \n",
      "08:01:02.27                                                                     \n",
      "08:01:02.27  Predict languages (with confidence): [tur (0.009708737864077673), b\n",
      "08:01:02.27  [...Finished]                                                      \n",
      "08:01:02.27  + set +x                                                           \n",
      "08:01:02.76  container finished with return code 0, duration 3.013581           \n",
      "08:01:02.77  completed in 7.62 seconds                                          \n"
     ]
    }
   ],
   "source": [
    "%system ./watch-execution.sh 54"
   ]
  },
  {
   "cell_type": "code",
   "execution_count": 42,
   "metadata": {},
   "outputs": [
    {
     "name": "stdout",
     "output_type": "stream",
     "text": [
      "Gathering output from counter 54\n",
      "08:01:01.44 [Started...]\n",
      "08:01:02.24 Sentence: 'Another sentence'\n",
      "08:01:02.26 Best language: plt\n",
      "08:01:02.26 Best language confidence: 0.014114330560624104\n",
      "08:01:02.27 \n",
      "08:01:02.27 Predict languages (with confidence): [tur (0.009708737864077673), bel (0.009708737864077673), san (0.009708737864077673), ara (0.009708737864077673), mon (0.009708737864077673), tel (0.009708737864077673), sin (0.009708737864077673), pes (0.009708737864077673), min (0.009708737864077673), cmn (0.009708737864077673), aze (0.009708737864077673), fao (0.009708737864077673), ita (0.009708737864077673), ceb (0.009708737864077673), mkd (0.009708737864077673), eng (0.009708737864077673), nno (0.009708737864077673), lvs (0.009708737864077673), kor (0.009708737864077673), som (0.009708737864077673), swa (0.009708737864077673), hun (0.009708737864077673), fra (0.009708737864077673), nld (0.009708737864077673), mlt (0.009708737864077673), bak (0.009708737864077673), ekk (0.009708737864077673), ron (0.009708737864077673), gle (0.009708737864077673), hin (0.009708737864077673), est (0.009708737864077673), tha (0.009708737864077673), slk (0.009708737864077673), ltz (0.009708737864077673), kan (0.009708737864077673), eus (0.009708737864077673), epo (0.009708737864077673), bos (0.009708737864077673), pol (0.009708737864077673), nep (0.009708737864077673), lit (0.009708737864077673), war (0.009708737864077673), srp (0.009708737864077673), ces (0.009708737864077673), che (0.009708737864077673), lav (0.009708737864077673), nds (0.009708737864077673), dan (0.009708737864077673), mar (0.009708737864077673), nan (0.009708737864077673), glg (0.009708737864077673), gsw (0.009708737864077673), fry (0.009708737864077673), uzb (0.009708737864077673), mal (0.009708737864077673), vol (0.009708737864077673), fas (0.009708737864077673), msa (0.009708737864077673), cym (0.009708737864077673), nob (0.009708737864077673), ben (0.009708737864077673), kaz (0.009708737864077673), heb (0.009708737864077673), bre (0.009708737864077673), jav (0.009708737864077673), sqi (0.009708737864077673), kir (0.009708737864077673), cat (0.009708737864077673), oci (0.009708737864077673), vie (0.009708737864077673), kat (0.009708737864077673), tam (0.009708737864077673), tgk (0.009708737864077673), mri (0.009708737864077673), slv (0.009708737864077673), lat (0.009708737864077673), tgl (0.009708737864077673), pan (0.009708737864077673), swe (0.009708737864077673), lim (0.009708737864077673), tat (0.009708737864077673), ell (0.009708737864077673), afr (0.009708737864077673), pus (0.009708737864077673), isl (0.009708737864077673), sun (0.009708737864077673), urd (0.009708737864077673), hye (0.009708737864077673), hrv (0.009708737864077673), ast (0.009708737864077673), rus (0.009708737864077673), spa (0.009708737864077673), ind (0.009708737864077673), pnb (0.009708737864077673), bul (0.009708737864077673), plt (0.009708737864077673), deu (0.009708737864077673), zul (0.009708737864077673), ukr (0.009708737864077673), jpn (0.009708737864077673), por (0.009708737864077673), guj (0.009708737864077673), fin (0.009708737864077673)]\n",
      "08:01:02.27 [...Finished]\n",
      "08:01:02.27 + set +x\n",
      "08:01:02.76 container finished with return code 0, duration 3.013581\n",
      "08:01:02.77 completed in 7.62 seconds\n"
     ]
    }
   ],
   "source": [
    "%system ./show-final-result.sh 54"
   ]
  },
  {
   "cell_type": "markdown",
   "metadata": {},
   "source": [
    "**Apparantly it detects this to be Latin, instead of English \n",
    "maybe the language detecting model needs more training.\n",
    "See https://opennlp.apache.org/docs/1.9.1/manual/opennlp.html#tools.langdetect.training on how this can be achieved**"
   ]
  },
  {
   "cell_type": "markdown",
   "metadata": {},
   "source": [
    "Return to [Table of contents](#Table-of-contents)"
   ]
  },
  {
   "cell_type": "markdown",
   "metadata": {},
   "source": [
    "### Sentence Detection API\n"
   ]
  },
  {
   "cell_type": "markdown",
   "metadata": {},
   "source": [
    "##### Show a simple example detecting sentences using a Sentence detecting model called en-sent.bin on a remote instance (powered by Valohai), from within the notebook cell using cell magic!"
   ]
  },
  {
   "cell_type": "code",
   "execution_count": 43,
   "metadata": {
    "scrolled": true
   },
   "outputs": [
    {
     "name": "stdout",
     "output_type": "stream",
     "text": [
      "Executing step detect-sentence\n",
      "Sentence: Yet another sentence. And some other sentence.\n",
      "Packaging /home/jovyan/work...\n",
      "=>   Git not available, found 15 files to package\n",
      "Uploading 27.5 kB...\n",
      "😸  Success! Uploaded ad-hoc code ~e613b030c2e7b5b9d58796e5024a8e627310ce3c11686f9c197db041f833f9ed\n",
      "😼  Success! Execution #55 created. See https://app.valohai.com/p/neomatrix369/nlp-java-jvm-example/execution/016eabe1-530e-6570-63af-9a8f944cd7b4/\n"
     ]
    }
   ],
   "source": [
    "%system ./exec-step.sh \"detect-sentence\" \"Yet another sentence. And some other sentence.\""
   ]
  },
  {
   "cell_type": "code",
   "execution_count": 44,
   "metadata": {},
   "outputs": [
    {
     "name": "stdout",
     "output_type": "stream",
     "text": [
      "Watching counter 55\n",
      "(nlp-java-jvm-example) #55                            2019-11-27T08:01:45.489633\n",
      "Status: started     Step: detect-sentencCommit: ~e613b030c2e           13 events\n",
      "================================================================================\n",
      "08:01:41.55  starting job on i-063343f2170132fb2, Peon 0.27.1                   \n",
      "08:01:41.57  free scratch space: 400.2 GB (400171044864 B)                      \n",
      "08:01:41.58  downloading repository (code)                                      \n",
      "08:01:41.60  /valohai/inputs/model/en-sent.bin: downloading http://opennlp.sourc\n",
      "08:01:41.60  /valohai/inputs/apache-opennlp-jar/apache-opennlp-1.9.1-bin.tar.gz:\n",
      "08:01:41.60  /valohai/inputs/apache-opennlp-jar/apache-opennlp-1.9.1-bin.tar.gz:\n",
      "08:01:41.60  /valohai/inputs/apache-opennlp-jar/apache-opennlp-1.9.1-bin.tar.gz:\n",
      "08:01:41.61  /valohai/inputs/apache-opennlp-jar/apache-opennlp-1.9.1-bin.tar.gz:\n",
      "08:01:41.67  image neomatrix369/nlp-java:0.2 was found in cache                 \n",
      "08:01:42.22  /valohai/inputs/model/en-sent.bin: downloaded, 98.5 kB             \n",
      "08:01:42.22  /valohai/inputs/model/en-sent.bin: md5 sum: 3822c5f82cb4ba139284631\n",
      "08:01:42.22  /valohai/inputs/model/en-sent.bin: sha1 sum: 5cc6337965fa2236ad7f08\n",
      "08:01:42.22  /valohai/inputs/model/en-sent.bin: sha256 sum: bd6adffc85d66ccffd09\n",
      "(nlp-java-jvm-example) #55                            2019-11-27T08:01:46.737403\n",
      "Status: started     Step: detect-sentencCommit: ~e613b030c2e          343 events\n",
      "================================================================================\n",
      "08:01:46.64  apache-opennlp-1.9.1/docs/apidocs/opennlp-tools/opennlp/tools/parse\n",
      "08:01:46.65  apache-opennlp-1.9.1/docs/apidocs/opennlp-tools/opennlp/tools/parse\n",
      "08:01:46.65  apache-opennlp-1.9.1/docs/apidocs/opennlp-tools/opennlp/tools/parse\n",
      "08:01:46.65  apache-opennlp-1.9.1/docs/apidocs/opennlp-tools/opennlp/tools/docca\n",
      "08:01:46.65  apache-opennlp-1.9.1/docs/apidocs/opennlp-tools/opennlp/tools/docca\n",
      "08:01:46.65  apache-opennlp-1.9.1/docs/apidocs/opennlp-tools/opennlp/tools/docca\n",
      "08:01:46.65  apache-opennlp-1.9.1/docs/apidocs/opennlp-tools/opennlp/tools/docca\n",
      "08:01:46.65  apache-opennlp-1.9.1/docs/apidocs/opennlp-tools/opennlp/tools/docca\n",
      "08:01:46.65  apache-opennlp-1.9.1/docs/apidocs/opennlp-tools/opennlp/tools/docca\n",
      "08:01:46.66  apache-opennlp-1.9.1/docs/apidocs/opennlp-tools/opennlp/tools/docca\n",
      "08:01:46.66  apache-opennlp-1.9.1/docs/apidocs/opennlp-tools/opennlp/tools/docca\n",
      "08:01:46.66  apache-opennlp-1.9.1/docs/apidocs/opennlp-tools/opennlp/tools/docca\n",
      "08:01:46.66  apache-opennlp-1.9.1/docs/apidocs/opennlp-tools/opennlp/tools/docca\n",
      "08:01:46.66  apache-opennlp-1.9.1/docs/apidocs/opennlp-tools/opennlp/tools/docca\n",
      "08:01:46.66  apache-opennlp-1.9.1/docs/apidocs/opennlp-tools/opennlp/tools/docca\n",
      "08:01:46.66  apache-opennlp-1.9.1/docs/apidocs/opennlp-tools/opennlp/tools/docca\n",
      "08:01:46.66  apache-opennlp-1.9.1/docs/apidocs/opennlp-tools/opennlp/tools/docca\n",
      "08:01:46.66  apache-opennlp-1.9.1/docs/apidocs/opennlp-tools/opennlp/tools/docca\n",
      "08:01:46.67  apache-opennlp-1.9.1/docs/apidocs/opennlp-tools/opennlp/tools/docca\n",
      "(nlp-java-jvm-example) #55                            2019-11-27T08:01:47.950608\n",
      "Status: started     Step: detect-sentencCommit: ~e613b030c2e          562 events\n",
      "================================================================================\n",
      "08:01:46.89  apache-opennlp-1.9.1/docs/apidocs/opennlp-tools/opennlp/tools/util/\n",
      "08:01:46.89  apache-opennlp-1.9.1/docs/apidocs/opennlp-tools/opennlp/tools/util/\n",
      "08:01:46.90  apache-opennlp-1.9.1/docs/apidocs/opennlp-tools/opennlp/tools/util/\n",
      "08:01:46.90  apache-opennlp-1.9.1/docs/apidocs/opennlp-tools/opennlp/tools/util/\n",
      "08:01:46.90  apache-opennlp-1.9.1/docs/apidocs/opennlp-tools/opennlp/tools/util/\n",
      "08:01:46.90  apache-opennlp-1.9.1/docs/apidocs/opennlp-tools/opennlp/tools/util/\n",
      "08:01:46.90  <More than 500 events per second are being written to stdout; some \n",
      "08:01:46.90  apache-opennlp-1.9.1/docs/apidocs/opennlp-tools/opennlp/tools/util/\n",
      "08:01:46.92  apache-opennlp-1.9.1/docs/apidocs/opennlp-tools/opennlp/tools/lemma\n",
      "08:01:46.94  apache-opennlp-1.9.1/docs/apidocs/opennlp-tools/opennlp/tools/ml/ma\n",
      "08:01:46.96  apache-opennlp-1.9.1/docs/apidocs/opennlp-tools/opennlp/tools/posta\n",
      "08:01:46.98  apache-opennlp-1.9.1/docs/apidocs/opennlp-tools/opennlp/tools/forma\n",
      "08:01:47.00  apache-opennlp-1.9.1/docs/apidocs/opennlp-tools/opennlp/tools/forma\n",
      "08:01:47.02  apache-opennlp-1.9.1/docs/apidocs/opennlp-tools/help-doc.html      \n",
      "08:01:47.04  apache-opennlp-1.9.1/docs/apidocs/opennlp-uima/opennlp/uima/util/An\n",
      "08:01:47.67  ++ tr ' ' :                                                        \n",
      "08:01:47.68  ++ echo apache-opennlp-1.9.1/lib/aopalliance-repackaged-2.5.0-b30.j\n",
      "08:01:47.68  + java -cp .:apache-opennlp-1.9.1/lib/aopalliance-repackaged-2.5.0-\n",
      "08:01:47.78  [Started...]                                                       \n",
      "(nlp-java-jvm-example) #55                            2019-11-27T08:01:49.160133\n",
      "Status: started     Step: detect-sentencCommit: ~e613b030c2e          568 events\n",
      "================================================================================\n",
      "08:01:46.90  <More than 500 events per second are being written to stdout; some \n",
      "08:01:46.90  apache-opennlp-1.9.1/docs/apidocs/opennlp-tools/opennlp/tools/util/\n",
      "08:01:46.92  apache-opennlp-1.9.1/docs/apidocs/opennlp-tools/opennlp/tools/lemma\n",
      "08:01:46.94  apache-opennlp-1.9.1/docs/apidocs/opennlp-tools/opennlp/tools/ml/ma\n",
      "08:01:46.96  apache-opennlp-1.9.1/docs/apidocs/opennlp-tools/opennlp/tools/posta\n",
      "08:01:46.98  apache-opennlp-1.9.1/docs/apidocs/opennlp-tools/opennlp/tools/forma\n",
      "08:01:47.00  apache-opennlp-1.9.1/docs/apidocs/opennlp-tools/opennlp/tools/forma\n",
      "08:01:47.02  apache-opennlp-1.9.1/docs/apidocs/opennlp-tools/help-doc.html      \n",
      "08:01:47.04  apache-opennlp-1.9.1/docs/apidocs/opennlp-uima/opennlp/uima/util/An\n",
      "08:01:47.67  ++ tr ' ' :                                                        \n",
      "08:01:47.68  ++ echo apache-opennlp-1.9.1/lib/aopalliance-repackaged-2.5.0-b30.j\n",
      "08:01:47.68  + java -cp .:apache-opennlp-1.9.1/lib/aopalliance-repackaged-2.5.0-\n",
      "08:01:47.78  [Started...]                                                       \n",
      "08:01:47.94  Sentence: 'Yet another sentence. And some other sentence.'         \n",
      "08:01:47.95  ['Yet another sentence., And some other sentence.']                \n",
      "08:01:47.95                                                                     \n",
      "08:01:47.95  [[0..22), [23..48)]                                                \n",
      "08:01:47.95  [...Finished]                                                      \n",
      "08:01:47.96  + set +x                                                           \n"
     ]
    }
   ],
   "source": [
    "%system ./watch-execution.sh 55"
   ]
  },
  {
   "cell_type": "code",
   "execution_count": 45,
   "metadata": {},
   "outputs": [
    {
     "name": "stdout",
     "output_type": "stream",
     "text": [
      "Gathering output from counter 55\n",
      "08:01:47.78 [Started...]\n",
      "08:01:47.94 Sentence: 'Yet another sentence. And some other sentence.'\n",
      "08:01:47.95 ['Yet another sentence., And some other sentence.']\n",
      "08:01:47.95 \n",
      "08:01:47.95 [[0..22), [23..48)]\n",
      "08:01:47.95 [...Finished]\n",
      "08:01:47.96 + set +x\n",
      "08:01:49.17 container finished with return code 0, duration 3.012751\n",
      "08:01:49.17 completed in 7.63 seconds\n"
     ]
    }
   ],
   "source": [
    "%system ./show-final-result.sh 55"
   ]
  },
  {
   "cell_type": "markdown",
   "metadata": {},
   "source": [
    "**As you can see the two ways to use the SentenceDetect API to detect sentences in a piece of text.**"
   ]
  },
  {
   "cell_type": "markdown",
   "metadata": {},
   "source": [
    "Return to [Table of contents](#Table-of-contents)"
   ]
  },
  {
   "cell_type": "markdown",
   "metadata": {},
   "source": [
    "### Tokenizer API"
   ]
  },
  {
   "cell_type": "markdown",
   "metadata": {},
   "source": [
    "##### Show a simple example of tokenization of a sentence using a Tokenizer model called en-token.bin on a remote instance (powered by Valohai), from within the notebook cell using cell magic!"
   ]
  },
  {
   "cell_type": "code",
   "execution_count": 46,
   "metadata": {
    "scrolled": true
   },
   "outputs": [
    {
     "name": "stdout",
     "output_type": "stream",
     "text": [
      "Executing step tokenize\n",
      "Sentence: Yes please tokenize this sentence.\n",
      "Packaging /home/jovyan/work...\n",
      "=>   Git not available, found 15 files to package\n",
      "😻  Success! Ad-hoc code ~e613b030c2e7b5b9d58796e5024a8e627310ce3c11686f9c197db041f833f9ed already uploaded\n",
      "😎  Success! Execution #56 created. See https://app.valohai.com/p/neomatrix369/nlp-java-jvm-example/execution/016eabe1-fea5-1f40-0dd6-1304147c6ed7/\n"
     ]
    }
   ],
   "source": [
    "%system ./exec-step.sh \"tokenize\" \"Yes please tokenize this sentence.\""
   ]
  },
  {
   "cell_type": "code",
   "execution_count": 47,
   "metadata": {
    "scrolled": true
   },
   "outputs": [
    {
     "name": "stdout",
     "output_type": "stream",
     "text": [
      "Watching counter 56\n",
      "(nlp-java-jvm-example) #56                            2019-11-27T08:02:29.759268\n",
      "Status: started     Step: tokenize-senteCommit: ~e613b030c2e           16 events\n",
      "================================================================================\n",
      "08:02:25.49  starting job on i-063343f2170132fb2, Peon 0.27.1                   \n",
      "08:02:25.51  free scratch space: 400.1 GB (400121978880 B)                      \n",
      "08:02:25.52  downloading repository (code)                                      \n",
      "08:02:25.54  /valohai/inputs/model/en-token.bin: downloading http://opennlp.sour\n",
      "08:02:25.54  /valohai/inputs/apache-opennlp-jar/apache-opennlp-1.9.1-bin.tar.gz:\n",
      "08:02:25.54  /valohai/inputs/apache-opennlp-jar/apache-opennlp-1.9.1-bin.tar.gz:\n",
      "08:02:25.55  /valohai/inputs/apache-opennlp-jar/apache-opennlp-1.9.1-bin.tar.gz:\n",
      "08:02:25.55  /valohai/inputs/apache-opennlp-jar/apache-opennlp-1.9.1-bin.tar.gz:\n",
      "08:02:25.60  image neomatrix369/nlp-java:0.2 was found in cache                 \n",
      "08:02:26.47  /valohai/inputs/model/en-token.bin: downloaded, 439.9 kB           \n",
      "08:02:26.47  /valohai/inputs/model/en-token.bin: md5 sum: f38628ea25fc246e99fc5e\n",
      "08:02:26.48  /valohai/inputs/model/en-token.bin: sha1 sum: b9a0168d52518dbe30698\n",
      "08:02:26.48  /valohai/inputs/model/en-token.bin: sha256 sum: 2d0dd64ffb3d084382d\n",
      "08:02:29.69  starting container with image neomatrix369/nlp-java@sha256:bacbeffa\n",
      "08:02:29.69  allocating 15.5 GB system memory to container                      \n",
      "08:02:29.69  /tmp memory filesystem size: 15.5 GB                               \n",
      "(nlp-java-jvm-example) #56                            2019-11-27T08:02:30.970062\n",
      "Status: started     Step: tokenize-senteCommit: ~e613b030c2e          492 events\n",
      "================================================================================\n",
      "08:02:30.90  apache-opennlp-1.9.1/docs/apidocs/opennlp-tools/opennlp/tools/util/\n",
      "08:02:30.90  apache-opennlp-1.9.1/docs/apidocs/opennlp-tools/opennlp/tools/util/\n",
      "08:02:30.90  apache-opennlp-1.9.1/docs/apidocs/opennlp-tools/opennlp/tools/util/\n",
      "08:02:30.90  apache-opennlp-1.9.1/docs/apidocs/opennlp-tools/opennlp/tools/util/\n",
      "08:02:30.90  apache-opennlp-1.9.1/docs/apidocs/opennlp-tools/opennlp/tools/util/\n",
      "08:02:30.90  apache-opennlp-1.9.1/docs/apidocs/opennlp-tools/opennlp/tools/util/\n",
      "08:02:30.90  apache-opennlp-1.9.1/docs/apidocs/opennlp-tools/opennlp/tools/util/\n",
      "08:02:30.91  apache-opennlp-1.9.1/docs/apidocs/opennlp-tools/opennlp/tools/util/\n",
      "08:02:30.91  apache-opennlp-1.9.1/docs/apidocs/opennlp-tools/opennlp/tools/util/\n",
      "08:02:30.91  apache-opennlp-1.9.1/docs/apidocs/opennlp-tools/opennlp/tools/util/\n",
      "08:02:30.91  apache-opennlp-1.9.1/docs/apidocs/opennlp-tools/opennlp/tools/util/\n",
      "08:02:30.91  apache-opennlp-1.9.1/docs/apidocs/opennlp-tools/opennlp/tools/util/\n",
      "08:02:30.91  apache-opennlp-1.9.1/docs/apidocs/opennlp-tools/opennlp/tools/util/\n",
      "08:02:30.91  apache-opennlp-1.9.1/docs/apidocs/opennlp-tools/opennlp/tools/util/\n",
      "08:02:30.91  apache-opennlp-1.9.1/docs/apidocs/opennlp-tools/opennlp/tools/util/\n",
      "08:02:30.91  apache-opennlp-1.9.1/docs/apidocs/opennlp-tools/opennlp/tools/util/\n",
      "08:02:30.92  apache-opennlp-1.9.1/docs/apidocs/opennlp-tools/opennlp/tools/util/\n",
      "08:02:30.92  apache-opennlp-1.9.1/docs/apidocs/opennlp-tools/opennlp/tools/util/\n",
      "08:02:30.92  apache-opennlp-1.9.1/docs/apidocs/opennlp-tools/opennlp/tools/util/\n",
      "(nlp-java-jvm-example) #56                            2019-11-27T08:02:32.162634\n",
      "Status: started     Step: tokenize-senteCommit: ~e613b030c2e          575 events\n",
      "================================================================================\n",
      "08:02:31.04  apache-opennlp-1.9.1/docs/apidocs/opennlp-tools/opennlp/tools/ml/mo\n",
      "08:02:31.06  apache-opennlp-1.9.1/docs/apidocs/opennlp-tools/opennlp/tools/ml/pe\n",
      "08:02:31.08  apache-opennlp-1.9.1/docs/apidocs/opennlp-tools/opennlp/tools/forma\n",
      "08:02:31.10  apache-opennlp-1.9.1/docs/apidocs/opennlp-tools/opennlp/tools/forma\n",
      "08:02:31.12  apache-opennlp-1.9.1/docs/apidocs/opennlp-tools/opennlp/tools/sentd\n",
      "08:02:31.14  apache-opennlp-1.9.1/docs/apidocs/opennlp-morfologik-addon/opennlp/\n",
      "08:02:31.16  apache-opennlp-1.9.1/docs/apidocs/opennlp-uima/opennlp/uima/sentdet\n",
      "08:02:31.77  ++ tr ' ' :                                                        \n",
      "08:02:31.77  ++ echo apache-opennlp-1.9.1/lib/aopalliance-repackaged-2.5.0-b30.j\n",
      "08:02:31.78  + java -cp .:apache-opennlp-1.9.1/lib/aopalliance-repackaged-2.5.0-\n",
      "08:02:31.88  [Started...]                                                       \n",
      "08:02:32.11  Sentence: 'Yes please tokenize this sentence.'                     \n",
      "08:02:32.11  [', Yes, please, tokenize, this, sentence, ., ']                   \n",
      "08:02:32.11  Probabilities of each of the tokens above                          \n",
      "08:02:32.12  0.6935247086232172                                                 \n",
      "08:02:32.12  0.9967132853655197                                                 \n",
      "08:02:32.12  1.0                                                                \n",
      "08:02:32.13  1.0                                                                \n",
      "08:02:32.13  1.0                                                                \n",
      "(nlp-java-jvm-example) #56                            2019-11-27T08:02:33.354360\n",
      "Status: started     Step: tokenize-senteCommit: ~e613b030c2e          581 events\n",
      "================================================================================\n",
      "08:02:31.78  + java -cp .:apache-opennlp-1.9.1/lib/aopalliance-repackaged-2.5.0-\n",
      "08:02:31.88  [Started...]                                                       \n",
      "08:02:32.11  Sentence: 'Yes please tokenize this sentence.'                     \n",
      "08:02:32.11  [', Yes, please, tokenize, this, sentence, ., ']                   \n",
      "08:02:32.11  Probabilities of each of the tokens above                          \n",
      "08:02:32.12  0.6935247086232172                                                 \n",
      "08:02:32.12  0.9967132853655197                                                 \n",
      "08:02:32.12  1.0                                                                \n",
      "08:02:32.13  1.0                                                                \n",
      "08:02:32.13  1.0                                                                \n",
      "08:02:32.13  0.9960592442445741                                                 \n",
      "08:02:32.13  0.9979320415238206                                                 \n",
      "08:02:32.13  1.0                                                                \n",
      "08:02:32.13                                                                     \n",
      "08:02:32.13  [[0..1), [1..4), [5..11), [12..20), [21..25), [26..34), [34..35), [\n",
      "08:02:32.14  [...Finished]                                                      \n",
      "08:02:32.14  + set +x                                                           \n",
      "08:02:33.21  container finished with return code 0, duration 3.011259           \n",
      "08:02:33.21  completed in 7.73 seconds                                          \n"
     ]
    }
   ],
   "source": [
    "%system ./watch-execution.sh 56"
   ]
  },
  {
   "cell_type": "code",
   "execution_count": 48,
   "metadata": {},
   "outputs": [
    {
     "name": "stdout",
     "output_type": "stream",
     "text": [
      "Gathering output from counter 56\n",
      "08:02:31.88 [Started...]\n",
      "08:02:32.11 Sentence: 'Yes please tokenize this sentence.'\n",
      "08:02:32.11 [', Yes, please, tokenize, this, sentence, ., ']\n",
      "08:02:32.11 Probabilities of each of the tokens above\n",
      "08:02:32.12 0.6935247086232172\n",
      "08:02:32.12 0.9967132853655197\n",
      "08:02:32.12 1.0\n",
      "08:02:32.13 1.0\n",
      "08:02:32.13 1.0\n",
      "08:02:32.13 0.9960592442445741\n",
      "08:02:32.13 0.9979320415238206\n",
      "08:02:32.13 1.0\n",
      "08:02:32.13 \n",
      "08:02:32.13 [[0..1), [1..4), [5..11), [12..20), [21..25), [26..34), [34..35), [35..36)]\n",
      "08:02:32.14 [...Finished]\n",
      "08:02:32.14 + set +x\n",
      "08:02:33.21 container finished with return code 0, duration 3.011259\n",
      "08:02:33.21 completed in 7.73 seconds\n"
     ]
    }
   ],
   "source": [
    "%system ./show-final-result.sh 56"
   ]
  },
  {
   "cell_type": "markdown",
   "metadata": {},
   "source": [
    "Return to [Table of contents](#Table-of-contents)"
   ]
  },
  {
   "cell_type": "markdown",
   "metadata": {},
   "source": [
    "### Name Finder API"
   ]
  },
  {
   "cell_type": "markdown",
   "metadata": {},
   "source": [
    "##### Show a simple example of tokenization of a sentence using a Tokenizer model called en-token.bin on a remote instance (powered by Valohai), from within the notebook cell using cell magic!"
   ]
  },
  {
   "cell_type": "code",
   "execution_count": 49,
   "metadata": {
    "scrolled": true
   },
   "outputs": [
    {
     "name": "stdout",
     "output_type": "stream",
     "text": [
      "Executing step name-finder-person\n",
      "Sentence: My name is John. And his name is Pierre.\n",
      "Packaging /home/jovyan/work...\n",
      "=>   Git not available, found 15 files to package\n",
      "🙂  Success! Ad-hoc code ~e613b030c2e7b5b9d58796e5024a8e627310ce3c11686f9c197db041f833f9ed already uploaded\n",
      "😁  Success! Execution #57 created. See https://app.valohai.com/p/neomatrix369/nlp-java-jvm-example/execution/016eabe2-a5c6-c100-580d-142b08900d69/\n"
     ]
    }
   ],
   "source": [
    "%system ./exec-step.sh \"name-finder-person\" \"My name is John. And his name is Pierre.\""
   ]
  },
  {
   "cell_type": "code",
   "execution_count": 153,
   "metadata": {},
   "outputs": [
    {
     "name": "stdout",
     "output_type": "stream",
     "text": [
      "Watching counter 33\n",
      "(nlp-java-jvm-example) #33                            2019-11-27T00:29:59.675008\n",
      "Status: complete    Step: name-finder-peCommit: ~081836aba22          572 events\n",
      "================================================================================\n",
      "00:28:28.88  apache-opennlp-1.9.1/docs/apidocs/opennlp-tools/opennlp/tools/util/\n",
      "00:28:28.90  apache-opennlp-1.9.1/docs/apidocs/opennlp-tools/opennlp/tools/lemma\n",
      "00:28:28.92  apache-opennlp-1.9.1/docs/apidocs/opennlp-tools/opennlp/tools/ml/ma\n",
      "00:28:28.94  apache-opennlp-1.9.1/docs/apidocs/opennlp-tools/opennlp/tools/ml/pe\n",
      "00:28:28.96  apache-opennlp-1.9.1/docs/apidocs/opennlp-tools/opennlp/tools/posta\n",
      "00:28:28.98  apache-opennlp-1.9.1/docs/apidocs/opennlp-tools/opennlp/tools/forma\n",
      "00:28:29.00  apache-opennlp-1.9.1/docs/apidocs/opennlp-tools/opennlp/tools/forma\n",
      "00:28:29.02  apache-opennlp-1.9.1/docs/apidocs/opennlp-tools/opennlp/tools/forma\n",
      "00:28:29.04  apache-opennlp-1.9.1/docs/apidocs/opennlp-brat-annotator/opennlp/br\n",
      "00:28:29.06  apache-opennlp-1.9.1/docs/apidocs/opennlp-uima/opennlp/uima/tokeniz\n",
      "00:28:29.08  apache-opennlp-1.9.1/docs/opennlp-uima-descriptors/PersonNameFinder\n",
      "00:28:30.05  [Started...]                                                       \n",
      "00:28:30.85  Sentence: [Pierre, is, from, Paris, France.]                       \n",
      "00:28:30.86  [[0..1) person]                                                    \n",
      "00:28:30.87  Sentence: [John, is, from, London, England.]                       \n",
      "00:28:30.87  [[0..1) person]                                                    \n",
      "00:28:30.87  [...Finished]                                                      \n",
      "00:28:31.28  container finished with return code 0, duration 3.009486           \n",
      "00:28:31.28  completed in 97.16 seconds                                         \n",
      "(nlp-java-jvm-example) #33                            2019-11-27T00:30:00.862983\n",
      "Status: complete    Step: name-finder-peCommit: ~081836aba22          572 events\n",
      "================================================================================\n",
      "00:28:28.88  apache-opennlp-1.9.1/docs/apidocs/opennlp-tools/opennlp/tools/util/\n",
      "00:28:28.90  apache-opennlp-1.9.1/docs/apidocs/opennlp-tools/opennlp/tools/lemma\n",
      "00:28:28.92  apache-opennlp-1.9.1/docs/apidocs/opennlp-tools/opennlp/tools/ml/ma\n",
      "00:28:28.94  apache-opennlp-1.9.1/docs/apidocs/opennlp-tools/opennlp/tools/ml/pe\n",
      "00:28:28.96  apache-opennlp-1.9.1/docs/apidocs/opennlp-tools/opennlp/tools/posta\n",
      "00:28:28.98  apache-opennlp-1.9.1/docs/apidocs/opennlp-tools/opennlp/tools/forma\n",
      "00:28:29.00  apache-opennlp-1.9.1/docs/apidocs/opennlp-tools/opennlp/tools/forma\n",
      "00:28:29.02  apache-opennlp-1.9.1/docs/apidocs/opennlp-tools/opennlp/tools/forma\n",
      "00:28:29.04  apache-opennlp-1.9.1/docs/apidocs/opennlp-brat-annotator/opennlp/br\n",
      "00:28:29.06  apache-opennlp-1.9.1/docs/apidocs/opennlp-uima/opennlp/uima/tokeniz\n",
      "00:28:29.08  apache-opennlp-1.9.1/docs/opennlp-uima-descriptors/PersonNameFinder\n",
      "00:28:30.05  [Started...]                                                       \n",
      "00:28:30.85  Sentence: [Pierre, is, from, Paris, France.]                       \n",
      "00:28:30.86  [[0..1) person]                                                    \n",
      "00:28:30.87  Sentence: [John, is, from, London, England.]                       \n",
      "00:28:30.87  [[0..1) person]                                                    \n",
      "00:28:30.87  [...Finished]                                                      \n",
      "00:28:31.28  container finished with return code 0, duration 3.009486           \n",
      "00:28:31.28  completed in 97.16 seconds                                         \n",
      "(nlp-java-jvm-example) #33                            2019-11-27T00:30:02.241864\n",
      "Status: complete    Step: name-finder-peCommit: ~081836aba22          572 events\n",
      "================================================================================\n",
      "00:28:28.88  apache-opennlp-1.9.1/docs/apidocs/opennlp-tools/opennlp/tools/util/\n",
      "00:28:28.90  apache-opennlp-1.9.1/docs/apidocs/opennlp-tools/opennlp/tools/lemma\n",
      "00:28:28.92  apache-opennlp-1.9.1/docs/apidocs/opennlp-tools/opennlp/tools/ml/ma\n",
      "00:28:28.94  apache-opennlp-1.9.1/docs/apidocs/opennlp-tools/opennlp/tools/ml/pe\n",
      "00:28:28.96  apache-opennlp-1.9.1/docs/apidocs/opennlp-tools/opennlp/tools/posta\n",
      "00:28:28.98  apache-opennlp-1.9.1/docs/apidocs/opennlp-tools/opennlp/tools/forma\n",
      "00:28:29.00  apache-opennlp-1.9.1/docs/apidocs/opennlp-tools/opennlp/tools/forma\n",
      "00:28:29.02  apache-opennlp-1.9.1/docs/apidocs/opennlp-tools/opennlp/tools/forma\n",
      "00:28:29.04  apache-opennlp-1.9.1/docs/apidocs/opennlp-brat-annotator/opennlp/br\n",
      "00:28:29.06  apache-opennlp-1.9.1/docs/apidocs/opennlp-uima/opennlp/uima/tokeniz\n",
      "00:28:29.08  apache-opennlp-1.9.1/docs/opennlp-uima-descriptors/PersonNameFinder\n",
      "00:28:30.05  [Started...]                                                       \n",
      "00:28:30.85  Sentence: [Pierre, is, from, Paris, France.]                       \n",
      "00:28:30.86  [[0..1) person]                                                    \n",
      "00:28:30.87  Sentence: [John, is, from, London, England.]                       \n",
      "00:28:30.87  [[0..1) person]                                                    \n",
      "00:28:30.87  [...Finished]                                                      \n",
      "00:28:31.28  container finished with return code 0, duration 3.009486           \n",
      "00:28:31.28  completed in 97.16 seconds                                         \n",
      "(nlp-java-jvm-example) #33                            2019-11-27T00:30:03.438267\n",
      "Status: complete    Step: name-finder-peCommit: ~081836aba22          572 events\n",
      "================================================================================\n",
      "00:28:28.88  apache-opennlp-1.9.1/docs/apidocs/opennlp-tools/opennlp/tools/util/\n",
      "00:28:28.90  apache-opennlp-1.9.1/docs/apidocs/opennlp-tools/opennlp/tools/lemma\n",
      "00:28:28.92  apache-opennlp-1.9.1/docs/apidocs/opennlp-tools/opennlp/tools/ml/ma\n",
      "00:28:28.94  apache-opennlp-1.9.1/docs/apidocs/opennlp-tools/opennlp/tools/ml/pe\n",
      "00:28:28.96  apache-opennlp-1.9.1/docs/apidocs/opennlp-tools/opennlp/tools/posta\n",
      "00:28:28.98  apache-opennlp-1.9.1/docs/apidocs/opennlp-tools/opennlp/tools/forma\n",
      "00:28:29.00  apache-opennlp-1.9.1/docs/apidocs/opennlp-tools/opennlp/tools/forma\n",
      "00:28:29.02  apache-opennlp-1.9.1/docs/apidocs/opennlp-tools/opennlp/tools/forma\n",
      "00:28:29.04  apache-opennlp-1.9.1/docs/apidocs/opennlp-brat-annotator/opennlp/br\n",
      "00:28:29.06  apache-opennlp-1.9.1/docs/apidocs/opennlp-uima/opennlp/uima/tokeniz\n",
      "00:28:29.08  apache-opennlp-1.9.1/docs/opennlp-uima-descriptors/PersonNameFinder\n",
      "00:28:30.05  [Started...]                                                       \n",
      "00:28:30.85  Sentence: [Pierre, is, from, Paris, France.]                       \n",
      "00:28:30.86  [[0..1) person]                                                    \n",
      "00:28:30.87  Sentence: [John, is, from, London, England.]                       \n",
      "00:28:30.87  [[0..1) person]                                                    \n",
      "00:28:30.87  [...Finished]                                                      \n",
      "00:28:31.28  container finished with return code 0, duration 3.009486           \n",
      "00:28:31.28  completed in 97.16 seconds                                         \n"
     ]
    }
   ],
   "source": [
    "%system ./watch-execution.sh 57"
   ]
  },
  {
   "cell_type": "code",
   "execution_count": 154,
   "metadata": {},
   "outputs": [
    {
     "name": "stdout",
     "output_type": "stream",
     "text": [
      "Gathering output from counter 33\n",
      "00:28:30.05 [Started...]\n",
      "00:28:30.85 Sentence: [Pierre, is, from, Paris, France.]\n",
      "00:28:30.86 [[0..1) person]\n",
      "00:28:30.87 Sentence: [John, is, from, London, England.]\n",
      "00:28:30.87 [[0..1) person]\n",
      "00:28:30.87 [...Finished]\n",
      "00:28:31.28 container finished with return code 0, duration 3.009486\n",
      "00:28:31.28 completed in 97.16 seconds\n"
     ]
    }
   ],
   "source": [
    "%system ./show-final-result.sh 33"
   ]
  },
  {
   "cell_type": "markdown",
   "metadata": {},
   "source": [
    "**As you can see above, it has detected the name of the person in both sentences**"
   ]
  },
  {
   "cell_type": "markdown",
   "metadata": {},
   "source": [
    "Return to [Table of contents](#Table-of-contents)"
   ]
  },
  {
   "cell_type": "markdown",
   "metadata": {},
   "source": [
    "### More Name Finder API examples\n",
    "\n",
    "There are a handful more Name Finder related models i.e.\n",
    "\n",
    "- Name Finder Date\n",
    "- Name Finder Location\n",
    "- Name Finder Money\n",
    "- Name Finder Organization\n",
    "- Name Finder Percentage\n",
    "- Name Finder Time\n",
    "\n",
    "Their model names go by these names respectively:\n",
    "\n",
    "- en-ner-date.bin\n",
    "- en-ner-location.bin\n",
    "- en-ner-money.bin\n",
    "- en-ner-organization.bin\n",
    "- en-ner-percentage.bin\n",
    "- en-ner-time.bin\n",
    "\n",
    "and can be found at the same location all other models are found at, i.e. http://opennlp.sourceforge.net/models-1.5/"
   ]
  },
  {
   "cell_type": "markdown",
   "metadata": {},
   "source": [
    "Return to [Table of contents](#Table-of-contents)"
   ]
  },
  {
   "cell_type": "markdown",
   "metadata": {},
   "source": [
    "### Parts of speech (POS) Tagger API"
   ]
  },
  {
   "cell_type": "markdown",
   "metadata": {},
   "source": [
    "##### Show a simple example of Parts of speech tagger on a sentence using a PoS Tagger model called en-pos-maxent.bin on a remote instance (powered by Valohai), from within the notebook cell using cell magic!"
   ]
  },
  {
   "cell_type": "code",
   "execution_count": 141,
   "metadata": {
    "scrolled": true
   },
   "outputs": [
    {
     "name": "stdout",
     "output_type": "stream",
     "text": [
      "Executing step pos-tagger\n",
      "Packaging /home/jovyan/work...\n",
      "=>   Git not available, found 15 files to package\n",
      "😃  Success! Ad-hoc code ~081836aba2221ea232a42568193fb470d0287c5931204ec392ab22c61ae399dc already uploaded\n",
      "😻  Success! Execution #34 created. See https://app.valohai.com/p/neomatrix369/nlp-java-jvm-example/execution/016eaa41-405b-d39c-041d-834d48964c65/\n"
     ]
    }
   ],
   "source": [
    "%system ./exec-step.sh \"pos-tagger\""
   ]
  },
  {
   "cell_type": "code",
   "execution_count": 142,
   "metadata": {},
   "outputs": [
    {
     "name": "stdout",
     "output_type": "stream",
     "text": [
      "Watching counter 34\n",
      "(nlp-java-jvm-example) #34                            2019-11-27T00:27:17.361272\n",
      "Status: started     Step: pos-tagger    Commit: ~081836aba22           14 events\n",
      "================================================================================\n",
      "00:27:13.76  starting job on i-05915a3cc4afe54df, Peon 0.27.1                   \n",
      "00:27:13.78  free scratch space: 400.3 GB (400329969664 B)                      \n",
      "00:27:13.79  downloading repository (code)                                      \n",
      "00:27:13.80  /valohai/inputs/model/en-pos-maxent.bin: downloading http://opennlp\n",
      "00:27:13.80  /valohai/inputs/java-program/PoSTagger.java: downloading https://ra\n",
      "00:27:13.81  /valohai/inputs/apache-opennlp-jar/apache-opennlp-1.9.1-bin.tar.gz:\n",
      "00:27:13.81  /valohai/inputs/apache-opennlp-jar/apache-opennlp-1.9.1-bin.tar.gz:\n",
      "00:27:13.81  /valohai/inputs/apache-opennlp-jar/apache-opennlp-1.9.1-bin.tar.gz:\n",
      "00:27:13.82  /valohai/inputs/apache-opennlp-jar/apache-opennlp-1.9.1-bin.tar.gz:\n",
      "00:27:13.87  image neomatrix369/nlp-java:0.2 was found in cache                 \n",
      "00:27:13.98  /valohai/inputs/java-program/PoSTagger.java: downloaded, 1.5 kB    \n",
      "00:27:13.98  /valohai/inputs/java-program/PoSTagger.java: md5 sum: 227c3afeff590\n",
      "00:27:13.98  /valohai/inputs/java-program/PoSTagger.java: sha1 sum: 03dbb3d19afc\n",
      "00:27:13.98  /valohai/inputs/java-program/PoSTagger.java: sha256 sum: 645890a28a\n",
      "(nlp-java-jvm-example) #34                            2019-11-27T00:27:18.533824\n",
      "Status: started     Step: pos-tagger    Commit: ~081836aba22           15 events\n",
      "================================================================================\n",
      "00:27:13.76  starting job on i-05915a3cc4afe54df, Peon 0.27.1                   \n",
      "00:27:13.78  free scratch space: 400.3 GB (400329969664 B)                      \n",
      "00:27:13.79  downloading repository (code)                                      \n",
      "00:27:13.80  /valohai/inputs/model/en-pos-maxent.bin: downloading http://opennlp\n",
      "00:27:13.80  /valohai/inputs/java-program/PoSTagger.java: downloading https://ra\n",
      "00:27:13.81  /valohai/inputs/apache-opennlp-jar/apache-opennlp-1.9.1-bin.tar.gz:\n",
      "00:27:13.81  /valohai/inputs/apache-opennlp-jar/apache-opennlp-1.9.1-bin.tar.gz:\n",
      "00:27:13.81  /valohai/inputs/apache-opennlp-jar/apache-opennlp-1.9.1-bin.tar.gz:\n",
      "00:27:13.82  /valohai/inputs/apache-opennlp-jar/apache-opennlp-1.9.1-bin.tar.gz:\n",
      "00:27:13.87  image neomatrix369/nlp-java:0.2 was found in cache                 \n",
      "00:27:13.98  /valohai/inputs/java-program/PoSTagger.java: downloaded, 1.5 kB    \n",
      "00:27:13.98  /valohai/inputs/java-program/PoSTagger.java: md5 sum: 227c3afeff590\n",
      "00:27:13.98  /valohai/inputs/java-program/PoSTagger.java: sha1 sum: 03dbb3d19afc\n",
      "00:27:13.98  /valohai/inputs/java-program/PoSTagger.java: sha256 sum: 645890a28a\n",
      "00:27:17.46  /valohai/inputs/model/en-pos-maxent.bin: 3.1 MB downloaded (55.23%)\n",
      "(nlp-java-jvm-example) #34                            2019-11-27T00:27:19.708086\n",
      "Status: started     Step: pos-tagger    Commit: ~081836aba22           16 events\n",
      "================================================================================\n",
      "00:27:13.76  starting job on i-05915a3cc4afe54df, Peon 0.27.1                   \n",
      "00:27:13.78  free scratch space: 400.3 GB (400329969664 B)                      \n",
      "00:27:13.79  downloading repository (code)                                      \n",
      "00:27:13.80  /valohai/inputs/model/en-pos-maxent.bin: downloading http://opennlp\n",
      "00:27:13.80  /valohai/inputs/java-program/PoSTagger.java: downloading https://ra\n",
      "00:27:13.81  /valohai/inputs/apache-opennlp-jar/apache-opennlp-1.9.1-bin.tar.gz:\n",
      "00:27:13.81  /valohai/inputs/apache-opennlp-jar/apache-opennlp-1.9.1-bin.tar.gz:\n",
      "00:27:13.81  /valohai/inputs/apache-opennlp-jar/apache-opennlp-1.9.1-bin.tar.gz:\n",
      "00:27:13.82  /valohai/inputs/apache-opennlp-jar/apache-opennlp-1.9.1-bin.tar.gz:\n",
      "00:27:13.87  image neomatrix369/nlp-java:0.2 was found in cache                 \n",
      "00:27:13.98  /valohai/inputs/java-program/PoSTagger.java: downloaded, 1.5 kB    \n",
      "00:27:13.98  /valohai/inputs/java-program/PoSTagger.java: md5 sum: 227c3afeff590\n",
      "00:27:13.98  /valohai/inputs/java-program/PoSTagger.java: sha1 sum: 03dbb3d19afc\n",
      "00:27:13.98  /valohai/inputs/java-program/PoSTagger.java: sha256 sum: 645890a28a\n",
      "00:27:17.46  /valohai/inputs/model/en-pos-maxent.bin: 3.1 MB downloaded (55.23%)\n",
      "00:27:19.46  /valohai/inputs/model/en-pos-maxent.bin: 4.2 MB downloaded (73.63%)\n"
     ]
    }
   ],
   "source": [
    "%system ./watch-execution.sh 34"
   ]
  },
  {
   "cell_type": "code",
   "execution_count": 155,
   "metadata": {},
   "outputs": [
    {
     "name": "stdout",
     "output_type": "stream",
     "text": [
      "Gathering output from counter 34\n",
      "00:27:26.23 [Started...]\n",
      "00:27:27.22 Sentence: [Most, large, cities, in, the, US, had, morning, and, afternoon, newspapers, .]\n",
      "00:27:27.22 [JJS, JJ, NNS, IN, DT, NNP, VBD, NN, CC, NN, NNS, .]\n",
      "00:27:27.23 \n",
      "00:27:27.23 Probabilities of tags:\n",
      "00:27:27.23 0.6005488809717314\n",
      "00:27:27.23 0.9346347227057236\n",
      "00:27:27.23 0.9928943439421191\n",
      "00:27:27.23 0.993711911129381\n",
      "00:27:27.24 0.9959619800700815\n",
      "00:27:27.24 0.9632635300742168\n",
      "00:27:27.24 0.96904256131942\n",
      "00:27:27.24 0.936549747737236\n",
      "00:27:27.24 0.9706281118634225\n",
      "00:27:27.24 0.8831901977922334\n",
      "00:27:27.24 0.9711019283924753\n",
      "00:27:27.24 0.9931572030890747\n",
      "00:27:27.24 \n",
      "00:27:27.24 Tags as sequences (contains probabilities:\n",
      "00:27:27.24 [-0.9196402685290461 [JJS, JJ, NNS, IN, DT, NNP, VBD, NN, CC, NN, NNS, .], -1.4538683571912276 [RBS, JJ, NNS, IN, DT, NNP, VBD, NN, CC, NN, NNS, .], -5.124416242584632 [JJS, JJ, NNS, IN, DT, PRP, VBD, NN, CC, NN, NNS, .]]\n",
      "00:27:27.24 [...Finished]\n"
     ]
    }
   ],
   "source": [
    "%system ./show-final-result.sh 34"
   ]
  },
  {
   "cell_type": "markdown",
   "metadata": {},
   "source": [
    "Return to [Table of contents](#Table-of-contents)"
   ]
  },
  {
   "cell_type": "markdown",
   "metadata": {},
   "source": [
    "### Chunking API"
   ]
  },
  {
   "cell_type": "markdown",
   "metadata": {},
   "source": [
    "##### Show a simple example of chunking on a sentence using a Chunker model called en-chunker.bin on a remote instance (powered by Valohai), from within the notebook cell using cell magic!"
   ]
  },
  {
   "cell_type": "code",
   "execution_count": 144,
   "metadata": {
    "scrolled": true
   },
   "outputs": [
    {
     "name": "stdout",
     "output_type": "stream",
     "text": [
      "Executing step chunker\n",
      "Packaging /home/jovyan/work...\n",
      "=>   Git not available, found 15 files to package\n",
      "😃  Success! Ad-hoc code ~081836aba2221ea232a42568193fb470d0287c5931204ec392ab22c61ae399dc already uploaded\n",
      "😼  Success! Execution #35 created. See https://app.valohai.com/p/neomatrix369/nlp-java-jvm-example/execution/016eaa41-9477-3290-ff15-8119f600cc24/\n"
     ]
    }
   ],
   "source": [
    "%system ./exec-step.sh \"chunker\""
   ]
  },
  {
   "cell_type": "code",
   "execution_count": 145,
   "metadata": {},
   "outputs": [
    {
     "name": "stdout",
     "output_type": "stream",
     "text": [
      "Watching counter 35\n",
      "(nlp-java-jvm-example) #35                            2019-11-27T00:27:40.393003\n",
      "Status: started     Step: chunker       Commit: ~081836aba22           19 events\n",
      "================================================================================\n",
      "00:27:35.33  starting job on i-0ce501b6954a07890, Peon 0.27.1                   \n",
      "00:27:35.36  free scratch space: 403.4 GB (403421937664 B)                      \n",
      "00:27:35.37  downloading repository (code)                                      \n",
      "00:27:35.38  /valohai/inputs/java-program/Chunker.java: downloading https://raw.\n",
      "00:27:35.38  /valohai/inputs/apache-opennlp-jar/apache-opennlp-1.9.1-bin.tar.gz:\n",
      "00:27:35.38  /valohai/inputs/model/en-chunker.bin: downloading http://opennlp.so\n",
      "00:27:35.46  pulling image neomatrix369/nlp-java:0.2                            \n",
      "00:27:35.56  /valohai/inputs/java-program/Chunker.java: downloaded, 1.7 kB      \n",
      "00:27:35.57  /valohai/inputs/java-program/Chunker.java: md5 sum: cd797541f005bd4\n",
      "00:27:35.57  /valohai/inputs/java-program/Chunker.java: sha1 sum: 6464c016f3ac7b\n",
      "00:27:35.57  /valohai/inputs/java-program/Chunker.java: sha256 sum: e01707daa44c\n",
      "00:27:36.19  /valohai/inputs/apache-opennlp-jar/apache-opennlp-1.9.1-bin.tar.gz:\n",
      "00:27:36.19  /valohai/inputs/apache-opennlp-jar/apache-opennlp-1.9.1-bin.tar.gz:\n",
      "00:27:36.19  /valohai/inputs/apache-opennlp-jar/apache-opennlp-1.9.1-bin.tar.gz:\n",
      "00:27:36.19  /valohai/inputs/apache-opennlp-jar/apache-opennlp-1.9.1-bin.tar.gz:\n",
      "00:27:38.15  /valohai/inputs/model/en-chunker.bin: downloaded, 2.6 MB           \n",
      "00:27:38.15  /valohai/inputs/model/en-chunker.bin: md5 sum: f058c62bcdab7b6d6113\n",
      "00:27:38.15  /valohai/inputs/model/en-chunker.bin: sha1 sum: 9aa9314c0917a054403\n",
      "00:27:38.15  /valohai/inputs/model/en-chunker.bin: sha256 sum: 7861a0c2f134d9c12\n",
      "(nlp-java-jvm-example) #35                            2019-11-27T00:27:41.595757\n",
      "Status: started     Step: chunker       Commit: ~081836aba22           19 events\n",
      "================================================================================\n",
      "00:27:35.33  starting job on i-0ce501b6954a07890, Peon 0.27.1                   \n",
      "00:27:35.36  free scratch space: 403.4 GB (403421937664 B)                      \n",
      "00:27:35.37  downloading repository (code)                                      \n",
      "00:27:35.38  /valohai/inputs/java-program/Chunker.java: downloading https://raw.\n",
      "00:27:35.38  /valohai/inputs/apache-opennlp-jar/apache-opennlp-1.9.1-bin.tar.gz:\n",
      "00:27:35.38  /valohai/inputs/model/en-chunker.bin: downloading http://opennlp.so\n",
      "00:27:35.46  pulling image neomatrix369/nlp-java:0.2                            \n",
      "00:27:35.56  /valohai/inputs/java-program/Chunker.java: downloaded, 1.7 kB      \n",
      "00:27:35.57  /valohai/inputs/java-program/Chunker.java: md5 sum: cd797541f005bd4\n",
      "00:27:35.57  /valohai/inputs/java-program/Chunker.java: sha1 sum: 6464c016f3ac7b\n",
      "00:27:35.57  /valohai/inputs/java-program/Chunker.java: sha256 sum: e01707daa44c\n",
      "00:27:36.19  /valohai/inputs/apache-opennlp-jar/apache-opennlp-1.9.1-bin.tar.gz:\n",
      "00:27:36.19  /valohai/inputs/apache-opennlp-jar/apache-opennlp-1.9.1-bin.tar.gz:\n",
      "00:27:36.19  /valohai/inputs/apache-opennlp-jar/apache-opennlp-1.9.1-bin.tar.gz:\n",
      "00:27:36.19  /valohai/inputs/apache-opennlp-jar/apache-opennlp-1.9.1-bin.tar.gz:\n",
      "00:27:38.15  /valohai/inputs/model/en-chunker.bin: downloaded, 2.6 MB           \n",
      "00:27:38.15  /valohai/inputs/model/en-chunker.bin: md5 sum: f058c62bcdab7b6d6113\n",
      "00:27:38.15  /valohai/inputs/model/en-chunker.bin: sha1 sum: 9aa9314c0917a054403\n",
      "00:27:38.15  /valohai/inputs/model/en-chunker.bin: sha256 sum: 7861a0c2f134d9c12\n",
      "(nlp-java-jvm-example) #35                            2019-11-27T00:27:42.778898\n",
      "Status: started     Step: chunker       Commit: ~081836aba22           19 events\n",
      "================================================================================\n",
      "00:27:35.33  starting job on i-0ce501b6954a07890, Peon 0.27.1                   \n",
      "00:27:35.36  free scratch space: 403.4 GB (403421937664 B)                      \n",
      "00:27:35.37  downloading repository (code)                                      \n",
      "00:27:35.38  /valohai/inputs/java-program/Chunker.java: downloading https://raw.\n",
      "00:27:35.38  /valohai/inputs/apache-opennlp-jar/apache-opennlp-1.9.1-bin.tar.gz:\n",
      "00:27:35.38  /valohai/inputs/model/en-chunker.bin: downloading http://opennlp.so\n",
      "00:27:35.46  pulling image neomatrix369/nlp-java:0.2                            \n",
      "00:27:35.56  /valohai/inputs/java-program/Chunker.java: downloaded, 1.7 kB      \n",
      "00:27:35.57  /valohai/inputs/java-program/Chunker.java: md5 sum: cd797541f005bd4\n",
      "00:27:35.57  /valohai/inputs/java-program/Chunker.java: sha1 sum: 6464c016f3ac7b\n",
      "00:27:35.57  /valohai/inputs/java-program/Chunker.java: sha256 sum: e01707daa44c\n",
      "00:27:36.19  /valohai/inputs/apache-opennlp-jar/apache-opennlp-1.9.1-bin.tar.gz:\n",
      "00:27:36.19  /valohai/inputs/apache-opennlp-jar/apache-opennlp-1.9.1-bin.tar.gz:\n",
      "00:27:36.19  /valohai/inputs/apache-opennlp-jar/apache-opennlp-1.9.1-bin.tar.gz:\n",
      "00:27:36.19  /valohai/inputs/apache-opennlp-jar/apache-opennlp-1.9.1-bin.tar.gz:\n",
      "00:27:38.15  /valohai/inputs/model/en-chunker.bin: downloaded, 2.6 MB           \n",
      "00:27:38.15  /valohai/inputs/model/en-chunker.bin: md5 sum: f058c62bcdab7b6d6113\n",
      "00:27:38.15  /valohai/inputs/model/en-chunker.bin: sha1 sum: 9aa9314c0917a054403\n",
      "00:27:38.15  /valohai/inputs/model/en-chunker.bin: sha256 sum: 7861a0c2f134d9c12\n",
      "(nlp-java-jvm-example) #35                            2019-11-27T00:27:44.010627\n",
      "Status: started     Step: chunker       Commit: ~081836aba22           19 events\n",
      "================================================================================\n",
      "00:27:35.33  starting job on i-0ce501b6954a07890, Peon 0.27.1                   \n",
      "00:27:35.36  free scratch space: 403.4 GB (403421937664 B)                      \n",
      "00:27:35.37  downloading repository (code)                                      \n",
      "00:27:35.38  /valohai/inputs/java-program/Chunker.java: downloading https://raw.\n",
      "00:27:35.38  /valohai/inputs/apache-opennlp-jar/apache-opennlp-1.9.1-bin.tar.gz:\n",
      "00:27:35.38  /valohai/inputs/model/en-chunker.bin: downloading http://opennlp.so\n",
      "00:27:35.46  pulling image neomatrix369/nlp-java:0.2                            \n",
      "00:27:35.56  /valohai/inputs/java-program/Chunker.java: downloaded, 1.7 kB      \n",
      "00:27:35.57  /valohai/inputs/java-program/Chunker.java: md5 sum: cd797541f005bd4\n",
      "00:27:35.57  /valohai/inputs/java-program/Chunker.java: sha1 sum: 6464c016f3ac7b\n",
      "00:27:35.57  /valohai/inputs/java-program/Chunker.java: sha256 sum: e01707daa44c\n",
      "00:27:36.19  /valohai/inputs/apache-opennlp-jar/apache-opennlp-1.9.1-bin.tar.gz:\n",
      "00:27:36.19  /valohai/inputs/apache-opennlp-jar/apache-opennlp-1.9.1-bin.tar.gz:\n",
      "00:27:36.19  /valohai/inputs/apache-opennlp-jar/apache-opennlp-1.9.1-bin.tar.gz:\n",
      "00:27:36.19  /valohai/inputs/apache-opennlp-jar/apache-opennlp-1.9.1-bin.tar.gz:\n",
      "00:27:38.15  /valohai/inputs/model/en-chunker.bin: downloaded, 2.6 MB           \n",
      "00:27:38.15  /valohai/inputs/model/en-chunker.bin: md5 sum: f058c62bcdab7b6d6113\n",
      "00:27:38.15  /valohai/inputs/model/en-chunker.bin: sha1 sum: 9aa9314c0917a054403\n",
      "00:27:38.15  /valohai/inputs/model/en-chunker.bin: sha256 sum: 7861a0c2f134d9c12\n"
     ]
    }
   ],
   "source": [
    "%system ./watch-execution.sh 35"
   ]
  },
  {
   "cell_type": "code",
   "execution_count": 156,
   "metadata": {
    "scrolled": true
   },
   "outputs": [
    {
     "name": "stdout",
     "output_type": "stream",
     "text": [
      "Gathering output from counter 35\n",
      "00:29:14.99 [Started...]\n",
      "00:29:15.46 Sentence: [Rockwell, International, Corp., 's, Tulsa, unit, said, it, signed, a, tentative, agreement, extending, its, contract, with, Boeing, Co., to, provide, structural, parts, for, Boeing, 's, 747, jetliners, .]\n",
      "00:29:15.46 \n",
      "00:29:15.47 Tags chunked: [B-NP, I-NP, I-NP, B-NP, I-NP, I-NP, B-VP, B-NP, B-VP, B-NP, I-NP, I-NP, B-VP, B-NP, I-NP, B-PP, B-NP, I-NP, B-VP, I-VP, B-NP, I-NP, B-PP, B-NP, B-NP, I-NP, I-NP, O]\n",
      "00:29:15.47 \n",
      "00:29:15.47 Tags chunked (with probabilities): [-0.3533550124421968 [B-NP, I-NP, I-NP, B-NP, I-NP, I-NP, B-VP, B-NP, B-VP, B-NP, I-NP, I-NP, B-VP, B-NP, I-NP, B-PP, B-NP, I-NP, B-VP, I-VP, B-NP, I-NP, B-PP, B-NP, B-NP, I-NP, I-NP, O], -4.9833651782143225 [B-NP, I-NP, I-NP, B-NP, I-NP, I-NP, B-VP, B-NP, B-VP, B-NP, I-NP, I-NP, B-PP, B-NP, I-NP, B-PP, B-NP, I-NP, B-VP, I-VP, B-NP, I-NP, B-PP, B-NP, B-NP, I-NP, I-NP, O], -5.207232108117287 [B-NP, I-NP, I-NP, B-NP, I-NP, I-NP, B-VP, B-NP, B-VP, B-NP, I-NP, I-NP, I-NP, B-NP, I-NP, B-PP, B-NP, I-NP, B-VP, I-VP, B-NP, I-NP, B-PP, B-NP, B-NP, I-NP, I-NP, O], -5.250640871618706 [B-NP, I-NP, I-NP, B-NP, I-NP, O, B-VP, B-NP, B-VP, B-NP, I-NP, I-NP, B-VP, B-NP, I-NP, B-PP, B-NP, I-NP, B-VP, I-VP, B-NP, I-NP, B-PP, B-NP, B-NP, I-NP, I-NP, O], -5.2542712803928815 [B-NP, I-NP, I-NP, B-NP, I-NP, I-NP, B-VP, B-NP, B-VP, B-NP, I-NP, I-NP, B-VP, B-NP, I-NP, B-PP, B-NP, I-NP, B-VP, I-VP, B-NP, I-NP, B-PP, B-NP, B-NP, I-NP, B-VP, O], -5.669524713139481 [B-NP, I-NP, I-NP, B-NP, I-NP, I-NP, B-VP, B-NP, B-VP, B-NP, I-NP, I-NP, B-VP, B-NP, I-NP, B-PP, B-NP, I-NP, B-VP, I-VP, B-NP, I-NP, B-NP, B-NP, B-NP, I-NP, I-NP, O], -5.802479037079788 [B-NP, I-NP, B-PP, B-NP, I-NP, I-NP, B-VP, B-NP, B-VP, B-NP, I-NP, I-NP, B-VP, B-NP, I-NP, B-PP, B-NP, I-NP, B-VP, I-VP, B-NP, I-NP, B-PP, B-NP, B-NP, I-NP, I-NP, O], -5.811282463417802 [B-NP, I-NP, I-NP, B-NP, I-NP, I-NP, B-VP, B-NP, B-VP, B-NP, I-NP, I-NP, B-VP, B-NP, I-NP, B-PP, B-NP, O, B-VP, I-VP, B-NP, I-NP, B-PP, B-NP, B-NP, I-NP, I-NP, O], -5.878077943396101 [B-NP, I-NP, I-NP, B-NP, I-NP, I-NP, B-VP, B-NP, B-VP, B-NP, I-NP, I-NP, B-VP, B-NP, I-NP, B-PP, B-NP, I-NP, B-VP, I-VP, B-NP, I-NP, B-LST, B-NP, B-NP, I-NP, I-NP, O], -5.960383921186912 [B-NP, I-NP, I-NP, B-NP, I-NP, I-NP, B-ADVP, B-NP, B-VP, B-NP, I-NP, I-NP, B-VP, B-NP, I-NP, B-PP, B-NP, I-NP, B-VP, I-VP, B-NP, I-NP, B-PP, B-NP, B-NP, I-NP, I-NP, O]]\n",
      "00:29:15.47 \n",
      "00:29:15.47 [...Finished]\n",
      "00:29:16.09 container finished with return code 0, duration 3.010635\n",
      "00:29:16.09 completed in 100.76 seconds\n"
     ]
    }
   ],
   "source": [
    "%system ./show-final-result.sh 35"
   ]
  },
  {
   "cell_type": "markdown",
   "metadata": {},
   "source": [
    "Return to [Table of contents](#Table-of-contents)"
   ]
  },
  {
   "cell_type": "markdown",
   "metadata": {},
   "source": [
    "### Parsing API"
   ]
  },
  {
   "cell_type": "markdown",
   "metadata": {},
   "source": [
    "##### Show a simple example of parsing chunked sentences using a Parser Chunker model called en-parser-chunking.bin on a remote instance (powered by Valohai), from within the notebook cell using cell magic!"
   ]
  },
  {
   "cell_type": "code",
   "execution_count": 1,
   "metadata": {
    "scrolled": true
   },
   "outputs": [
    {
     "name": "stdout",
     "output_type": "stream",
     "text": [
      "Executing step parser\n",
      "Packaging /home/jovyan/work...\n",
      "=>   Git not available, found 15 files to package\n",
      "Uploading 27.9 kB...\n",
      "😸  Success! Uploaded ad-hoc code ~5fdb97fc287ff35abc100fd118818f36d778f44c47ea6d95edc3b7ed2d933875\n",
      "😻  Success! Execution #41 created. See https://app.valohai.com/p/neomatrix369/nlp-java-jvm-example/execution/016eaa4a-9838-abda-0242-2c4703c96706/\n"
     ]
    }
   ],
   "source": [
    "%system ./exec-step.sh \"parser\""
   ]
  },
  {
   "cell_type": "code",
   "execution_count": 7,
   "metadata": {},
   "outputs": [
    {
     "name": "stdout",
     "output_type": "stream",
     "text": [
      "Watching counter 41\n",
      "(nlp-java-jvm-example) #41                            2019-11-27T01:00:44.328579\n",
      "Status: error       Step: parser        Commit: ~5fdb97fc287          588 events\n",
      "================================================================================\n",
      "00:38:37.45  apache-opennlp-1.9.1/docs/apidocs/opennlp-tools/opennlp/tools/lemma\n",
      "00:38:37.47  apache-opennlp-1.9.1/docs/apidocs/opennlp-tools/opennlp/tools/ml/mo\n",
      "00:38:37.49  apache-opennlp-1.9.1/docs/apidocs/opennlp-tools/opennlp/tools/ml/na\n",
      "00:38:37.51  apache-opennlp-1.9.1/docs/apidocs/opennlp-tools/opennlp/tools/posta\n",
      "00:38:37.53  apache-opennlp-1.9.1/docs/apidocs/opennlp-tools/opennlp/tools/forma\n",
      "00:38:37.55  apache-opennlp-1.9.1/docs/apidocs/opennlp-tools/opennlp/tools/forma\n",
      "00:38:37.57  apache-opennlp-1.9.1/docs/apidocs/opennlp-tools/opennlp/tools/forma\n",
      "00:38:37.59  apache-opennlp-1.9.1/docs/apidocs/opennlp-tools/opennlp/tools/sentd\n",
      "00:38:37.61  apache-opennlp-1.9.1/docs/apidocs/opennlp-morfologik-addon/opennlp/\n",
      "00:38:37.63  apache-opennlp-1.9.1/docs/apidocs/opennlp-uima/opennlp/uima/doccat/\n",
      "00:38:38.70  [Started...]                                                       \n",
      "00:38:38.71  Exception in thread \"main\" java.io.FileNotFoundException: ../shared\n",
      "00:38:38.71  at java.base/java.io.FileInputStream.open0(Native Method)          \n",
      "00:38:38.71  at java.base/java.io.FileInputStream.open(FileInputStream.java:219)\n",
      "00:38:38.71  at java.base/java.io.FileInputStream.<init>(FileInputStream.java:15\n",
      "00:38:38.71  at java.base/java.io.FileInputStream.<init>(FileInputStream.java:11\n",
      "00:38:38.71  at ParserChunking.main(ParserChunking.java:14)                     \n",
      "00:38:39.88  container finished with return code 1, duration 3.008516           \n",
      "00:38:39.88  completed in 73.78 seconds                                         \n",
      "(nlp-java-jvm-example) #41                            2019-11-27T01:00:45.523975\n",
      "Status: error       Step: parser        Commit: ~5fdb97fc287          588 events\n",
      "================================================================================\n",
      "00:38:37.45  apache-opennlp-1.9.1/docs/apidocs/opennlp-tools/opennlp/tools/lemma\n",
      "00:38:37.47  apache-opennlp-1.9.1/docs/apidocs/opennlp-tools/opennlp/tools/ml/mo\n",
      "00:38:37.49  apache-opennlp-1.9.1/docs/apidocs/opennlp-tools/opennlp/tools/ml/na\n",
      "00:38:37.51  apache-opennlp-1.9.1/docs/apidocs/opennlp-tools/opennlp/tools/posta\n",
      "00:38:37.53  apache-opennlp-1.9.1/docs/apidocs/opennlp-tools/opennlp/tools/forma\n",
      "00:38:37.55  apache-opennlp-1.9.1/docs/apidocs/opennlp-tools/opennlp/tools/forma\n",
      "00:38:37.57  apache-opennlp-1.9.1/docs/apidocs/opennlp-tools/opennlp/tools/forma\n",
      "00:38:37.59  apache-opennlp-1.9.1/docs/apidocs/opennlp-tools/opennlp/tools/sentd\n",
      "00:38:37.61  apache-opennlp-1.9.1/docs/apidocs/opennlp-morfologik-addon/opennlp/\n",
      "00:38:37.63  apache-opennlp-1.9.1/docs/apidocs/opennlp-uima/opennlp/uima/doccat/\n",
      "00:38:38.70  [Started...]                                                       \n",
      "00:38:38.71  Exception in thread \"main\" java.io.FileNotFoundException: ../shared\n",
      "00:38:38.71  at java.base/java.io.FileInputStream.open0(Native Method)          \n",
      "00:38:38.71  at java.base/java.io.FileInputStream.open(FileInputStream.java:219)\n",
      "00:38:38.71  at java.base/java.io.FileInputStream.<init>(FileInputStream.java:15\n",
      "00:38:38.71  at java.base/java.io.FileInputStream.<init>(FileInputStream.java:11\n",
      "00:38:38.71  at ParserChunking.main(ParserChunking.java:14)                     \n",
      "00:38:39.88  container finished with return code 1, duration 3.008516           \n",
      "00:38:39.88  completed in 73.78 seconds                                         \n",
      "(nlp-java-jvm-example) #41                            2019-11-27T01:00:46.721714\n",
      "Status: error       Step: parser        Commit: ~5fdb97fc287          588 events\n",
      "================================================================================\n",
      "00:38:37.45  apache-opennlp-1.9.1/docs/apidocs/opennlp-tools/opennlp/tools/lemma\n",
      "00:38:37.47  apache-opennlp-1.9.1/docs/apidocs/opennlp-tools/opennlp/tools/ml/mo\n",
      "00:38:37.49  apache-opennlp-1.9.1/docs/apidocs/opennlp-tools/opennlp/tools/ml/na\n",
      "00:38:37.51  apache-opennlp-1.9.1/docs/apidocs/opennlp-tools/opennlp/tools/posta\n",
      "00:38:37.53  apache-opennlp-1.9.1/docs/apidocs/opennlp-tools/opennlp/tools/forma\n",
      "00:38:37.55  apache-opennlp-1.9.1/docs/apidocs/opennlp-tools/opennlp/tools/forma\n",
      "00:38:37.57  apache-opennlp-1.9.1/docs/apidocs/opennlp-tools/opennlp/tools/forma\n",
      "00:38:37.59  apache-opennlp-1.9.1/docs/apidocs/opennlp-tools/opennlp/tools/sentd\n",
      "00:38:37.61  apache-opennlp-1.9.1/docs/apidocs/opennlp-morfologik-addon/opennlp/\n",
      "00:38:37.63  apache-opennlp-1.9.1/docs/apidocs/opennlp-uima/opennlp/uima/doccat/\n",
      "00:38:38.70  [Started...]                                                       \n",
      "00:38:38.71  Exception in thread \"main\" java.io.FileNotFoundException: ../shared\n",
      "00:38:38.71  at java.base/java.io.FileInputStream.open0(Native Method)          \n",
      "00:38:38.71  at java.base/java.io.FileInputStream.open(FileInputStream.java:219)\n",
      "00:38:38.71  at java.base/java.io.FileInputStream.<init>(FileInputStream.java:15\n",
      "00:38:38.71  at java.base/java.io.FileInputStream.<init>(FileInputStream.java:11\n",
      "00:38:38.71  at ParserChunking.main(ParserChunking.java:14)                     \n",
      "00:38:39.88  container finished with return code 1, duration 3.008516           \n",
      "00:38:39.88  completed in 73.78 seconds                                         \n"
     ]
    }
   ],
   "source": [
    "%system ./watch-execution.sh 41"
   ]
  },
  {
   "cell_type": "code",
   "execution_count": 8,
   "metadata": {
    "scrolled": true
   },
   "outputs": [
    {
     "name": "stdout",
     "output_type": "stream",
     "text": [
      "Gathering output from counter 41\n",
      "00:38:38.70 [Started...]\n",
      "00:38:38.71 Exception in thread \"main\" java.io.FileNotFoundException: ../shared/en-parser-chunking.bin (No such file or directory)\n",
      "00:38:38.71 at java.base/java.io.FileInputStream.open0(Native Method)\n",
      "00:38:38.71 at java.base/java.io.FileInputStream.open(FileInputStream.java:219)\n",
      "00:38:38.71 at java.base/java.io.FileInputStream.<init>(FileInputStream.java:157)\n",
      "00:38:38.71 at java.base/java.io.FileInputStream.<init>(FileInputStream.java:112)\n",
      "00:38:38.71 at ParserChunking.main(ParserChunking.java:14)\n",
      "00:38:39.88 container finished with return code 1, duration 3.008516\n",
      "00:38:39.88 completed in 73.78 seconds\n"
     ]
    }
   ],
   "source": [
    "%system ./show-final-result.sh 41"
   ]
  },
  {
   "cell_type": "markdown",
   "metadata": {},
   "source": [
    "Return to [Table of contents](#Table-of-contents)"
   ]
  },
  {
   "cell_type": "markdown",
   "metadata": {},
   "source": [
    "### For more resources please refer to [Apache OpenNLP README](https://github.com/neomatrix369/nlp-java-jvm-example/blob/master/images/java/opennlp/README.md) and [Apache OpenNLP Resources](https://github.com/neomatrix369/nlp-java-jvm-example/blob/master/images/java/opennlp/README.md#resources)."
   ]
  }
 ],
 "metadata": {
  "kernelspec": {
   "display_name": "Java",
   "language": "java",
   "name": "java"
  },
  "language_info": {
   "codemirror_mode": "java",
   "file_extension": ".jshell",
   "mimetype": "text/x-java-source",
   "name": "Java",
   "pygments_lexer": "java",
   "version": "11.0.4+11"
  }
 },
 "nbformat": 4,
 "nbformat_minor": 2
}
