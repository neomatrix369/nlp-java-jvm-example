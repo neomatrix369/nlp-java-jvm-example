{
 "cells": [
  {
   "cell_type": "markdown",
   "metadata": {},
   "source": [
    "## Table of contents\n",
    "\n",
    "* [Find out the version info of the underlying JDK/JVM on which this notebook is running](#Find-out-the-version-info-of-the-underlying-JDK/JVM-on-which-this-notebook-is-running)\n",
    "* [Valohai command-line client](#Valohai-command-line-client)\n",
    "* [Set up project using the vh client](Set-up-project-using-the-vh-client)\n",
    "* Java bindings (Java API) via Valohai client\n",
    " * [Language Detector API](#Language-Detector-API)\n",
    " * [Sentence Detection API](#Sentence-Detection-API)\n",
    " * [Tokenizer API](#Tokenizer-API)\n",
    " * [Name Finder API](#Name-Finder-API)\n",
    " * [More Name Finder API examples](#More-Name-Finder-API-examples)\n",
    " * [Parts of speech (POS) Tagger API](#Parts-of-speech-(POS)-Tagger-API)\n",
    " * [Chunking API](#Chunking-API)\n",
    " * [Parsing API](#Parsing-API)"
   ]
  },
  {
   "cell_type": "markdown",
   "metadata": {},
   "source": [
    "### Find out the version info of the underlying JDK/JVM on which this notebook is running"
   ]
  },
  {
   "cell_type": "code",
   "execution_count": 85,
   "metadata": {},
   "outputs": [
    {
     "name": "stdout",
     "output_type": "stream",
     "text": [
      "java.version: 11.0.4\n"
     ]
    }
   ],
   "source": [
    "System.out.println(\"java.version: \" + System.getProperty(\"java.version\"));"
   ]
  },
  {
   "cell_type": "code",
   "execution_count": 86,
   "metadata": {},
   "outputs": [
    {
     "name": "stdout",
     "output_type": "stream",
     "text": [
      "java.specification.version: 11\n",
      "java.runtime.version: 11.0.4+11\n"
     ]
    }
   ],
   "source": [
    "System.out.println(\"java.specification.version: \" + System.getProperty(\"java.specification.version\"));\n",
    "System.out.println(\"java.runtime.version: \" + System.getProperty(\"java.runtime.version\"));"
   ]
  },
  {
   "cell_type": "code",
   "execution_count": 87,
   "metadata": {
    "scrolled": false
   },
   "outputs": [
    {
     "name": "stdout",
     "output_type": "stream",
     "text": [
      "java runtime VM version: 11.0.4+11\n"
     ]
    }
   ],
   "source": [
    "import java.lang.management.ManagementFactory;\n",
    "\n",
    "System.out.println(\"java runtime VM version: \" + ManagementFactory.getRuntimeMXBean().getVmVersion());"
   ]
  },
  {
   "cell_type": "markdown",
   "metadata": {},
   "source": [
    "Return to [Table of contents](#Table-of-contents)"
   ]
  },
  {
   "cell_type": "markdown",
   "metadata": {},
   "source": [
    "### Valohai command-line client"
   ]
  },
  {
   "cell_type": "code",
   "execution_count": 1,
   "metadata": {
    "scrolled": true
   },
   "outputs": [
    {
     "name": "stdout",
     "output_type": "stream",
     "text": [
      "Usage: vh [OPTIONS] COMMAND [ARGS]...\n",
      "\n",
      "  :type ctx: click.Context\n",
      "\n",
      "Options:\n",
      "  --debug / --no-debug\n",
      "  --output-format, --table-format [human|csv|tsv|scsv|psv|json]\n",
      "  --valohai-host URL              Override the Valohai API host (default\n",
      "                                  https://app.valohai.com/)  [env var:\n",
      "                                  VALOHAI_HOST]\n",
      "  --valohai-token SECRET          Use this Valohai authentication token  [env\n",
      "                                  var: VALOHAI_TOKEN]\n",
      "  --project UUID                  (Advanced) Override the project ID  [env\n",
      "                                  var: VALOHAI_PROJECT]\n",
      "  --project-mode local|remote     (Advanced) When using --project, set the\n",
      "                                  project mode  [env var:\n",
      "                                  VALOHAI_PROJECT_MODE]\n",
      "  --project-root DIR              (Advanced) When using --project, set the\n",
      "                                  project root directory  [env var:\n",
      "                                  VALOHAI_PROJECT_ROOT]\n",
      "  --help                          Show this message and exit.\n",
      "\n",
      "Commands:\n",
      "  environments  List all available execution environments.\n",
      "  execution     Execution-related commands.\n",
      "  init          Interactively initialize a Valohai project.\n",
      "  lint          Lint (syntax-check) a valohai.yaml file.\n",
      "  login         Log in into Valohai.\n",
      "  logout        Remove local authentication token.\n",
      "  parcel\n",
      "  project       Project-related commands.\n",
      "\n",
      "Commands (execution ...):\n",
      "  execution delete     Delete one or more executions, optionally purging their\n",
      "                       outputs as well.\n",
      "  execution info       Show execution info.\n",
      "  execution list       Show a list of executions for the project.\n",
      "  execution logs       Show or stream execution event log.\n",
      "  execution open       Open an execution in a web browser.\n",
      "  execution outputs    List and download execution outputs.\n",
      "  execution run        Start an execution of a step.\n",
      "  execution stop       Stop one or more in-progress executions.\n",
      "  execution summarize  Summarize execution metadata.\n",
      "  execution watch      Watch execution progress in a console UI.\n",
      "\n",
      "Commands (project ...):\n",
      "  project commits  List the commits for the linked project.\n",
      "  project create   Create a new project and optionally link it to the\n",
      "                   directory.\n",
      "  project fetch    Fetch new commits for the linked project.\n",
      "  project link     Link a directory with a Valohai project.\n",
      "  project list     List all projects.\n",
      "  project open     Open the project's view in a web browser.\n",
      "  project status   Get the general status of the linked project\n",
      "  project unlink   Unlink a linked Valohai project.\n"
     ]
    }
   ],
   "source": [
    "%system vh --help"
   ]
  },
  {
   "cell_type": "markdown",
   "metadata": {},
   "source": [
    "### Set up project using the vh client\n",
    "_Your Valohai token has must have been provided (and set) during startup of the container. Without this the rest of the commands in the notebook may not work. The below commands expects it and will run successfully when it is not set in the environment._"
   ]
  },
  {
   "cell_type": "code",
   "execution_count": 1,
   "metadata": {},
   "outputs": [
    {
     "name": "stdout",
     "output_type": "stream",
     "text": [
      "😼  Success! Project nlp-java-jvm-example created.\n",
      "🙂  Success! Linked /home/jovyan/work to nlp-java-jvm-example.\n"
     ]
    }
   ],
   "source": [
    "%system ./create-project.sh nlp-java-jvm-example"
   ]
  },
  {
   "cell_type": "markdown",
   "metadata": {},
   "source": [
    "### Language Detector API"
   ]
  },
  {
   "cell_type": "markdown",
   "metadata": {},
   "source": [
    "##### Show a simple example detecting a language of a sentence using a Language detecting model called langdetect-183.bin on a remote instance (powered by Valohai), from within the notebook cell using cell magic!"
   ]
  },
  {
   "cell_type": "code",
   "execution_count": 95,
   "metadata": {
    "scrolled": false
   },
   "outputs": [
    {
     "name": "stdout",
     "output_type": "stream",
     "text": [
      "Executing step detect-language\n",
      "Packaging /home/jovyan/work...\n",
      "=>   Git not available, found 15 files to package\n",
      "Uploading 27.1 kB...\n",
      "😻  Success! Uploaded ad-hoc code ~44cee86dfced86ab0d69df943757ffb65b46917eac1c3bbd31d42b4b138b190a\n",
      "😎  Success! Execution #23 created. See https://app.valohai.com/p/neomatrix369/nlp-java-jvm-example/execution/016eaa36-27d9-8731-b00a-f78d7fcd9afc/\n"
     ]
    }
   ],
   "source": [
    "%system ./exec-step.sh \"detect-language\""
   ]
  },
  {
   "cell_type": "code",
   "execution_count": 96,
   "metadata": {
    "scrolled": true
   },
   "outputs": [
    {
     "name": "stdout",
     "output_type": "stream",
     "text": [
      "Watching counter latest\n",
      "(nlp-java-jvm-example) #23                            2019-11-27T00:15:08.068091\n",
      "Status: started     Step: detect-languagCommit: ~44cee86dfce           16 events\n",
      "================================================================================\n",
      "00:15:06.72  starting job on i-08c1fa5e3a874d093, Peon 0.27.1                   \n",
      "00:15:06.73  free scratch space: 400.2 GB (400156061696 B)                      \n",
      "00:15:06.75  downloading repository (code)                                      \n",
      "00:15:06.77  /valohai/inputs/model/langdetect-183.bin: found in cache, 10.6 MB  \n",
      "00:15:06.77  /valohai/inputs/java-program/DetectLanguage.java: found in cache, 1\n",
      "00:15:06.77  /valohai/inputs/apache-opennlp-jar/apache-opennlp-1.9.1-bin.tar.gz:\n",
      "00:15:06.77  /valohai/inputs/model/langdetect-183.bin: md5 sum: 87be0a1cf60e5d89\n",
      "00:15:06.77  /valohai/inputs/java-program/DetectLanguage.java: md5 sum: e47ca724\n",
      "00:15:06.77  /valohai/inputs/apache-opennlp-jar/apache-opennlp-1.9.1-bin.tar.gz:\n",
      "00:15:06.77  /valohai/inputs/java-program/DetectLanguage.java: sha1 sum: bf66327\n",
      "00:15:06.77  /valohai/inputs/apache-opennlp-jar/apache-opennlp-1.9.1-bin.tar.gz:\n",
      "00:15:06.77  /valohai/inputs/model/langdetect-183.bin: sha1 sum: be8bf56c1b8cb1e\n",
      "00:15:06.77  /valohai/inputs/java-program/DetectLanguage.java: sha256 sum: 77c58\n",
      "00:15:06.77  /valohai/inputs/apache-opennlp-jar/apache-opennlp-1.9.1-bin.tar.gz:\n",
      "00:15:06.77  /valohai/inputs/model/langdetect-183.bin: sha256 sum: 2ddf585fac2e0\n",
      "00:15:06.84  image neomatrix369/nlp-java:0.2 was found in cache                 \n",
      "(nlp-java-jvm-example) #23                            2019-11-27T00:15:09.311445\n",
      "Status: started     Step: detect-languagCommit: ~44cee86dfce           16 events\n",
      "================================================================================\n",
      "00:15:06.72  starting job on i-08c1fa5e3a874d093, Peon 0.27.1                   \n",
      "00:15:06.73  free scratch space: 400.2 GB (400156061696 B)                      \n",
      "00:15:06.75  downloading repository (code)                                      \n",
      "00:15:06.77  /valohai/inputs/model/langdetect-183.bin: found in cache, 10.6 MB  \n",
      "00:15:06.77  /valohai/inputs/java-program/DetectLanguage.java: found in cache, 1\n",
      "00:15:06.77  /valohai/inputs/apache-opennlp-jar/apache-opennlp-1.9.1-bin.tar.gz:\n",
      "00:15:06.77  /valohai/inputs/model/langdetect-183.bin: md5 sum: 87be0a1cf60e5d89\n",
      "00:15:06.77  /valohai/inputs/java-program/DetectLanguage.java: md5 sum: e47ca724\n",
      "00:15:06.77  /valohai/inputs/apache-opennlp-jar/apache-opennlp-1.9.1-bin.tar.gz:\n",
      "00:15:06.77  /valohai/inputs/java-program/DetectLanguage.java: sha1 sum: bf66327\n",
      "00:15:06.77  /valohai/inputs/apache-opennlp-jar/apache-opennlp-1.9.1-bin.tar.gz:\n",
      "00:15:06.77  /valohai/inputs/model/langdetect-183.bin: sha1 sum: be8bf56c1b8cb1e\n",
      "00:15:06.77  /valohai/inputs/java-program/DetectLanguage.java: sha256 sum: 77c58\n",
      "00:15:06.77  /valohai/inputs/apache-opennlp-jar/apache-opennlp-1.9.1-bin.tar.gz:\n",
      "00:15:06.77  /valohai/inputs/model/langdetect-183.bin: sha256 sum: 2ddf585fac2e0\n",
      "00:15:06.84  image neomatrix369/nlp-java:0.2 was found in cache                 \n",
      "(nlp-java-jvm-example) #23                            2019-11-27T00:15:10.488671\n",
      "Status: started     Step: detect-languagCommit: ~44cee86dfce           16 events\n",
      "================================================================================\n",
      "00:15:06.72  starting job on i-08c1fa5e3a874d093, Peon 0.27.1                   \n",
      "00:15:06.73  free scratch space: 400.2 GB (400156061696 B)                      \n",
      "00:15:06.75  downloading repository (code)                                      \n",
      "00:15:06.77  /valohai/inputs/model/langdetect-183.bin: found in cache, 10.6 MB  \n",
      "00:15:06.77  /valohai/inputs/java-program/DetectLanguage.java: found in cache, 1\n",
      "00:15:06.77  /valohai/inputs/apache-opennlp-jar/apache-opennlp-1.9.1-bin.tar.gz:\n",
      "00:15:06.77  /valohai/inputs/model/langdetect-183.bin: md5 sum: 87be0a1cf60e5d89\n",
      "00:15:06.77  /valohai/inputs/java-program/DetectLanguage.java: md5 sum: e47ca724\n",
      "00:15:06.77  /valohai/inputs/apache-opennlp-jar/apache-opennlp-1.9.1-bin.tar.gz:\n",
      "00:15:06.77  /valohai/inputs/java-program/DetectLanguage.java: sha1 sum: bf66327\n",
      "00:15:06.77  /valohai/inputs/apache-opennlp-jar/apache-opennlp-1.9.1-bin.tar.gz:\n",
      "00:15:06.77  /valohai/inputs/model/langdetect-183.bin: sha1 sum: be8bf56c1b8cb1e\n",
      "00:15:06.77  /valohai/inputs/java-program/DetectLanguage.java: sha256 sum: 77c58\n",
      "00:15:06.77  /valohai/inputs/apache-opennlp-jar/apache-opennlp-1.9.1-bin.tar.gz:\n",
      "00:15:06.77  /valohai/inputs/model/langdetect-183.bin: sha256 sum: 2ddf585fac2e0\n",
      "00:15:06.84  image neomatrix369/nlp-java:0.2 was found in cache                 \n",
      "(nlp-java-jvm-example) #23                            2019-11-27T00:15:11.680196\n",
      "Status: started     Step: detect-languagCommit: ~44cee86dfce          106 events\n",
      "================================================================================\n",
      "00:15:11.63  apache-opennlp-1.9.1/lang/ga/sentdetect/abb.xml                    \n",
      "00:15:11.63  apache-opennlp-1.9.1/lang/es/parser/es-head-rules                  \n",
      "00:15:11.63  apache-opennlp-1.9.1/lang/pt/tokenizer/pt-detokenizer.xml          \n",
      "00:15:11.63  apache-opennlp-1.9.1/lang/en/parser/en-head_rules                  \n",
      "00:15:11.63  apache-opennlp-1.9.1/lang/en/namefinder/en-namefinder.xml          \n",
      "00:15:11.64  apache-opennlp-1.9.1/lang/en/postag/en-tagdict.xml                 \n",
      "00:15:11.64  apache-opennlp-1.9.1/lang/en/tokenizer/en-detokenizer.xml          \n",
      "00:15:11.64  apache-opennlp-1.9.1/docs/manual/                                  \n",
      "00:15:11.64  apache-opennlp-1.9.1/docs/manual/css/                              \n",
      "00:15:11.64  apache-opennlp-1.9.1/docs/manual/images/                           \n",
      "00:15:11.64  apache-opennlp-1.9.1/docs/manual/opennlp.html                      \n",
      "00:15:11.64  apache-opennlp-1.9.1/docs/manual/css/opennlp-docs.css              \n",
      "00:15:11.64  apache-opennlp-1.9.1/docs/manual/images/brat.png                   \n",
      "00:15:11.64  apache-opennlp-1.9.1/docs/apidocs/opennlp-tools/                   \n",
      "00:15:11.64  apache-opennlp-1.9.1/docs/apidocs/opennlp-tools/opennlp/           \n",
      "00:15:11.64  apache-opennlp-1.9.1/docs/apidocs/opennlp-tools/opennlp/tools/     \n",
      "00:15:11.65  apache-opennlp-1.9.1/docs/apidocs/opennlp-tools/opennlp/tools/chunk\n",
      "00:15:11.65  apache-opennlp-1.9.1/docs/apidocs/opennlp-tools/opennlp/tools/chunk\n",
      "00:15:11.65  apache-opennlp-1.9.1/docs/apidocs/opennlp-tools/opennlp/tools/parse\n"
     ]
    }
   ],
   "source": [
    "%system ./watch-execution.sh 23"
   ]
  },
  {
   "cell_type": "code",
   "execution_count": 97,
   "metadata": {},
   "outputs": [
    {
     "name": "stdout",
     "output_type": "stream",
     "text": [
      "Gathering output from counter latest\n",
      "Nothing found, maybe it failed, maybe its still running.\n",
      "Use the './watch-execution.sh latest' command to find out.\n"
     ]
    }
   ],
   "source": [
    "%system ./show-final-result.sh 23"
   ]
  },
  {
   "cell_type": "markdown",
   "metadata": {},
   "source": [
    "**Apparantly it detects this to be Latin, instead of English \n",
    "maybe the language detecting model needs more training.\n",
    "See https://opennlp.apache.org/docs/1.9.1/manual/opennlp.html#tools.langdetect.training on how this can be achieved**"
   ]
  },
  {
   "cell_type": "markdown",
   "metadata": {},
   "source": [
    "Return to [Table of contents](#Table-of-contents)"
   ]
  },
  {
   "cell_type": "markdown",
   "metadata": {},
   "source": [
    "### Sentence Detection API\n"
   ]
  },
  {
   "cell_type": "markdown",
   "metadata": {},
   "source": [
    "##### Show a simple example detecting sentences using a Sentence detecting model called en-sent.bin on a remote instance (powered by Valohai), from within the notebook cell using cell magic!"
   ]
  },
  {
   "cell_type": "code",
   "execution_count": 98,
   "metadata": {
    "scrolled": true
   },
   "outputs": [
    {
     "name": "stdout",
     "output_type": "stream",
     "text": [
      "Executing step detect-sentence\n",
      "Packaging /home/jovyan/work...\n",
      "=>   Git not available, found 15 files to package\n",
      "😸  Success! Ad-hoc code ~44cee86dfced86ab0d69df943757ffb65b46917eac1c3bbd31d42b4b138b190a already uploaded\n",
      "😸  Success! Execution #24 created. See https://app.valohai.com/p/neomatrix369/nlp-java-jvm-example/execution/016eaa36-496b-204a-1690-5601932f4ac2/\n"
     ]
    }
   ],
   "source": [
    "%system ./exec-step.sh \"detect-sentence\""
   ]
  },
  {
   "cell_type": "code",
   "execution_count": 99,
   "metadata": {},
   "outputs": [
    {
     "name": "stdout",
     "output_type": "stream",
     "text": [
      "Watching counter latest\n",
      "(nlp-java-jvm-example) #24                            2019-11-27T00:15:16.560006\n",
      "Status: started     Step: detect-sentencCommit: ~44cee86dfce           16 events\n",
      "================================================================================\n",
      "00:15:15.23  starting job on i-08c1fa5e3a874d093, Peon 0.27.1                   \n",
      "00:15:15.24  free scratch space: 400.1 GB (400096624640 B)                      \n",
      "00:15:15.24  downloading repository (code)                                      \n",
      "00:15:15.26  /valohai/inputs/model/en-sent.bin: found in cache, 98.5 kB         \n",
      "00:15:15.26  /valohai/inputs/apache-opennlp-jar/apache-opennlp-1.9.1-bin.tar.gz:\n",
      "00:15:15.27  /valohai/inputs/model/en-sent.bin: md5 sum: 3822c5f82cb4ba139284631\n",
      "00:15:15.27  /valohai/inputs/apache-opennlp-jar/apache-opennlp-1.9.1-bin.tar.gz:\n",
      "00:15:15.27  /valohai/inputs/model/en-sent.bin: sha1 sum: 5cc6337965fa2236ad7f08\n",
      "00:15:15.27  /valohai/inputs/apache-opennlp-jar/apache-opennlp-1.9.1-bin.tar.gz:\n",
      "00:15:15.27  /valohai/inputs/java-program/DetectSentence.java: found in cache, 1\n",
      "00:15:15.27  /valohai/inputs/model/en-sent.bin: sha256 sum: bd6adffc85d66ccffd09\n",
      "00:15:15.27  /valohai/inputs/apache-opennlp-jar/apache-opennlp-1.9.1-bin.tar.gz:\n",
      "00:15:15.27  /valohai/inputs/java-program/DetectSentence.java: md5 sum: c4ea161b\n",
      "00:15:15.27  /valohai/inputs/java-program/DetectSentence.java: sha1 sum: 29c2466\n",
      "00:15:15.27  /valohai/inputs/java-program/DetectSentence.java: sha256 sum: 14a50\n",
      "00:15:15.33  image neomatrix369/nlp-java:0.2 was found in cache                 \n",
      "(nlp-java-jvm-example) #24                            2019-11-27T00:15:17.748027\n",
      "Status: started     Step: detect-sentencCommit: ~44cee86dfce           16 events\n",
      "================================================================================\n",
      "00:15:15.23  starting job on i-08c1fa5e3a874d093, Peon 0.27.1                   \n",
      "00:15:15.24  free scratch space: 400.1 GB (400096624640 B)                      \n",
      "00:15:15.24  downloading repository (code)                                      \n",
      "00:15:15.26  /valohai/inputs/model/en-sent.bin: found in cache, 98.5 kB         \n",
      "00:15:15.26  /valohai/inputs/apache-opennlp-jar/apache-opennlp-1.9.1-bin.tar.gz:\n",
      "00:15:15.27  /valohai/inputs/model/en-sent.bin: md5 sum: 3822c5f82cb4ba139284631\n",
      "00:15:15.27  /valohai/inputs/apache-opennlp-jar/apache-opennlp-1.9.1-bin.tar.gz:\n",
      "00:15:15.27  /valohai/inputs/model/en-sent.bin: sha1 sum: 5cc6337965fa2236ad7f08\n",
      "00:15:15.27  /valohai/inputs/apache-opennlp-jar/apache-opennlp-1.9.1-bin.tar.gz:\n",
      "00:15:15.27  /valohai/inputs/java-program/DetectSentence.java: found in cache, 1\n",
      "00:15:15.27  /valohai/inputs/model/en-sent.bin: sha256 sum: bd6adffc85d66ccffd09\n",
      "00:15:15.27  /valohai/inputs/apache-opennlp-jar/apache-opennlp-1.9.1-bin.tar.gz:\n",
      "00:15:15.27  /valohai/inputs/java-program/DetectSentence.java: md5 sum: c4ea161b\n",
      "00:15:15.27  /valohai/inputs/java-program/DetectSentence.java: sha1 sum: 29c2466\n",
      "00:15:15.27  /valohai/inputs/java-program/DetectSentence.java: sha256 sum: 14a50\n",
      "00:15:15.33  image neomatrix369/nlp-java:0.2 was found in cache                 \n",
      "(nlp-java-jvm-example) #24                            2019-11-27T00:15:18.950190\n",
      "Status: started     Step: detect-sentencCommit: ~44cee86dfce           16 events\n",
      "================================================================================\n",
      "00:15:15.23  starting job on i-08c1fa5e3a874d093, Peon 0.27.1                   \n",
      "00:15:15.24  free scratch space: 400.1 GB (400096624640 B)                      \n",
      "00:15:15.24  downloading repository (code)                                      \n",
      "00:15:15.26  /valohai/inputs/model/en-sent.bin: found in cache, 98.5 kB         \n",
      "00:15:15.26  /valohai/inputs/apache-opennlp-jar/apache-opennlp-1.9.1-bin.tar.gz:\n",
      "00:15:15.27  /valohai/inputs/model/en-sent.bin: md5 sum: 3822c5f82cb4ba139284631\n",
      "00:15:15.27  /valohai/inputs/apache-opennlp-jar/apache-opennlp-1.9.1-bin.tar.gz:\n",
      "00:15:15.27  /valohai/inputs/model/en-sent.bin: sha1 sum: 5cc6337965fa2236ad7f08\n",
      "00:15:15.27  /valohai/inputs/apache-opennlp-jar/apache-opennlp-1.9.1-bin.tar.gz:\n",
      "00:15:15.27  /valohai/inputs/java-program/DetectSentence.java: found in cache, 1\n",
      "00:15:15.27  /valohai/inputs/model/en-sent.bin: sha256 sum: bd6adffc85d66ccffd09\n",
      "00:15:15.27  /valohai/inputs/apache-opennlp-jar/apache-opennlp-1.9.1-bin.tar.gz:\n",
      "00:15:15.27  /valohai/inputs/java-program/DetectSentence.java: md5 sum: c4ea161b\n",
      "00:15:15.27  /valohai/inputs/java-program/DetectSentence.java: sha1 sum: 29c2466\n",
      "00:15:15.27  /valohai/inputs/java-program/DetectSentence.java: sha256 sum: 14a50\n",
      "00:15:15.33  image neomatrix369/nlp-java:0.2 was found in cache                 \n",
      "(nlp-java-jvm-example) #24                            2019-11-27T00:15:20.164226\n",
      "Status: started     Step: detect-sentencCommit: ~44cee86dfce           73 events\n",
      "================================================================================\n",
      "00:15:20.11  apache-opennlp-1.9.1/bin/morfologik-addon.bat                      \n",
      "00:15:20.11  apache-opennlp-1.9.1/bin/brat-annotation-service.bat               \n",
      "00:15:20.11  apache-opennlp-1.9.1/bin/brat-annotation-service                   \n",
      "00:15:20.11  apache-opennlp-1.9.1/lang/                                         \n",
      "00:15:20.11  apache-opennlp-1.9.1/lang/fr/                                      \n",
      "00:15:20.11  apache-opennlp-1.9.1/lang/fr/tokenizer/                            \n",
      "00:15:20.12  apache-opennlp-1.9.1/lang/ml/                                      \n",
      "00:15:20.12  apache-opennlp-1.9.1/lang/general/                                 \n",
      "00:15:20.12  apache-opennlp-1.9.1/lang/general/tokenizer/                       \n",
      "00:15:20.12  apache-opennlp-1.9.1/lang/de/                                      \n",
      "00:15:20.12  apache-opennlp-1.9.1/lang/de/namefinder/                           \n",
      "00:15:20.12  apache-opennlp-1.9.1/lang/ga/                                      \n",
      "00:15:20.12  apache-opennlp-1.9.1/lang/ga/tokenizer/                            \n",
      "00:15:20.12  apache-opennlp-1.9.1/lang/ga/sentdetect/                           \n",
      "00:15:20.12  apache-opennlp-1.9.1/lang/es/                                      \n",
      "00:15:20.12  apache-opennlp-1.9.1/lang/es/parser/                               \n",
      "00:15:20.12  apache-opennlp-1.9.1/lang/pt/                                      \n",
      "00:15:20.13  apache-opennlp-1.9.1/lang/pt/tokenizer/                            \n",
      "00:15:20.13  apache-opennlp-1.9.1/lang/en/                                      \n"
     ]
    }
   ],
   "source": [
    "%system ./watch-execution.sh 24"
   ]
  },
  {
   "cell_type": "code",
   "execution_count": 100,
   "metadata": {},
   "outputs": [
    {
     "name": "stdout",
     "output_type": "stream",
     "text": [
      "Gathering output from counter latest\n",
      "Nothing found, maybe it failed, maybe its still running.\n",
      "Use the './watch-execution.sh latest' command to find out.\n"
     ]
    }
   ],
   "source": [
    "%system ./show-final-result.sh 24"
   ]
  },
  {
   "cell_type": "markdown",
   "metadata": {},
   "source": [
    "**As you can see the two ways to use the SentenceDetect API to detect sentences in a piece of text.**"
   ]
  },
  {
   "cell_type": "markdown",
   "metadata": {},
   "source": [
    "Return to [Table of contents](#Table-of-contents)"
   ]
  },
  {
   "cell_type": "markdown",
   "metadata": {},
   "source": [
    "### Tokenizer API"
   ]
  },
  {
   "cell_type": "markdown",
   "metadata": {},
   "source": [
    "##### Show a simple example of tokenization of a sentence using a Tokenizer model called en-token.bin on a remote instance (powered by Valohai), from within the notebook cell using cell magic!"
   ]
  },
  {
   "cell_type": "code",
   "execution_count": 101,
   "metadata": {
    "scrolled": true
   },
   "outputs": [
    {
     "name": "stdout",
     "output_type": "stream",
     "text": [
      "Executing step tokenize\n",
      "Packaging /home/jovyan/work...\n",
      "=>   Git not available, found 15 files to package\n",
      "😺  Success! Ad-hoc code ~44cee86dfced86ab0d69df943757ffb65b46917eac1c3bbd31d42b4b138b190a already uploaded\n",
      "😻  Success! Execution #25 created. See https://app.valohai.com/p/neomatrix369/nlp-java-jvm-example/execution/016eaa36-69ae-6dae-d7d4-784db8729ae6/\n"
     ]
    }
   ],
   "source": [
    "%system ./exec-step.sh \"tokenize\""
   ]
  },
  {
   "cell_type": "code",
   "execution_count": 102,
   "metadata": {
    "scrolled": true
   },
   "outputs": [
    {
     "name": "stdout",
     "output_type": "stream",
     "text": [
      "Watching counter latest\n",
      "(nlp-java-jvm-example) #25                            2019-11-27T00:15:24.864919\n",
      "Status: started     Step: tokenize-senteCommit: ~44cee86dfce           16 events\n",
      "================================================================================\n",
      "00:15:23.41  starting job on i-08c1fa5e3a874d093, Peon 0.27.1                   \n",
      "00:15:23.43  free scratch space: 400.0 GB (400047693824 B)                      \n",
      "00:15:23.44  downloading repository (code)                                      \n",
      "00:15:23.46  /valohai/inputs/java-program/Tokenize.java: found in cache, 1.2 kB \n",
      "00:15:23.46  /valohai/inputs/model/en-token.bin: found in cache, 439.9 kB       \n",
      "00:15:23.46  /valohai/inputs/model/en-token.bin: md5 sum: f38628ea25fc246e99fc5e\n",
      "00:15:23.46  /valohai/inputs/java-program/Tokenize.java: md5 sum: 588d4fcde491e2\n",
      "00:15:23.46  /valohai/inputs/apache-opennlp-jar/apache-opennlp-1.9.1-bin.tar.gz:\n",
      "00:15:23.46  /valohai/inputs/java-program/Tokenize.java: sha1 sum: 0bafc5177a992\n",
      "00:15:23.47  /valohai/inputs/apache-opennlp-jar/apache-opennlp-1.9.1-bin.tar.gz:\n",
      "00:15:23.47  /valohai/inputs/java-program/Tokenize.java: sha256 sum: 6d3480428dd\n",
      "00:15:23.47  /valohai/inputs/model/en-token.bin: sha1 sum: b9a0168d52518dbe30698\n",
      "00:15:23.47  /valohai/inputs/apache-opennlp-jar/apache-opennlp-1.9.1-bin.tar.gz:\n",
      "00:15:23.47  /valohai/inputs/apache-opennlp-jar/apache-opennlp-1.9.1-bin.tar.gz:\n",
      "00:15:23.47  /valohai/inputs/model/en-token.bin: sha256 sum: 2d0dd64ffb3d084382d\n",
      "00:15:23.53  image neomatrix369/nlp-java:0.2 was found in cache                 \n",
      "(nlp-java-jvm-example) #25                            2019-11-27T00:15:26.068948\n",
      "Status: started     Step: tokenize-senteCommit: ~44cee86dfce           16 events\n",
      "================================================================================\n",
      "00:15:23.41  starting job on i-08c1fa5e3a874d093, Peon 0.27.1                   \n",
      "00:15:23.43  free scratch space: 400.0 GB (400047693824 B)                      \n",
      "00:15:23.44  downloading repository (code)                                      \n",
      "00:15:23.46  /valohai/inputs/java-program/Tokenize.java: found in cache, 1.2 kB \n",
      "00:15:23.46  /valohai/inputs/model/en-token.bin: found in cache, 439.9 kB       \n",
      "00:15:23.46  /valohai/inputs/model/en-token.bin: md5 sum: f38628ea25fc246e99fc5e\n",
      "00:15:23.46  /valohai/inputs/java-program/Tokenize.java: md5 sum: 588d4fcde491e2\n",
      "00:15:23.46  /valohai/inputs/apache-opennlp-jar/apache-opennlp-1.9.1-bin.tar.gz:\n",
      "00:15:23.46  /valohai/inputs/java-program/Tokenize.java: sha1 sum: 0bafc5177a992\n",
      "00:15:23.47  /valohai/inputs/apache-opennlp-jar/apache-opennlp-1.9.1-bin.tar.gz:\n",
      "00:15:23.47  /valohai/inputs/java-program/Tokenize.java: sha256 sum: 6d3480428dd\n",
      "00:15:23.47  /valohai/inputs/model/en-token.bin: sha1 sum: b9a0168d52518dbe30698\n",
      "00:15:23.47  /valohai/inputs/apache-opennlp-jar/apache-opennlp-1.9.1-bin.tar.gz:\n",
      "00:15:23.47  /valohai/inputs/apache-opennlp-jar/apache-opennlp-1.9.1-bin.tar.gz:\n",
      "00:15:23.47  /valohai/inputs/model/en-token.bin: sha256 sum: 2d0dd64ffb3d084382d\n",
      "00:15:23.53  image neomatrix369/nlp-java:0.2 was found in cache                 \n",
      "(nlp-java-jvm-example) #25                            2019-11-27T00:15:27.277687\n",
      "Status: started     Step: tokenize-senteCommit: ~44cee86dfce           16 events\n",
      "================================================================================\n",
      "00:15:23.41  starting job on i-08c1fa5e3a874d093, Peon 0.27.1                   \n",
      "00:15:23.43  free scratch space: 400.0 GB (400047693824 B)                      \n",
      "00:15:23.44  downloading repository (code)                                      \n",
      "00:15:23.46  /valohai/inputs/java-program/Tokenize.java: found in cache, 1.2 kB \n",
      "00:15:23.46  /valohai/inputs/model/en-token.bin: found in cache, 439.9 kB       \n",
      "00:15:23.46  /valohai/inputs/model/en-token.bin: md5 sum: f38628ea25fc246e99fc5e\n",
      "00:15:23.46  /valohai/inputs/java-program/Tokenize.java: md5 sum: 588d4fcde491e2\n",
      "00:15:23.46  /valohai/inputs/apache-opennlp-jar/apache-opennlp-1.9.1-bin.tar.gz:\n",
      "00:15:23.46  /valohai/inputs/java-program/Tokenize.java: sha1 sum: 0bafc5177a992\n",
      "00:15:23.47  /valohai/inputs/apache-opennlp-jar/apache-opennlp-1.9.1-bin.tar.gz:\n",
      "00:15:23.47  /valohai/inputs/java-program/Tokenize.java: sha256 sum: 6d3480428dd\n",
      "00:15:23.47  /valohai/inputs/model/en-token.bin: sha1 sum: b9a0168d52518dbe30698\n",
      "00:15:23.47  /valohai/inputs/apache-opennlp-jar/apache-opennlp-1.9.1-bin.tar.gz:\n",
      "00:15:23.47  /valohai/inputs/apache-opennlp-jar/apache-opennlp-1.9.1-bin.tar.gz:\n",
      "00:15:23.47  /valohai/inputs/model/en-token.bin: sha256 sum: 2d0dd64ffb3d084382d\n",
      "00:15:23.53  image neomatrix369/nlp-java:0.2 was found in cache                 \n",
      "(nlp-java-jvm-example) #25                            2019-11-27T00:15:28.497493\n",
      "Status: started     Step: tokenize-senteCommit: ~44cee86dfce          453 events\n",
      "================================================================================\n",
      "00:15:28.43  apache-opennlp-1.9.1/docs/apidocs/opennlp-tools/opennlp/tools/token\n",
      "00:15:28.43  apache-opennlp-1.9.1/docs/apidocs/opennlp-tools/opennlp/tools/token\n",
      "00:15:28.43  apache-opennlp-1.9.1/docs/apidocs/opennlp-tools/opennlp/tools/token\n",
      "00:15:28.43  apache-opennlp-1.9.1/docs/apidocs/opennlp-tools/opennlp/tools/util/\n",
      "00:15:28.44  apache-opennlp-1.9.1/docs/apidocs/opennlp-tools/opennlp/tools/util/\n",
      "00:15:28.44  apache-opennlp-1.9.1/docs/apidocs/opennlp-tools/opennlp/tools/util/\n",
      "00:15:28.44  apache-opennlp-1.9.1/docs/apidocs/opennlp-tools/opennlp/tools/util/\n",
      "00:15:28.44  apache-opennlp-1.9.1/docs/apidocs/opennlp-tools/opennlp/tools/util/\n",
      "00:15:28.44  apache-opennlp-1.9.1/docs/apidocs/opennlp-tools/opennlp/tools/util/\n",
      "00:15:28.44  apache-opennlp-1.9.1/docs/apidocs/opennlp-tools/opennlp/tools/util/\n",
      "00:15:28.44  apache-opennlp-1.9.1/docs/apidocs/opennlp-tools/opennlp/tools/util/\n",
      "00:15:28.44  apache-opennlp-1.9.1/docs/apidocs/opennlp-tools/opennlp/tools/util/\n",
      "00:15:28.44  apache-opennlp-1.9.1/docs/apidocs/opennlp-tools/opennlp/tools/util/\n",
      "00:15:28.44  apache-opennlp-1.9.1/docs/apidocs/opennlp-tools/opennlp/tools/util/\n",
      "00:15:28.44  apache-opennlp-1.9.1/docs/apidocs/opennlp-tools/opennlp/tools/util/\n",
      "00:15:28.44  apache-opennlp-1.9.1/docs/apidocs/opennlp-tools/opennlp/tools/util/\n",
      "00:15:28.44  apache-opennlp-1.9.1/docs/apidocs/opennlp-tools/opennlp/tools/util/\n",
      "00:15:28.44  apache-opennlp-1.9.1/docs/apidocs/opennlp-tools/opennlp/tools/util/\n",
      "00:15:28.44  apache-opennlp-1.9.1/docs/apidocs/opennlp-tools/opennlp/tools/util/\n"
     ]
    }
   ],
   "source": [
    "%system ./watch-execution.sh 25"
   ]
  },
  {
   "cell_type": "code",
   "execution_count": 103,
   "metadata": {},
   "outputs": [
    {
     "name": "stdout",
     "output_type": "stream",
     "text": [
      "Gathering output from counter 15\n",
      "Nothing found, maybe it failed, maybe its still running.\n",
      "Use the './watch-execution.sh 15' command to find out.\n"
     ]
    }
   ],
   "source": [
    "%system ./show-final-result.sh 25"
   ]
  },
  {
   "cell_type": "markdown",
   "metadata": {},
   "source": [
    "Return to [Table of contents](#Table-of-contents)"
   ]
  },
  {
   "cell_type": "markdown",
   "metadata": {},
   "source": [
    "### Name Finder API"
   ]
  },
  {
   "cell_type": "markdown",
   "metadata": {},
   "source": [
    "##### Show a simple example of tokenization of a sentence using a Tokenizer model called en-token.bin on a remote instance (powered by Valohai), from within the notebook cell using cell magic!"
   ]
  },
  {
   "cell_type": "code",
   "execution_count": 105,
   "metadata": {
    "scrolled": true
   },
   "outputs": [
    {
     "name": "stdout",
     "output_type": "stream",
     "text": [
      "Executing step name-finder-person\n",
      "Packaging /home/jovyan/work...\n",
      "=>   Git not available, found 15 files to package\n",
      "😼  Success! Ad-hoc code ~44cee86dfced86ab0d69df943757ffb65b46917eac1c3bbd31d42b4b138b190a already uploaded\n",
      "😎  Success! Execution #26 created. See https://app.valohai.com/p/neomatrix369/nlp-java-jvm-example/execution/016eaa36-8f84-3867-623d-33136fa30f5a/\n"
     ]
    }
   ],
   "source": [
    "%system ./exec-step.sh \"name-finder-person\""
   ]
  },
  {
   "cell_type": "code",
   "execution_count": 106,
   "metadata": {},
   "outputs": [
    {
     "name": "stdout",
     "output_type": "stream",
     "text": [
      "Watching counter latest\n",
      "(nlp-java-jvm-example) #26                            2019-11-27T00:15:34.477259\n",
      "Status: started     Step: name-finder-peCommit: ~44cee86dfce           16 events\n",
      "================================================================================\n",
      "00:15:33.16  starting job on i-08c1fa5e3a874d093, Peon 0.27.1                   \n",
      "00:15:33.16  free scratch space: 400.0 GB (399998418944 B)                      \n",
      "00:15:33.17  downloading repository (code)                                      \n",
      "00:15:33.19  /valohai/inputs/model/en-ner-person.bin: found in cache, 5.2 MB    \n",
      "00:15:33.19  /valohai/inputs/apache-opennlp-jar/apache-opennlp-1.9.1-bin.tar.gz:\n",
      "00:15:33.19  /valohai/inputs/java-program/NameFinderPerson.java: found in cache,\n",
      "00:15:33.20  /valohai/inputs/model/en-ner-person.bin: md5 sum: 909b9017a13b2d69c\n",
      "00:15:33.20  /valohai/inputs/apache-opennlp-jar/apache-opennlp-1.9.1-bin.tar.gz:\n",
      "00:15:33.20  /valohai/inputs/java-program/NameFinderPerson.java: md5 sum: e63fd0\n",
      "00:15:33.20  /valohai/inputs/model/en-ner-person.bin: sha1 sum: 78da74299ae61b26\n",
      "00:15:33.20  /valohai/inputs/apache-opennlp-jar/apache-opennlp-1.9.1-bin.tar.gz:\n",
      "00:15:33.20  /valohai/inputs/model/en-ner-person.bin: sha256 sum: 687a9263d96b37\n",
      "00:15:33.20  /valohai/inputs/java-program/NameFinderPerson.java: sha1 sum: 43f00\n",
      "00:15:33.20  /valohai/inputs/apache-opennlp-jar/apache-opennlp-1.9.1-bin.tar.gz:\n",
      "00:15:33.20  /valohai/inputs/java-program/NameFinderPerson.java: sha256 sum: a27\n",
      "00:15:33.26  image neomatrix369/nlp-java:0.2 was found in cache                 \n",
      "(nlp-java-jvm-example) #26                            2019-11-27T00:15:35.669476\n",
      "Status: started     Step: name-finder-peCommit: ~44cee86dfce           16 events\n",
      "================================================================================\n",
      "00:15:33.16  starting job on i-08c1fa5e3a874d093, Peon 0.27.1                   \n",
      "00:15:33.16  free scratch space: 400.0 GB (399998418944 B)                      \n",
      "00:15:33.17  downloading repository (code)                                      \n",
      "00:15:33.19  /valohai/inputs/model/en-ner-person.bin: found in cache, 5.2 MB    \n",
      "00:15:33.19  /valohai/inputs/apache-opennlp-jar/apache-opennlp-1.9.1-bin.tar.gz:\n",
      "00:15:33.19  /valohai/inputs/java-program/NameFinderPerson.java: found in cache,\n",
      "00:15:33.20  /valohai/inputs/model/en-ner-person.bin: md5 sum: 909b9017a13b2d69c\n",
      "00:15:33.20  /valohai/inputs/apache-opennlp-jar/apache-opennlp-1.9.1-bin.tar.gz:\n",
      "00:15:33.20  /valohai/inputs/java-program/NameFinderPerson.java: md5 sum: e63fd0\n",
      "00:15:33.20  /valohai/inputs/model/en-ner-person.bin: sha1 sum: 78da74299ae61b26\n",
      "00:15:33.20  /valohai/inputs/apache-opennlp-jar/apache-opennlp-1.9.1-bin.tar.gz:\n",
      "00:15:33.20  /valohai/inputs/model/en-ner-person.bin: sha256 sum: 687a9263d96b37\n",
      "00:15:33.20  /valohai/inputs/java-program/NameFinderPerson.java: sha1 sum: 43f00\n",
      "00:15:33.20  /valohai/inputs/apache-opennlp-jar/apache-opennlp-1.9.1-bin.tar.gz:\n",
      "00:15:33.20  /valohai/inputs/java-program/NameFinderPerson.java: sha256 sum: a27\n",
      "00:15:33.26  image neomatrix369/nlp-java:0.2 was found in cache                 \n",
      "(nlp-java-jvm-example) #26                            2019-11-27T00:15:36.851491\n",
      "Status: started     Step: name-finder-peCommit: ~44cee86dfce           16 events\n",
      "================================================================================\n",
      "00:15:33.16  starting job on i-08c1fa5e3a874d093, Peon 0.27.1                   \n",
      "00:15:33.16  free scratch space: 400.0 GB (399998418944 B)                      \n",
      "00:15:33.17  downloading repository (code)                                      \n",
      "00:15:33.19  /valohai/inputs/model/en-ner-person.bin: found in cache, 5.2 MB    \n",
      "00:15:33.19  /valohai/inputs/apache-opennlp-jar/apache-opennlp-1.9.1-bin.tar.gz:\n",
      "00:15:33.19  /valohai/inputs/java-program/NameFinderPerson.java: found in cache,\n",
      "00:15:33.20  /valohai/inputs/model/en-ner-person.bin: md5 sum: 909b9017a13b2d69c\n",
      "00:15:33.20  /valohai/inputs/apache-opennlp-jar/apache-opennlp-1.9.1-bin.tar.gz:\n",
      "00:15:33.20  /valohai/inputs/java-program/NameFinderPerson.java: md5 sum: e63fd0\n",
      "00:15:33.20  /valohai/inputs/model/en-ner-person.bin: sha1 sum: 78da74299ae61b26\n",
      "00:15:33.20  /valohai/inputs/apache-opennlp-jar/apache-opennlp-1.9.1-bin.tar.gz:\n",
      "00:15:33.20  /valohai/inputs/model/en-ner-person.bin: sha256 sum: 687a9263d96b37\n",
      "00:15:33.20  /valohai/inputs/java-program/NameFinderPerson.java: sha1 sum: 43f00\n",
      "00:15:33.20  /valohai/inputs/apache-opennlp-jar/apache-opennlp-1.9.1-bin.tar.gz:\n",
      "00:15:33.20  /valohai/inputs/java-program/NameFinderPerson.java: sha256 sum: a27\n",
      "00:15:33.26  image neomatrix369/nlp-java:0.2 was found in cache                 \n",
      "(nlp-java-jvm-example) #26                            2019-11-27T00:15:38.034266\n",
      "Status: started     Step: name-finder-peCommit: ~44cee86dfce           21 events\n",
      "================================================================================\n",
      "00:15:33.16  free scratch space: 400.0 GB (399998418944 B)                      \n",
      "00:15:33.17  downloading repository (code)                                      \n",
      "00:15:33.19  /valohai/inputs/model/en-ner-person.bin: found in cache, 5.2 MB    \n",
      "00:15:33.19  /valohai/inputs/apache-opennlp-jar/apache-opennlp-1.9.1-bin.tar.gz:\n",
      "00:15:33.19  /valohai/inputs/java-program/NameFinderPerson.java: found in cache,\n",
      "00:15:33.20  /valohai/inputs/model/en-ner-person.bin: md5 sum: 909b9017a13b2d69c\n",
      "00:15:33.20  /valohai/inputs/apache-opennlp-jar/apache-opennlp-1.9.1-bin.tar.gz:\n",
      "00:15:33.20  /valohai/inputs/java-program/NameFinderPerson.java: md5 sum: e63fd0\n",
      "00:15:33.20  /valohai/inputs/model/en-ner-person.bin: sha1 sum: 78da74299ae61b26\n",
      "00:15:33.20  /valohai/inputs/apache-opennlp-jar/apache-opennlp-1.9.1-bin.tar.gz:\n",
      "00:15:33.20  /valohai/inputs/model/en-ner-person.bin: sha256 sum: 687a9263d96b37\n",
      "00:15:33.20  /valohai/inputs/java-program/NameFinderPerson.java: sha1 sum: 43f00\n",
      "00:15:33.20  /valohai/inputs/apache-opennlp-jar/apache-opennlp-1.9.1-bin.tar.gz:\n",
      "00:15:33.20  /valohai/inputs/java-program/NameFinderPerson.java: sha256 sum: a27\n",
      "00:15:33.26  image neomatrix369/nlp-java:0.2 was found in cache                 \n",
      "00:15:37.34  starting container with image neomatrix369/nlp-java@sha256:bacbeffa\n",
      "00:15:37.35  allocating 15.5 GB system memory to container                      \n",
      "00:15:37.35  /tmp memory filesystem size: 15.5 GB                               \n",
      "00:15:37.86  started container 0a7381a8107d63a9d144d5b2030be0d8e5c68e48446010968\n"
     ]
    }
   ],
   "source": [
    "%system ./watch-execution.sh 26"
   ]
  },
  {
   "cell_type": "code",
   "execution_count": 117,
   "metadata": {},
   "outputs": [
    {
     "name": "stdout",
     "output_type": "stream",
     "text": [
      "Gathering output from counter latest\n",
      "Nothing found, maybe it failed, maybe its still running.\n",
      "Use the './watch-execution.sh latest' command to find out.\n"
     ]
    }
   ],
   "source": [
    "%system ./show-final-result.sh 26"
   ]
  },
  {
   "cell_type": "markdown",
   "metadata": {},
   "source": [
    "**As you can see above, it has detected the name of the person in both sentences**"
   ]
  },
  {
   "cell_type": "markdown",
   "metadata": {},
   "source": [
    "Return to [Table of contents](#Table-of-contents)"
   ]
  },
  {
   "cell_type": "markdown",
   "metadata": {},
   "source": [
    "### More Name Finder API examples\n",
    "\n",
    "There are a handful more Name Finder related models i.e.\n",
    "\n",
    "- Name Finder Date\n",
    "- Name Finder Location\n",
    "- Name Finder Money\n",
    "- Name Finder Organization\n",
    "- Name Finder Percentage\n",
    "- Name Finder Time\n",
    "\n",
    "Their model names go by these names respectively:\n",
    "\n",
    "- en-ner-date.bin\n",
    "- en-ner-location.bin\n",
    "- en-ner-money.bin\n",
    "- en-ner-organization.bin\n",
    "- en-ner-percentage.bin\n",
    "- en-ner-time.bin\n",
    "\n",
    "and can be found at the same location all other models are found at, i.e. http://opennlp.sourceforge.net/models-1.5/"
   ]
  },
  {
   "cell_type": "markdown",
   "metadata": {},
   "source": [
    "Return to [Table of contents](#Table-of-contents)"
   ]
  },
  {
   "cell_type": "markdown",
   "metadata": {},
   "source": [
    "### Parts of speech (POS) Tagger API"
   ]
  },
  {
   "cell_type": "markdown",
   "metadata": {},
   "source": [
    "##### Show a simple example of Parts of speech tagger on a sentence using a PoS Tagger model called en-pos-maxent.bin on a remote instance (powered by Valohai), from within the notebook cell using cell magic!"
   ]
  },
  {
   "cell_type": "code",
   "execution_count": 108,
   "metadata": {
    "scrolled": true
   },
   "outputs": [
    {
     "name": "stdout",
     "output_type": "stream",
     "text": [
      "Executing step pos-tagger\n",
      "Packaging /home/jovyan/work...\n",
      "=>   Git not available, found 15 files to package\n",
      "😼  Success! Ad-hoc code ~44cee86dfced86ab0d69df943757ffb65b46917eac1c3bbd31d42b4b138b190a already uploaded\n",
      "😻  Success! Execution #27 created. See https://app.valohai.com/p/neomatrix369/nlp-java-jvm-example/execution/016eaa36-b070-63c3-7fc7-ff30a81b012a/\n"
     ]
    }
   ],
   "source": [
    "%system ./exec-step.sh \"pos-tagger\""
   ]
  },
  {
   "cell_type": "code",
   "execution_count": 109,
   "metadata": {},
   "outputs": [
    {
     "name": "stdout",
     "output_type": "stream",
     "text": [
      "Watching counter latest\n",
      "(nlp-java-jvm-example) #27                            2019-11-27T00:15:43.805001\n",
      "Status: started     Step: pos-tagger    Commit: ~44cee86dfce           16 events\n",
      "================================================================================\n",
      "00:15:42.31  starting job on i-08c1fa5e3a874d093, Peon 0.27.1                   \n",
      "00:15:42.32  free scratch space: 399.9 GB (399944376320 B)                      \n",
      "00:15:42.33  downloading repository (code)                                      \n",
      "00:15:42.35  /valohai/inputs/java-program/PoSTagger.java: found in cache, 1.4 kB\n",
      "00:15:42.35  /valohai/inputs/model/en-pos-maxent.bin: found in cache, 5.7 MB    \n",
      "00:15:42.35  /valohai/inputs/java-program/PoSTagger.java: md5 sum: dca9ccc386733\n",
      "00:15:42.35  /valohai/inputs/java-program/PoSTagger.java: sha1 sum: 2d12d93d7670\n",
      "00:15:42.35  /valohai/inputs/model/en-pos-maxent.bin: md5 sum: db2cd70395b9e2e4c\n",
      "00:15:42.35  /valohai/inputs/apache-opennlp-jar/apache-opennlp-1.9.1-bin.tar.gz:\n",
      "00:15:42.36  /valohai/inputs/java-program/PoSTagger.java: sha256 sum: e9632347ec\n",
      "00:15:42.36  /valohai/inputs/model/en-pos-maxent.bin: sha1 sum: 1cc32d397dd22570\n",
      "00:15:42.36  /valohai/inputs/model/en-pos-maxent.bin: sha256 sum: 645a094f45a866\n",
      "00:15:42.36  /valohai/inputs/apache-opennlp-jar/apache-opennlp-1.9.1-bin.tar.gz:\n",
      "00:15:42.36  /valohai/inputs/apache-opennlp-jar/apache-opennlp-1.9.1-bin.tar.gz:\n",
      "00:15:42.36  /valohai/inputs/apache-opennlp-jar/apache-opennlp-1.9.1-bin.tar.gz:\n",
      "00:15:42.42  image neomatrix369/nlp-java:0.2 was found in cache                 \n",
      "(nlp-java-jvm-example) #27                            2019-11-27T00:15:45.012613\n",
      "Status: started     Step: pos-tagger    Commit: ~44cee86dfce           16 events\n",
      "================================================================================\n",
      "00:15:42.31  starting job on i-08c1fa5e3a874d093, Peon 0.27.1                   \n",
      "00:15:42.32  free scratch space: 399.9 GB (399944376320 B)                      \n",
      "00:15:42.33  downloading repository (code)                                      \n",
      "00:15:42.35  /valohai/inputs/java-program/PoSTagger.java: found in cache, 1.4 kB\n",
      "00:15:42.35  /valohai/inputs/model/en-pos-maxent.bin: found in cache, 5.7 MB    \n",
      "00:15:42.35  /valohai/inputs/java-program/PoSTagger.java: md5 sum: dca9ccc386733\n",
      "00:15:42.35  /valohai/inputs/java-program/PoSTagger.java: sha1 sum: 2d12d93d7670\n",
      "00:15:42.35  /valohai/inputs/model/en-pos-maxent.bin: md5 sum: db2cd70395b9e2e4c\n",
      "00:15:42.35  /valohai/inputs/apache-opennlp-jar/apache-opennlp-1.9.1-bin.tar.gz:\n",
      "00:15:42.36  /valohai/inputs/java-program/PoSTagger.java: sha256 sum: e9632347ec\n",
      "00:15:42.36  /valohai/inputs/model/en-pos-maxent.bin: sha1 sum: 1cc32d397dd22570\n",
      "00:15:42.36  /valohai/inputs/model/en-pos-maxent.bin: sha256 sum: 645a094f45a866\n",
      "00:15:42.36  /valohai/inputs/apache-opennlp-jar/apache-opennlp-1.9.1-bin.tar.gz:\n",
      "00:15:42.36  /valohai/inputs/apache-opennlp-jar/apache-opennlp-1.9.1-bin.tar.gz:\n",
      "00:15:42.36  /valohai/inputs/apache-opennlp-jar/apache-opennlp-1.9.1-bin.tar.gz:\n",
      "00:15:42.42  image neomatrix369/nlp-java:0.2 was found in cache                 \n",
      "(nlp-java-jvm-example) #27                            2019-11-27T00:15:46.222513\n",
      "Status: started     Step: pos-tagger    Commit: ~44cee86dfce           16 events\n",
      "================================================================================\n",
      "00:15:42.31  starting job on i-08c1fa5e3a874d093, Peon 0.27.1                   \n",
      "00:15:42.32  free scratch space: 399.9 GB (399944376320 B)                      \n",
      "00:15:42.33  downloading repository (code)                                      \n",
      "00:15:42.35  /valohai/inputs/java-program/PoSTagger.java: found in cache, 1.4 kB\n",
      "00:15:42.35  /valohai/inputs/model/en-pos-maxent.bin: found in cache, 5.7 MB    \n",
      "00:15:42.35  /valohai/inputs/java-program/PoSTagger.java: md5 sum: dca9ccc386733\n",
      "00:15:42.35  /valohai/inputs/java-program/PoSTagger.java: sha1 sum: 2d12d93d7670\n",
      "00:15:42.35  /valohai/inputs/model/en-pos-maxent.bin: md5 sum: db2cd70395b9e2e4c\n",
      "00:15:42.35  /valohai/inputs/apache-opennlp-jar/apache-opennlp-1.9.1-bin.tar.gz:\n",
      "00:15:42.36  /valohai/inputs/java-program/PoSTagger.java: sha256 sum: e9632347ec\n",
      "00:15:42.36  /valohai/inputs/model/en-pos-maxent.bin: sha1 sum: 1cc32d397dd22570\n",
      "00:15:42.36  /valohai/inputs/model/en-pos-maxent.bin: sha256 sum: 645a094f45a866\n",
      "00:15:42.36  /valohai/inputs/apache-opennlp-jar/apache-opennlp-1.9.1-bin.tar.gz:\n",
      "00:15:42.36  /valohai/inputs/apache-opennlp-jar/apache-opennlp-1.9.1-bin.tar.gz:\n",
      "00:15:42.36  /valohai/inputs/apache-opennlp-jar/apache-opennlp-1.9.1-bin.tar.gz:\n",
      "00:15:42.42  image neomatrix369/nlp-java:0.2 was found in cache                 \n",
      "(nlp-java-jvm-example) #27                            2019-11-27T00:15:47.468489\n",
      "Status: started     Step: pos-tagger    Commit: ~44cee86dfce          358 events\n",
      "================================================================================\n",
      "00:15:47.39  apache-opennlp-1.9.1/docs/apidocs/opennlp-tools/opennlp/tools/docca\n",
      "00:15:47.39  apache-opennlp-1.9.1/docs/apidocs/opennlp-tools/opennlp/tools/docca\n",
      "00:15:47.39  apache-opennlp-1.9.1/docs/apidocs/opennlp-tools/opennlp/tools/docca\n",
      "00:15:47.40  apache-opennlp-1.9.1/docs/apidocs/opennlp-tools/opennlp/tools/docca\n",
      "00:15:47.40  apache-opennlp-1.9.1/docs/apidocs/opennlp-tools/opennlp/tools/docca\n",
      "00:15:47.40  apache-opennlp-1.9.1/docs/apidocs/opennlp-tools/opennlp/tools/docca\n",
      "00:15:47.40  apache-opennlp-1.9.1/docs/apidocs/opennlp-tools/opennlp/tools/docca\n",
      "00:15:47.40  apache-opennlp-1.9.1/docs/apidocs/opennlp-tools/opennlp/tools/docca\n",
      "00:15:47.40  apache-opennlp-1.9.1/docs/apidocs/opennlp-tools/opennlp/tools/docca\n",
      "00:15:47.40  apache-opennlp-1.9.1/docs/apidocs/opennlp-tools/opennlp/tools/docca\n",
      "00:15:47.40  apache-opennlp-1.9.1/docs/apidocs/opennlp-tools/opennlp/tools/docca\n",
      "00:15:47.40  apache-opennlp-1.9.1/docs/apidocs/opennlp-tools/opennlp/tools/docca\n",
      "00:15:47.40  apache-opennlp-1.9.1/docs/apidocs/opennlp-tools/opennlp/tools/docca\n",
      "00:15:47.40  apache-opennlp-1.9.1/docs/apidocs/opennlp-tools/opennlp/tools/docca\n",
      "00:15:47.40  apache-opennlp-1.9.1/docs/apidocs/opennlp-tools/opennlp/tools/docca\n",
      "00:15:47.40  apache-opennlp-1.9.1/docs/apidocs/opennlp-tools/opennlp/tools/docca\n",
      "00:15:47.41  apache-opennlp-1.9.1/docs/apidocs/opennlp-tools/opennlp/tools/docca\n",
      "00:15:47.41  apache-opennlp-1.9.1/docs/apidocs/opennlp-tools/opennlp/tools/docca\n",
      "00:15:47.41  apache-opennlp-1.9.1/docs/apidocs/opennlp-tools/opennlp/tools/docca\n"
     ]
    }
   ],
   "source": [
    "%system ./watch-execution.sh 27"
   ]
  },
  {
   "cell_type": "code",
   "execution_count": 118,
   "metadata": {},
   "outputs": [
    {
     "name": "stdout",
     "output_type": "stream",
     "text": [
      "Gathering output from counter 27\n",
      "00:15:48.87 [Started...]\n",
      "00:15:49.90 Sentence: [Most, large, cities, in, the, US, had, morning, and, afternoon, newspapers, .]\n",
      "00:15:49.90 [JJS, JJ, NNS, IN, DT, NNP, VBD, NN, CC, NN, NNS, .]\n",
      "00:15:49.91 \n",
      "00:15:49.91 Probabilities of tags:\n",
      "00:15:49.91 0.6005488809717314\n",
      "00:15:49.91 0.9346347227057236\n",
      "00:15:49.91 0.9928943439421191\n",
      "00:15:49.91 0.993711911129381\n",
      "00:15:49.92 0.9959619800700815\n",
      "00:15:49.92 0.9632635300742168\n",
      "00:15:49.92 0.96904256131942\n",
      "00:15:49.92 0.936549747737236\n",
      "00:15:49.92 0.9706281118634225\n",
      "00:15:49.92 0.8831901977922334\n",
      "00:15:49.92 0.9711019283924753\n",
      "00:15:49.92 0.9931572030890747\n",
      "00:15:49.92 \n",
      "00:15:49.92 Tags as sequences (contains probabilities:\n",
      "00:15:49.92 [-0.9196402685290461 [JJS, JJ, NNS, IN, DT, NNP, VBD, NN, CC, NN, NNS, .], -1.4538683571912276 [RBS, JJ, NNS, IN, DT, NNP, VBD, NN, CC, NN, NNS, .], -5.124416242584632 [JJS, JJ, NNS, IN, DT, PRP, VBD, NN, CC, NN, NNS, .]]\n",
      "00:15:49.92 [...Finished]\n"
     ]
    }
   ],
   "source": [
    "%system ./show-final-result.sh 27"
   ]
  },
  {
   "cell_type": "markdown",
   "metadata": {},
   "source": [
    "Return to [Table of contents](#Table-of-contents)"
   ]
  },
  {
   "cell_type": "markdown",
   "metadata": {},
   "source": [
    "### Chunking API"
   ]
  },
  {
   "cell_type": "markdown",
   "metadata": {},
   "source": [
    "##### Show a simple example of chunking on a sentence using a Chunker model called en-chunker.bin on a remote instance (powered by Valohai), from within the notebook cell using cell magic!"
   ]
  },
  {
   "cell_type": "code",
   "execution_count": 111,
   "metadata": {
    "scrolled": true
   },
   "outputs": [
    {
     "name": "stdout",
     "output_type": "stream",
     "text": [
      "Executing step chunker\n",
      "Packaging /home/jovyan/work...\n",
      "=>   Git not available, found 15 files to package\n",
      "😻  Success! Ad-hoc code ~44cee86dfced86ab0d69df943757ffb65b46917eac1c3bbd31d42b4b138b190a already uploaded\n",
      "😀  Success! Execution #28 created. See https://app.valohai.com/p/neomatrix369/nlp-java-jvm-example/execution/016eaa36-d425-9b92-9cbf-c88e4cfdbfe2/\n"
     ]
    }
   ],
   "source": [
    "%system ./exec-step.sh \"chunker\""
   ]
  },
  {
   "cell_type": "code",
   "execution_count": 119,
   "metadata": {},
   "outputs": [
    {
     "name": "stdout",
     "output_type": "stream",
     "text": [
      "Watching counter 28\n",
      "(nlp-java-jvm-example) #28                            2019-11-27T00:16:39.814364\n",
      "Status: error       Step: chunker       Commit: ~44cee86dfce          560 events\n",
      "================================================================================\n",
      "00:15:57.61  apache-opennlp-1.9.1/docs/apidocs/opennlp-tools/opennlp/tools/util/\n",
      "00:15:57.63  apache-opennlp-1.9.1/docs/apidocs/opennlp-tools/opennlp/tools/ml/mo\n",
      "00:15:57.65  apache-opennlp-1.9.1/docs/apidocs/opennlp-tools/opennlp/tools/ml/na\n",
      "00:15:57.67  apache-opennlp-1.9.1/docs/apidocs/opennlp-tools/opennlp/tools/posta\n",
      "00:15:57.69  apache-opennlp-1.9.1/docs/apidocs/opennlp-tools/opennlp/tools/forma\n",
      "00:15:57.71  apache-opennlp-1.9.1/docs/apidocs/opennlp-tools/opennlp/tools/forma\n",
      "00:15:57.73  apache-opennlp-1.9.1/docs/apidocs/opennlp-tools/opennlp/tools/forma\n",
      "00:15:57.75  apache-opennlp-1.9.1/docs/apidocs/opennlp-tools/opennlp/tools/langd\n",
      "00:15:57.77  apache-opennlp-1.9.1/docs/apidocs/opennlp-morfologik-addon/opennlp/\n",
      "00:15:57.79  apache-opennlp-1.9.1/docs/apidocs/opennlp-uima/opennlp/uima/util/cl\n",
      "00:15:57.81  apache-opennlp-1.9.1/lib/jackson-module-jaxb-annotations-2.8.4.jar \n",
      "00:15:58.61  Chunker.java:27: error: cannot find symbol                         \n",
      "00:15:58.61  Sequence topSequences[] = chunker.topKSequences(sentence, pos);    \n",
      "00:15:58.62  ^                                                                  \n",
      "00:15:58.62  symbol:   class Sequence                                           \n",
      "00:15:58.62  location: class Chunker                                            \n",
      "00:15:58.65  1 error                                                            \n",
      "00:15:59.09  container finished with return code 1, duration 2.02277            \n",
      "00:15:59.09  completed in 6.62 seconds                                          \n",
      "(nlp-java-jvm-example) #28                            2019-11-27T00:16:41.016414\n",
      "Status: error       Step: chunker       Commit: ~44cee86dfce          560 events\n",
      "================================================================================\n",
      "00:15:57.61  apache-opennlp-1.9.1/docs/apidocs/opennlp-tools/opennlp/tools/util/\n",
      "00:15:57.63  apache-opennlp-1.9.1/docs/apidocs/opennlp-tools/opennlp/tools/ml/mo\n",
      "00:15:57.65  apache-opennlp-1.9.1/docs/apidocs/opennlp-tools/opennlp/tools/ml/na\n",
      "00:15:57.67  apache-opennlp-1.9.1/docs/apidocs/opennlp-tools/opennlp/tools/posta\n",
      "00:15:57.69  apache-opennlp-1.9.1/docs/apidocs/opennlp-tools/opennlp/tools/forma\n",
      "00:15:57.71  apache-opennlp-1.9.1/docs/apidocs/opennlp-tools/opennlp/tools/forma\n",
      "00:15:57.73  apache-opennlp-1.9.1/docs/apidocs/opennlp-tools/opennlp/tools/forma\n",
      "00:15:57.75  apache-opennlp-1.9.1/docs/apidocs/opennlp-tools/opennlp/tools/langd\n",
      "00:15:57.77  apache-opennlp-1.9.1/docs/apidocs/opennlp-morfologik-addon/opennlp/\n",
      "00:15:57.79  apache-opennlp-1.9.1/docs/apidocs/opennlp-uima/opennlp/uima/util/cl\n",
      "00:15:57.81  apache-opennlp-1.9.1/lib/jackson-module-jaxb-annotations-2.8.4.jar \n",
      "00:15:58.61  Chunker.java:27: error: cannot find symbol                         \n",
      "00:15:58.61  Sequence topSequences[] = chunker.topKSequences(sentence, pos);    \n",
      "00:15:58.62  ^                                                                  \n",
      "00:15:58.62  symbol:   class Sequence                                           \n",
      "00:15:58.62  location: class Chunker                                            \n",
      "00:15:58.65  1 error                                                            \n",
      "00:15:59.09  container finished with return code 1, duration 2.02277            \n",
      "00:15:59.09  completed in 6.62 seconds                                          \n",
      "(nlp-java-jvm-example) #28                            2019-11-27T00:16:42.202098\n",
      "Status: error       Step: chunker       Commit: ~44cee86dfce          560 events\n",
      "================================================================================\n",
      "00:15:57.61  apache-opennlp-1.9.1/docs/apidocs/opennlp-tools/opennlp/tools/util/\n",
      "00:15:57.63  apache-opennlp-1.9.1/docs/apidocs/opennlp-tools/opennlp/tools/ml/mo\n",
      "00:15:57.65  apache-opennlp-1.9.1/docs/apidocs/opennlp-tools/opennlp/tools/ml/na\n",
      "00:15:57.67  apache-opennlp-1.9.1/docs/apidocs/opennlp-tools/opennlp/tools/posta\n",
      "00:15:57.69  apache-opennlp-1.9.1/docs/apidocs/opennlp-tools/opennlp/tools/forma\n",
      "00:15:57.71  apache-opennlp-1.9.1/docs/apidocs/opennlp-tools/opennlp/tools/forma\n",
      "00:15:57.73  apache-opennlp-1.9.1/docs/apidocs/opennlp-tools/opennlp/tools/forma\n",
      "00:15:57.75  apache-opennlp-1.9.1/docs/apidocs/opennlp-tools/opennlp/tools/langd\n",
      "00:15:57.77  apache-opennlp-1.9.1/docs/apidocs/opennlp-morfologik-addon/opennlp/\n",
      "00:15:57.79  apache-opennlp-1.9.1/docs/apidocs/opennlp-uima/opennlp/uima/util/cl\n",
      "00:15:57.81  apache-opennlp-1.9.1/lib/jackson-module-jaxb-annotations-2.8.4.jar \n",
      "00:15:58.61  Chunker.java:27: error: cannot find symbol                         \n",
      "00:15:58.61  Sequence topSequences[] = chunker.topKSequences(sentence, pos);    \n",
      "00:15:58.62  ^                                                                  \n",
      "00:15:58.62  symbol:   class Sequence                                           \n",
      "00:15:58.62  location: class Chunker                                            \n",
      "00:15:58.65  1 error                                                            \n",
      "00:15:59.09  container finished with return code 1, duration 2.02277            \n",
      "00:15:59.09  completed in 6.62 seconds                                          \n",
      "(nlp-java-jvm-example) #28                            2019-11-27T00:16:43.389842\n",
      "Status: error       Step: chunker       Commit: ~44cee86dfce          560 events\n",
      "================================================================================\n",
      "00:15:57.61  apache-opennlp-1.9.1/docs/apidocs/opennlp-tools/opennlp/tools/util/\n",
      "00:15:57.63  apache-opennlp-1.9.1/docs/apidocs/opennlp-tools/opennlp/tools/ml/mo\n",
      "00:15:57.65  apache-opennlp-1.9.1/docs/apidocs/opennlp-tools/opennlp/tools/ml/na\n",
      "00:15:57.67  apache-opennlp-1.9.1/docs/apidocs/opennlp-tools/opennlp/tools/posta\n",
      "00:15:57.69  apache-opennlp-1.9.1/docs/apidocs/opennlp-tools/opennlp/tools/forma\n",
      "00:15:57.71  apache-opennlp-1.9.1/docs/apidocs/opennlp-tools/opennlp/tools/forma\n",
      "00:15:57.73  apache-opennlp-1.9.1/docs/apidocs/opennlp-tools/opennlp/tools/forma\n",
      "00:15:57.75  apache-opennlp-1.9.1/docs/apidocs/opennlp-tools/opennlp/tools/langd\n",
      "00:15:57.77  apache-opennlp-1.9.1/docs/apidocs/opennlp-morfologik-addon/opennlp/\n",
      "00:15:57.79  apache-opennlp-1.9.1/docs/apidocs/opennlp-uima/opennlp/uima/util/cl\n",
      "00:15:57.81  apache-opennlp-1.9.1/lib/jackson-module-jaxb-annotations-2.8.4.jar \n",
      "00:15:58.61  Chunker.java:27: error: cannot find symbol                         \n",
      "00:15:58.61  Sequence topSequences[] = chunker.topKSequences(sentence, pos);    \n",
      "00:15:58.62  ^                                                                  \n",
      "00:15:58.62  symbol:   class Sequence                                           \n",
      "00:15:58.62  location: class Chunker                                            \n",
      "00:15:58.65  1 error                                                            \n",
      "00:15:59.09  container finished with return code 1, duration 2.02277            \n",
      "00:15:59.09  completed in 6.62 seconds                                          \n"
     ]
    }
   ],
   "source": [
    "%system ./watch-execution.sh 28"
   ]
  },
  {
   "cell_type": "code",
   "execution_count": 113,
   "metadata": {
    "scrolled": true
   },
   "outputs": [
    {
     "name": "stdout",
     "output_type": "stream",
     "text": [
      "Gathering output from counter latest\n",
      "Nothing found, maybe it failed, maybe its still running.\n",
      "Use the './watch-execution.sh latest' command to find out.\n"
     ]
    }
   ],
   "source": [
    "%system ./show-final-result.sh 28"
   ]
  },
  {
   "cell_type": "markdown",
   "metadata": {},
   "source": [
    "Return to [Table of contents](#Table-of-contents)"
   ]
  },
  {
   "cell_type": "markdown",
   "metadata": {},
   "source": [
    "### Parsing API"
   ]
  },
  {
   "cell_type": "markdown",
   "metadata": {},
   "source": [
    "##### Show a simple example of parsing chunked sentences using a Parser Chunker model called en-parser-chunking.bin on a remote instance (powered by Valohai), from within the notebook cell using cell magic!"
   ]
  },
  {
   "cell_type": "code",
   "execution_count": 114,
   "metadata": {
    "scrolled": true
   },
   "outputs": [
    {
     "name": "stdout",
     "output_type": "stream",
     "text": [
      "Executing step parser\n",
      "Packaging /home/jovyan/work...\n",
      "=>   Git not available, found 15 files to package\n",
      "😻  Success! Ad-hoc code ~44cee86dfced86ab0d69df943757ffb65b46917eac1c3bbd31d42b4b138b190a already uploaded\n",
      "😊  Success! Execution #29 created. See https://app.valohai.com/p/neomatrix369/nlp-java-jvm-example/execution/016eaa36-f44d-3cc7-4696-d9076bb84067/\n"
     ]
    }
   ],
   "source": [
    "%system ./exec-step.sh \"parser\""
   ]
  },
  {
   "cell_type": "code",
   "execution_count": 115,
   "metadata": {},
   "outputs": [
    {
     "name": "stdout",
     "output_type": "stream",
     "text": [
      "Watching counter latest\n",
      "(nlp-java-jvm-example) #29                            2019-11-27T00:16:00.365568\n",
      "Status: started     Step: parser        Commit: ~44cee86dfce           16 events\n",
      "================================================================================\n",
      "00:15:59.52  starting job on i-08c1fa5e3a874d093, Peon 0.27.1                   \n",
      "00:15:59.54  free scratch space: 399.8 GB (399838445568 B)                      \n",
      "00:15:59.56  downloading repository (code)                                      \n",
      "00:15:59.57  /valohai/inputs/java-program/Parser.java: found in cache, 1.8 kB   \n",
      "00:15:59.57  /valohai/inputs/model/en-parser-chunking.bin: found in cache, 36.3 \n",
      "00:15:59.57  /valohai/inputs/apache-opennlp-jar/apache-opennlp-1.9.1-bin.tar.gz:\n",
      "00:15:59.57  /valohai/inputs/java-program/Parser.java: md5 sum: 2dab48976fb811c6\n",
      "00:15:59.58  /valohai/inputs/java-program/Parser.java: sha1 sum: 9622dd35e505d94\n",
      "00:15:59.58  /valohai/inputs/model/en-parser-chunking.bin: md5 sum: 47c1b3f4dd7d\n",
      "00:15:59.58  /valohai/inputs/apache-opennlp-jar/apache-opennlp-1.9.1-bin.tar.gz:\n",
      "00:15:59.58  /valohai/inputs/java-program/Parser.java: sha256 sum: 225fb77fd61f6\n",
      "00:15:59.58  /valohai/inputs/model/en-parser-chunking.bin: sha1 sum: 4e7b164d251\n",
      "00:15:59.58  /valohai/inputs/apache-opennlp-jar/apache-opennlp-1.9.1-bin.tar.gz:\n",
      "00:15:59.58  /valohai/inputs/model/en-parser-chunking.bin: sha256 sum: e37b82fb9\n",
      "00:15:59.58  /valohai/inputs/apache-opennlp-jar/apache-opennlp-1.9.1-bin.tar.gz:\n",
      "00:15:59.64  image neomatrix369/nlp-java:0.2 was found in cache                 \n",
      "(nlp-java-jvm-example) #29                            2019-11-27T00:16:01.568788\n",
      "Status: started     Step: parser        Commit: ~44cee86dfce           16 events\n",
      "================================================================================\n",
      "00:15:59.52  starting job on i-08c1fa5e3a874d093, Peon 0.27.1                   \n",
      "00:15:59.54  free scratch space: 399.8 GB (399838445568 B)                      \n",
      "00:15:59.56  downloading repository (code)                                      \n",
      "00:15:59.57  /valohai/inputs/java-program/Parser.java: found in cache, 1.8 kB   \n",
      "00:15:59.57  /valohai/inputs/model/en-parser-chunking.bin: found in cache, 36.3 \n",
      "00:15:59.57  /valohai/inputs/apache-opennlp-jar/apache-opennlp-1.9.1-bin.tar.gz:\n",
      "00:15:59.57  /valohai/inputs/java-program/Parser.java: md5 sum: 2dab48976fb811c6\n",
      "00:15:59.58  /valohai/inputs/java-program/Parser.java: sha1 sum: 9622dd35e505d94\n",
      "00:15:59.58  /valohai/inputs/model/en-parser-chunking.bin: md5 sum: 47c1b3f4dd7d\n",
      "00:15:59.58  /valohai/inputs/apache-opennlp-jar/apache-opennlp-1.9.1-bin.tar.gz:\n",
      "00:15:59.58  /valohai/inputs/java-program/Parser.java: sha256 sum: 225fb77fd61f6\n",
      "00:15:59.58  /valohai/inputs/model/en-parser-chunking.bin: sha1 sum: 4e7b164d251\n",
      "00:15:59.58  /valohai/inputs/apache-opennlp-jar/apache-opennlp-1.9.1-bin.tar.gz:\n",
      "00:15:59.58  /valohai/inputs/model/en-parser-chunking.bin: sha256 sum: e37b82fb9\n",
      "00:15:59.58  /valohai/inputs/apache-opennlp-jar/apache-opennlp-1.9.1-bin.tar.gz:\n",
      "00:15:59.64  image neomatrix369/nlp-java:0.2 was found in cache                 \n",
      "(nlp-java-jvm-example) #29                            2019-11-27T00:16:02.764274\n",
      "Status: started     Step: parser        Commit: ~44cee86dfce           16 events\n",
      "================================================================================\n",
      "00:15:59.52  starting job on i-08c1fa5e3a874d093, Peon 0.27.1                   \n",
      "00:15:59.54  free scratch space: 399.8 GB (399838445568 B)                      \n",
      "00:15:59.56  downloading repository (code)                                      \n",
      "00:15:59.57  /valohai/inputs/java-program/Parser.java: found in cache, 1.8 kB   \n",
      "00:15:59.57  /valohai/inputs/model/en-parser-chunking.bin: found in cache, 36.3 \n",
      "00:15:59.57  /valohai/inputs/apache-opennlp-jar/apache-opennlp-1.9.1-bin.tar.gz:\n",
      "00:15:59.57  /valohai/inputs/java-program/Parser.java: md5 sum: 2dab48976fb811c6\n",
      "00:15:59.58  /valohai/inputs/java-program/Parser.java: sha1 sum: 9622dd35e505d94\n",
      "00:15:59.58  /valohai/inputs/model/en-parser-chunking.bin: md5 sum: 47c1b3f4dd7d\n",
      "00:15:59.58  /valohai/inputs/apache-opennlp-jar/apache-opennlp-1.9.1-bin.tar.gz:\n",
      "00:15:59.58  /valohai/inputs/java-program/Parser.java: sha256 sum: 225fb77fd61f6\n",
      "00:15:59.58  /valohai/inputs/model/en-parser-chunking.bin: sha1 sum: 4e7b164d251\n",
      "00:15:59.58  /valohai/inputs/apache-opennlp-jar/apache-opennlp-1.9.1-bin.tar.gz:\n",
      "00:15:59.58  /valohai/inputs/model/en-parser-chunking.bin: sha256 sum: e37b82fb9\n",
      "00:15:59.58  /valohai/inputs/apache-opennlp-jar/apache-opennlp-1.9.1-bin.tar.gz:\n",
      "00:15:59.64  image neomatrix369/nlp-java:0.2 was found in cache                 \n",
      "(nlp-java-jvm-example) #29                            2019-11-27T00:16:03.947611\n",
      "Status: started     Step: parser        Commit: ~44cee86dfce           19 events\n",
      "================================================================================\n",
      "00:15:59.52  starting job on i-08c1fa5e3a874d093, Peon 0.27.1                   \n",
      "00:15:59.54  free scratch space: 399.8 GB (399838445568 B)                      \n",
      "00:15:59.56  downloading repository (code)                                      \n",
      "00:15:59.57  /valohai/inputs/java-program/Parser.java: found in cache, 1.8 kB   \n",
      "00:15:59.57  /valohai/inputs/model/en-parser-chunking.bin: found in cache, 36.3 \n",
      "00:15:59.57  /valohai/inputs/apache-opennlp-jar/apache-opennlp-1.9.1-bin.tar.gz:\n",
      "00:15:59.57  /valohai/inputs/java-program/Parser.java: md5 sum: 2dab48976fb811c6\n",
      "00:15:59.58  /valohai/inputs/java-program/Parser.java: sha1 sum: 9622dd35e505d94\n",
      "00:15:59.58  /valohai/inputs/model/en-parser-chunking.bin: md5 sum: 47c1b3f4dd7d\n",
      "00:15:59.58  /valohai/inputs/apache-opennlp-jar/apache-opennlp-1.9.1-bin.tar.gz:\n",
      "00:15:59.58  /valohai/inputs/java-program/Parser.java: sha256 sum: 225fb77fd61f6\n",
      "00:15:59.58  /valohai/inputs/model/en-parser-chunking.bin: sha1 sum: 4e7b164d251\n",
      "00:15:59.58  /valohai/inputs/apache-opennlp-jar/apache-opennlp-1.9.1-bin.tar.gz:\n",
      "00:15:59.58  /valohai/inputs/model/en-parser-chunking.bin: sha256 sum: e37b82fb9\n",
      "00:15:59.58  /valohai/inputs/apache-opennlp-jar/apache-opennlp-1.9.1-bin.tar.gz:\n",
      "00:15:59.64  image neomatrix369/nlp-java:0.2 was found in cache                 \n",
      "00:16:03.72  starting container with image neomatrix369/nlp-java@sha256:bacbeffa\n",
      "00:16:03.72  allocating 15.5 GB system memory to container                      \n",
      "00:16:03.73  /tmp memory filesystem size: 15.5 GB                               \n"
     ]
    }
   ],
   "source": [
    "%system ./watch-execution.sh 29"
   ]
  },
  {
   "cell_type": "code",
   "execution_count": 116,
   "metadata": {
    "scrolled": true
   },
   "outputs": [
    {
     "name": "stdout",
     "output_type": "stream",
     "text": [
      "Gathering output from counter latest\n",
      "Nothing found, maybe it failed, maybe its still running.\n",
      "Use the './watch-execution.sh latest' command to find out.\n"
     ]
    }
   ],
   "source": [
    "%system ./show-final-result.sh 29"
   ]
  },
  {
   "cell_type": "markdown",
   "metadata": {},
   "source": [
    "Return to [Table of contents](#Table-of-contents)"
   ]
  },
  {
   "cell_type": "markdown",
   "metadata": {},
   "source": [
    "### For more resources please refer to [Apache OpenNLP README](https://github.com/neomatrix369/nlp-java-jvm-example/blob/master/images/java/opennlp/README.md) and [Apache OpenNLP Resources](https://github.com/neomatrix369/nlp-java-jvm-example/blob/master/images/java/opennlp/README.md#resources)."
   ]
  }
 ],
 "metadata": {
  "kernelspec": {
   "display_name": "Java",
   "language": "java",
   "name": "java"
  },
  "language_info": {
   "codemirror_mode": "java",
   "file_extension": ".jshell",
   "mimetype": "text/x-java-source",
   "name": "Java",
   "pygments_lexer": "java",
   "version": "11.0.4+11"
  }
 },
 "nbformat": 4,
 "nbformat_minor": 2
}
