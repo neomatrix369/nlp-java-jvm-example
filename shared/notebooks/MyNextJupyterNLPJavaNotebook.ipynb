{
 "cells": [
  {
   "cell_type": "markdown",
   "metadata": {},
   "source": [
    "## Table of contents\n",
    "\n",
    "* [Find out the version info of the underlying JDK/JVM on which this notebook is running](#Find-out-the-version-info-of-the-underlying-JDK/JVM-on-which-this-notebook-is-running)\n",
    "* [Valohai command-line client](#Valohai-command-line-client)\n",
    "* [Set up project using the vh client](Set-up-project-using-the-vh-client)\n",
    "* Java bindings (Java API) via Valohai client\n",
    " * [Language Detector API](#Language-Detector-API)\n",
    " * [Sentence Detection API](#Sentence-Detection-API)\n",
    " * [Tokenizer API](#Tokenizer-API)\n",
    " * [Name Finder API](#Name-Finder-API)\n",
    " * [More Name Finder API examples](#More-Name-Finder-API-examples)\n",
    " * [Parts of speech (POS) Tagger API](#Parts-of-speech-(POS)-Tagger-API)\n",
    " * [Chunking API](#Chunking-API)\n",
    " * [Parsing API](#Parsing-API)"
   ]
  },
  {
   "cell_type": "markdown",
   "metadata": {},
   "source": [
    "### Find out the version info of the underlying JDK/JVM on which this notebook is running"
   ]
  },
  {
   "cell_type": "code",
   "execution_count": 85,
   "metadata": {},
   "outputs": [
    {
     "name": "stdout",
     "output_type": "stream",
     "text": [
      "java.version: 11.0.4\n"
     ]
    }
   ],
   "source": [
    "System.out.println(\"java.version: \" + System.getProperty(\"java.version\"));"
   ]
  },
  {
   "cell_type": "code",
   "execution_count": 86,
   "metadata": {},
   "outputs": [
    {
     "name": "stdout",
     "output_type": "stream",
     "text": [
      "java.specification.version: 11\n",
      "java.runtime.version: 11.0.4+11\n"
     ]
    }
   ],
   "source": [
    "System.out.println(\"java.specification.version: \" + System.getProperty(\"java.specification.version\"));\n",
    "System.out.println(\"java.runtime.version: \" + System.getProperty(\"java.runtime.version\"));"
   ]
  },
  {
   "cell_type": "code",
   "execution_count": 87,
   "metadata": {
    "scrolled": false
   },
   "outputs": [
    {
     "name": "stdout",
     "output_type": "stream",
     "text": [
      "java runtime VM version: 11.0.4+11\n"
     ]
    }
   ],
   "source": [
    "import java.lang.management.ManagementFactory;\n",
    "\n",
    "System.out.println(\"java runtime VM version: \" + ManagementFactory.getRuntimeMXBean().getVmVersion());"
   ]
  },
  {
   "cell_type": "markdown",
   "metadata": {},
   "source": [
    "Return to [Table of contents](#Table-of-contents)"
   ]
  },
  {
   "cell_type": "markdown",
   "metadata": {},
   "source": [
    "### Valohai command-line client"
   ]
  },
  {
   "cell_type": "code",
   "execution_count": 1,
   "metadata": {
    "scrolled": true
   },
   "outputs": [
    {
     "name": "stdout",
     "output_type": "stream",
     "text": [
      "Usage: vh [OPTIONS] COMMAND [ARGS]...\n",
      "\n",
      "  :type ctx: click.Context\n",
      "\n",
      "Options:\n",
      "  --debug / --no-debug\n",
      "  --output-format, --table-format [human|csv|tsv|scsv|psv|json]\n",
      "  --valohai-host URL              Override the Valohai API host (default\n",
      "                                  https://app.valohai.com/)  [env var:\n",
      "                                  VALOHAI_HOST]\n",
      "  --valohai-token SECRET          Use this Valohai authentication token  [env\n",
      "                                  var: VALOHAI_TOKEN]\n",
      "  --project UUID                  (Advanced) Override the project ID  [env\n",
      "                                  var: VALOHAI_PROJECT]\n",
      "  --project-mode local|remote     (Advanced) When using --project, set the\n",
      "                                  project mode  [env var:\n",
      "                                  VALOHAI_PROJECT_MODE]\n",
      "  --project-root DIR              (Advanced) When using --project, set the\n",
      "                                  project root directory  [env var:\n",
      "                                  VALOHAI_PROJECT_ROOT]\n",
      "  --help                          Show this message and exit.\n",
      "\n",
      "Commands:\n",
      "  environments  List all available execution environments.\n",
      "  execution     Execution-related commands.\n",
      "  init          Interactively initialize a Valohai project.\n",
      "  lint          Lint (syntax-check) a valohai.yaml file.\n",
      "  login         Log in into Valohai.\n",
      "  logout        Remove local authentication token.\n",
      "  parcel\n",
      "  project       Project-related commands.\n",
      "\n",
      "Commands (execution ...):\n",
      "  execution delete     Delete one or more executions, optionally purging their\n",
      "                       outputs as well.\n",
      "  execution info       Show execution info.\n",
      "  execution list       Show a list of executions for the project.\n",
      "  execution logs       Show or stream execution event log.\n",
      "  execution open       Open an execution in a web browser.\n",
      "  execution outputs    List and download execution outputs.\n",
      "  execution run        Start an execution of a step.\n",
      "  execution stop       Stop one or more in-progress executions.\n",
      "  execution summarize  Summarize execution metadata.\n",
      "  execution watch      Watch execution progress in a console UI.\n",
      "\n",
      "Commands (project ...):\n",
      "  project commits  List the commits for the linked project.\n",
      "  project create   Create a new project and optionally link it to the\n",
      "                   directory.\n",
      "  project fetch    Fetch new commits for the linked project.\n",
      "  project link     Link a directory with a Valohai project.\n",
      "  project list     List all projects.\n",
      "  project open     Open the project's view in a web browser.\n",
      "  project status   Get the general status of the linked project\n",
      "  project unlink   Unlink a linked Valohai project.\n"
     ]
    }
   ],
   "source": [
    "%system vh --help"
   ]
  },
  {
   "cell_type": "markdown",
   "metadata": {},
   "source": [
    "### Set up project using the vh client\n",
    "_Your Valohai token has must have been provided (and set) during startup of the container. Without this the rest of the commands in the notebook may not work. The below commands expects it and will run successfully when it is not set in the environment._"
   ]
  },
  {
   "cell_type": "code",
   "execution_count": 1,
   "metadata": {},
   "outputs": [
    {
     "name": "stdout",
     "output_type": "stream",
     "text": [
      "😼  Success! Project nlp-java-jvm-example created.\n",
      "🙂  Success! Linked /home/jovyan/work to nlp-java-jvm-example.\n"
     ]
    }
   ],
   "source": [
    "%system ./create-project.sh nlp-java-jvm-example"
   ]
  },
  {
   "cell_type": "markdown",
   "metadata": {},
   "source": [
    "### Language Detector API"
   ]
  },
  {
   "cell_type": "markdown",
   "metadata": {},
   "source": [
    "##### Show a simple example detecting a language of a sentence using a Language detecting model called langdetect-183.bin on a remote instance (powered by Valohai), from within the notebook cell using cell magic!"
   ]
  },
  {
   "cell_type": "code",
   "execution_count": 120,
   "metadata": {
    "scrolled": false
   },
   "outputs": [
    {
     "name": "stdout",
     "output_type": "stream",
     "text": [
      "Executing step detect-language\n",
      "Packaging /home/jovyan/work...\n",
      "=>   Git not available, found 15 files to package\n",
      "Uploading 26.7 kB...\n",
      "😸  Success! Uploaded ad-hoc code ~a458ac4d1658b53cef4bfc49f288c9ca609ba81ddd87cdf500df412517ce218d\n",
      "😼  Success! Execution #30 created. See https://app.valohai.com/p/neomatrix369/nlp-java-jvm-example/execution/016eaa3d-4eaf-db74-13e6-d68d23060117/\n"
     ]
    }
   ],
   "source": [
    "%system ./exec-step.sh \"detect-language\""
   ]
  },
  {
   "cell_type": "code",
   "execution_count": 126,
   "metadata": {
    "scrolled": true
   },
   "outputs": [
    {
     "name": "stdout",
     "output_type": "stream",
     "text": [
      "Watching counter 30\n",
      "(nlp-java-jvm-example) #30                            2019-11-27T00:24:13.249564\n",
      "Status: started     Step: detect-languagCommit: ~a458ac4d165           19 events\n",
      "================================================================================\n",
      "00:22:55.33  starting job on i-0e65ed922b53ef596, Peon 0.27.1                   \n",
      "00:22:55.36  free scratch space: 403.4 GB (403421933568 B)                      \n",
      "00:22:55.37  downloading repository (code)                                      \n",
      "00:22:55.38  /valohai/inputs/model/langdetect-183.bin: downloading http://mirror\n",
      "00:22:55.38  /valohai/inputs/apache-opennlp-jar/apache-opennlp-1.9.1-bin.tar.gz:\n",
      "00:22:55.38  /valohai/inputs/java-program/DetectLanguage.java: downloading https\n",
      "00:22:55.44  pulling image neomatrix369/nlp-java:0.2                            \n",
      "00:22:55.57  /valohai/inputs/java-program/DetectLanguage.java: downloaded, 1.4 k\n",
      "00:22:55.57  /valohai/inputs/java-program/DetectLanguage.java: md5 sum: 5daac65a\n",
      "00:22:55.58  /valohai/inputs/java-program/DetectLanguage.java: sha1 sum: 6d3786c\n",
      "00:22:55.58  /valohai/inputs/java-program/DetectLanguage.java: sha256 sum: ed7bb\n",
      "00:22:55.82  /valohai/inputs/model/langdetect-183.bin: downloaded, 10.6 MB      \n",
      "00:22:55.83  /valohai/inputs/model/langdetect-183.bin: md5 sum: 87be0a1cf60e5d89\n",
      "00:22:55.83  /valohai/inputs/model/langdetect-183.bin: sha1 sum: be8bf56c1b8cb1e\n",
      "00:22:55.83  /valohai/inputs/model/langdetect-183.bin: sha256 sum: 2ddf585fac2e0\n",
      "00:22:56.17  /valohai/inputs/apache-opennlp-jar/apache-opennlp-1.9.1-bin.tar.gz:\n",
      "00:22:56.17  /valohai/inputs/apache-opennlp-jar/apache-opennlp-1.9.1-bin.tar.gz:\n",
      "00:22:56.17  /valohai/inputs/apache-opennlp-jar/apache-opennlp-1.9.1-bin.tar.gz:\n",
      "00:22:56.17  /valohai/inputs/apache-opennlp-jar/apache-opennlp-1.9.1-bin.tar.gz:\n",
      "(nlp-java-jvm-example) #30                            2019-11-27T00:24:14.447807\n",
      "Status: started     Step: detect-languagCommit: ~a458ac4d165           19 events\n",
      "================================================================================\n",
      "00:22:55.33  starting job on i-0e65ed922b53ef596, Peon 0.27.1                   \n",
      "00:22:55.36  free scratch space: 403.4 GB (403421933568 B)                      \n",
      "00:22:55.37  downloading repository (code)                                      \n",
      "00:22:55.38  /valohai/inputs/model/langdetect-183.bin: downloading http://mirror\n",
      "00:22:55.38  /valohai/inputs/apache-opennlp-jar/apache-opennlp-1.9.1-bin.tar.gz:\n",
      "00:22:55.38  /valohai/inputs/java-program/DetectLanguage.java: downloading https\n",
      "00:22:55.44  pulling image neomatrix369/nlp-java:0.2                            \n",
      "00:22:55.57  /valohai/inputs/java-program/DetectLanguage.java: downloaded, 1.4 k\n",
      "00:22:55.57  /valohai/inputs/java-program/DetectLanguage.java: md5 sum: 5daac65a\n",
      "00:22:55.58  /valohai/inputs/java-program/DetectLanguage.java: sha1 sum: 6d3786c\n",
      "00:22:55.58  /valohai/inputs/java-program/DetectLanguage.java: sha256 sum: ed7bb\n",
      "00:22:55.82  /valohai/inputs/model/langdetect-183.bin: downloaded, 10.6 MB      \n",
      "00:22:55.83  /valohai/inputs/model/langdetect-183.bin: md5 sum: 87be0a1cf60e5d89\n",
      "00:22:55.83  /valohai/inputs/model/langdetect-183.bin: sha1 sum: be8bf56c1b8cb1e\n",
      "00:22:55.83  /valohai/inputs/model/langdetect-183.bin: sha256 sum: 2ddf585fac2e0\n",
      "00:22:56.17  /valohai/inputs/apache-opennlp-jar/apache-opennlp-1.9.1-bin.tar.gz:\n",
      "00:22:56.17  /valohai/inputs/apache-opennlp-jar/apache-opennlp-1.9.1-bin.tar.gz:\n",
      "00:22:56.17  /valohai/inputs/apache-opennlp-jar/apache-opennlp-1.9.1-bin.tar.gz:\n",
      "00:22:56.17  /valohai/inputs/apache-opennlp-jar/apache-opennlp-1.9.1-bin.tar.gz:\n",
      "(nlp-java-jvm-example) #30                            2019-11-27T00:24:15.637321\n",
      "Status: started     Step: detect-languagCommit: ~a458ac4d165           19 events\n",
      "================================================================================\n",
      "00:22:55.33  starting job on i-0e65ed922b53ef596, Peon 0.27.1                   \n",
      "00:22:55.36  free scratch space: 403.4 GB (403421933568 B)                      \n",
      "00:22:55.37  downloading repository (code)                                      \n",
      "00:22:55.38  /valohai/inputs/model/langdetect-183.bin: downloading http://mirror\n",
      "00:22:55.38  /valohai/inputs/apache-opennlp-jar/apache-opennlp-1.9.1-bin.tar.gz:\n",
      "00:22:55.38  /valohai/inputs/java-program/DetectLanguage.java: downloading https\n",
      "00:22:55.44  pulling image neomatrix369/nlp-java:0.2                            \n",
      "00:22:55.57  /valohai/inputs/java-program/DetectLanguage.java: downloaded, 1.4 k\n",
      "00:22:55.57  /valohai/inputs/java-program/DetectLanguage.java: md5 sum: 5daac65a\n",
      "00:22:55.58  /valohai/inputs/java-program/DetectLanguage.java: sha1 sum: 6d3786c\n",
      "00:22:55.58  /valohai/inputs/java-program/DetectLanguage.java: sha256 sum: ed7bb\n",
      "00:22:55.82  /valohai/inputs/model/langdetect-183.bin: downloaded, 10.6 MB      \n",
      "00:22:55.83  /valohai/inputs/model/langdetect-183.bin: md5 sum: 87be0a1cf60e5d89\n",
      "00:22:55.83  /valohai/inputs/model/langdetect-183.bin: sha1 sum: be8bf56c1b8cb1e\n",
      "00:22:55.83  /valohai/inputs/model/langdetect-183.bin: sha256 sum: 2ddf585fac2e0\n",
      "00:22:56.17  /valohai/inputs/apache-opennlp-jar/apache-opennlp-1.9.1-bin.tar.gz:\n",
      "00:22:56.17  /valohai/inputs/apache-opennlp-jar/apache-opennlp-1.9.1-bin.tar.gz:\n",
      "00:22:56.17  /valohai/inputs/apache-opennlp-jar/apache-opennlp-1.9.1-bin.tar.gz:\n",
      "00:22:56.17  /valohai/inputs/apache-opennlp-jar/apache-opennlp-1.9.1-bin.tar.gz:\n",
      "(nlp-java-jvm-example) #30                            2019-11-27T00:24:16.851831\n",
      "Status: started     Step: detect-languagCommit: ~a458ac4d165           19 events\n",
      "================================================================================\n",
      "00:22:55.33  starting job on i-0e65ed922b53ef596, Peon 0.27.1                   \n",
      "00:22:55.36  free scratch space: 403.4 GB (403421933568 B)                      \n",
      "00:22:55.37  downloading repository (code)                                      \n",
      "00:22:55.38  /valohai/inputs/model/langdetect-183.bin: downloading http://mirror\n",
      "00:22:55.38  /valohai/inputs/apache-opennlp-jar/apache-opennlp-1.9.1-bin.tar.gz:\n",
      "00:22:55.38  /valohai/inputs/java-program/DetectLanguage.java: downloading https\n",
      "00:22:55.44  pulling image neomatrix369/nlp-java:0.2                            \n",
      "00:22:55.57  /valohai/inputs/java-program/DetectLanguage.java: downloaded, 1.4 k\n",
      "00:22:55.57  /valohai/inputs/java-program/DetectLanguage.java: md5 sum: 5daac65a\n",
      "00:22:55.58  /valohai/inputs/java-program/DetectLanguage.java: sha1 sum: 6d3786c\n",
      "00:22:55.58  /valohai/inputs/java-program/DetectLanguage.java: sha256 sum: ed7bb\n",
      "00:22:55.82  /valohai/inputs/model/langdetect-183.bin: downloaded, 10.6 MB      \n",
      "00:22:55.83  /valohai/inputs/model/langdetect-183.bin: md5 sum: 87be0a1cf60e5d89\n",
      "00:22:55.83  /valohai/inputs/model/langdetect-183.bin: sha1 sum: be8bf56c1b8cb1e\n",
      "00:22:55.83  /valohai/inputs/model/langdetect-183.bin: sha256 sum: 2ddf585fac2e0\n",
      "00:22:56.17  /valohai/inputs/apache-opennlp-jar/apache-opennlp-1.9.1-bin.tar.gz:\n",
      "00:22:56.17  /valohai/inputs/apache-opennlp-jar/apache-opennlp-1.9.1-bin.tar.gz:\n",
      "00:22:56.17  /valohai/inputs/apache-opennlp-jar/apache-opennlp-1.9.1-bin.tar.gz:\n",
      "00:22:56.17  /valohai/inputs/apache-opennlp-jar/apache-opennlp-1.9.1-bin.tar.gz:\n"
     ]
    }
   ],
   "source": [
    "%system ./watch-execution.sh 30"
   ]
  },
  {
   "cell_type": "code",
   "execution_count": 133,
   "metadata": {},
   "outputs": [
    {
     "name": "stdout",
     "output_type": "stream",
     "text": [
      "Gathering output from counter 30\n",
      "00:25:02.85 [Started...]\n",
      "00:25:03.65 Sentence: This is a sample text.\n",
      "00:25:03.67 Best language: lat\n",
      "00:25:03.68 Best language confidence: 0.017774467481479657\n",
      "00:25:03.68 \n",
      "00:25:03.68 Predict languages (with confidence): [tur (0.009708737864077673), bel (0.009708737864077673), san (0.009708737864077673), ara (0.009708737864077673), mon (0.009708737864077673), tel (0.009708737864077673), sin (0.009708737864077673), pes (0.009708737864077673), min (0.009708737864077673), cmn (0.009708737864077673), aze (0.009708737864077673), fao (0.009708737864077673), ita (0.009708737864077673), ceb (0.009708737864077673), mkd (0.009708737864077673), eng (0.009708737864077673), nno (0.009708737864077673), lvs (0.009708737864077673), kor (0.009708737864077673), som (0.009708737864077673), swa (0.009708737864077673), hun (0.009708737864077673), fra (0.009708737864077673), nld (0.009708737864077673), mlt (0.009708737864077673), bak (0.009708737864077673), ekk (0.009708737864077673), ron (0.009708737864077673), gle (0.009708737864077673), hin (0.009708737864077673), est (0.009708737864077673), tha (0.009708737864077673), slk (0.009708737864077673), ltz (0.009708737864077673), kan (0.009708737864077673), eus (0.009708737864077673), epo (0.009708737864077673), bos (0.009708737864077673), pol (0.009708737864077673), nep (0.009708737864077673), lit (0.009708737864077673), war (0.009708737864077673), srp (0.009708737864077673), ces (0.009708737864077673), che (0.009708737864077673), lav (0.009708737864077673), nds (0.009708737864077673), dan (0.009708737864077673), mar (0.009708737864077673), nan (0.009708737864077673), glg (0.009708737864077673), gsw (0.009708737864077673), fry (0.009708737864077673), uzb (0.009708737864077673), mal (0.009708737864077673), vol (0.009708737864077673), fas (0.009708737864077673), msa (0.009708737864077673), cym (0.009708737864077673), nob (0.009708737864077673), ben (0.009708737864077673), kaz (0.009708737864077673), heb (0.009708737864077673), bre (0.009708737864077673), jav (0.009708737864077673), sqi (0.009708737864077673), kir (0.009708737864077673), cat (0.009708737864077673), oci (0.009708737864077673), vie (0.009708737864077673), kat (0.009708737864077673), tam (0.009708737864077673), tgk (0.009708737864077673), mri (0.009708737864077673), slv (0.009708737864077673), lat (0.009708737864077673), tgl (0.009708737864077673), pan (0.009708737864077673), swe (0.009708737864077673), lim (0.009708737864077673), tat (0.009708737864077673), ell (0.009708737864077673), afr (0.009708737864077673), pus (0.009708737864077673), isl (0.009708737864077673), sun (0.009708737864077673), urd (0.009708737864077673), hye (0.009708737864077673), hrv (0.009708737864077673), ast (0.009708737864077673), rus (0.009708737864077673), spa (0.009708737864077673), ind (0.009708737864077673), pnb (0.009708737864077673), bul (0.009708737864077673), plt (0.009708737864077673), deu (0.009708737864077673), zul (0.009708737864077673), ukr (0.009708737864077673), jpn (0.009708737864077673), por (0.009708737864077673), guj (0.009708737864077673), fin (0.009708737864077673)]\n",
      "00:25:03.68 [...Finished]\n",
      "00:25:04.17 container finished with return code 0, duration 3.010948\n",
      "00:25:04.17 completed in 128.84 seconds\n"
     ]
    }
   ],
   "source": [
    "%system ./show-final-result.sh 30"
   ]
  },
  {
   "cell_type": "markdown",
   "metadata": {},
   "source": [
    "**Apparantly it detects this to be Latin, instead of English \n",
    "maybe the language detecting model needs more training.\n",
    "See https://opennlp.apache.org/docs/1.9.1/manual/opennlp.html#tools.langdetect.training on how this can be achieved**"
   ]
  },
  {
   "cell_type": "markdown",
   "metadata": {},
   "source": [
    "Return to [Table of contents](#Table-of-contents)"
   ]
  },
  {
   "cell_type": "markdown",
   "metadata": {},
   "source": [
    "### Sentence Detection API\n"
   ]
  },
  {
   "cell_type": "markdown",
   "metadata": {},
   "source": [
    "##### Show a simple example detecting sentences using a Sentence detecting model called en-sent.bin on a remote instance (powered by Valohai), from within the notebook cell using cell magic!"
   ]
  },
  {
   "cell_type": "code",
   "execution_count": 128,
   "metadata": {
    "scrolled": true
   },
   "outputs": [
    {
     "name": "stdout",
     "output_type": "stream",
     "text": [
      "Executing step detect-sentence\n",
      "Packaging /home/jovyan/work...\n",
      "=>   Git not available, found 15 files to package\n",
      "Uploading 26.7 kB...\n",
      "😻  Success! Uploaded ad-hoc code ~bde3d0fc8f223f7c11a40de93a53fd945f2f83e87a7cf81c8303b5c2b3b54fb2\n",
      "😸  Success! Execution #31 created. See https://app.valohai.com/p/neomatrix369/nlp-java-jvm-example/execution/016eaa3f-3166-8a28-f8f8-bd447a6c07e0/\n"
     ]
    }
   ],
   "source": [
    "%system ./exec-step.sh \"detect-sentence\""
   ]
  },
  {
   "cell_type": "code",
   "execution_count": 134,
   "metadata": {},
   "outputs": [
    {
     "name": "stdout",
     "output_type": "stream",
     "text": [
      "Watching counter 31\n",
      "(nlp-java-jvm-example) #31                            2019-11-27T00:26:05.270291\n",
      "Status: started     Step: detect-sentencCommit: ~bde3d0fc8f2           19 events\n",
      "================================================================================\n",
      "00:24:59.06  starting job on i-05915a3cc4afe54df, Peon 0.27.1                   \n",
      "00:24:59.08  free scratch space: 403.4 GB (403421937664 B)                      \n",
      "00:24:59.09  downloading repository (code)                                      \n",
      "00:24:59.11  /valohai/inputs/apache-opennlp-jar/apache-opennlp-1.9.1-bin.tar.gz:\n",
      "00:24:59.11  /valohai/inputs/java-program/DetectSentence.java: downloading https\n",
      "00:24:59.11  /valohai/inputs/model/en-sent.bin: downloading http://opennlp.sourc\n",
      "00:24:59.18  pulling image neomatrix369/nlp-java:0.2                            \n",
      "00:24:59.30  /valohai/inputs/java-program/DetectSentence.java: downloaded, 1.1 k\n",
      "00:24:59.30  /valohai/inputs/java-program/DetectSentence.java: md5 sum: 0c75a3d2\n",
      "00:24:59.30  /valohai/inputs/java-program/DetectSentence.java: sha1 sum: 1cc6d7f\n",
      "00:24:59.30  /valohai/inputs/java-program/DetectSentence.java: sha256 sum: 5c9db\n",
      "00:24:59.86  /valohai/inputs/model/en-sent.bin: downloaded, 98.5 kB             \n",
      "00:24:59.86  /valohai/inputs/model/en-sent.bin: md5 sum: 3822c5f82cb4ba139284631\n",
      "00:24:59.86  /valohai/inputs/model/en-sent.bin: sha1 sum: 5cc6337965fa2236ad7f08\n",
      "00:24:59.86  /valohai/inputs/model/en-sent.bin: sha256 sum: bd6adffc85d66ccffd09\n",
      "00:25:00.62  /valohai/inputs/apache-opennlp-jar/apache-opennlp-1.9.1-bin.tar.gz:\n",
      "00:25:00.62  /valohai/inputs/apache-opennlp-jar/apache-opennlp-1.9.1-bin.tar.gz:\n",
      "00:25:00.62  /valohai/inputs/apache-opennlp-jar/apache-opennlp-1.9.1-bin.tar.gz:\n",
      "00:25:00.62  /valohai/inputs/apache-opennlp-jar/apache-opennlp-1.9.1-bin.tar.gz:\n",
      "(nlp-java-jvm-example) #31                            2019-11-27T00:26:06.477462\n",
      "Status: started     Step: detect-sentencCommit: ~bde3d0fc8f2           19 events\n",
      "================================================================================\n",
      "00:24:59.06  starting job on i-05915a3cc4afe54df, Peon 0.27.1                   \n",
      "00:24:59.08  free scratch space: 403.4 GB (403421937664 B)                      \n",
      "00:24:59.09  downloading repository (code)                                      \n",
      "00:24:59.11  /valohai/inputs/apache-opennlp-jar/apache-opennlp-1.9.1-bin.tar.gz:\n",
      "00:24:59.11  /valohai/inputs/java-program/DetectSentence.java: downloading https\n",
      "00:24:59.11  /valohai/inputs/model/en-sent.bin: downloading http://opennlp.sourc\n",
      "00:24:59.18  pulling image neomatrix369/nlp-java:0.2                            \n",
      "00:24:59.30  /valohai/inputs/java-program/DetectSentence.java: downloaded, 1.1 k\n",
      "00:24:59.30  /valohai/inputs/java-program/DetectSentence.java: md5 sum: 0c75a3d2\n",
      "00:24:59.30  /valohai/inputs/java-program/DetectSentence.java: sha1 sum: 1cc6d7f\n",
      "00:24:59.30  /valohai/inputs/java-program/DetectSentence.java: sha256 sum: 5c9db\n",
      "00:24:59.86  /valohai/inputs/model/en-sent.bin: downloaded, 98.5 kB             \n",
      "00:24:59.86  /valohai/inputs/model/en-sent.bin: md5 sum: 3822c5f82cb4ba139284631\n",
      "00:24:59.86  /valohai/inputs/model/en-sent.bin: sha1 sum: 5cc6337965fa2236ad7f08\n",
      "00:24:59.86  /valohai/inputs/model/en-sent.bin: sha256 sum: bd6adffc85d66ccffd09\n",
      "00:25:00.62  /valohai/inputs/apache-opennlp-jar/apache-opennlp-1.9.1-bin.tar.gz:\n",
      "00:25:00.62  /valohai/inputs/apache-opennlp-jar/apache-opennlp-1.9.1-bin.tar.gz:\n",
      "00:25:00.62  /valohai/inputs/apache-opennlp-jar/apache-opennlp-1.9.1-bin.tar.gz:\n",
      "00:25:00.62  /valohai/inputs/apache-opennlp-jar/apache-opennlp-1.9.1-bin.tar.gz:\n",
      "(nlp-java-jvm-example) #31                            2019-11-27T00:26:07.685003\n",
      "Status: started     Step: detect-sentencCommit: ~bde3d0fc8f2           19 events\n",
      "================================================================================\n",
      "00:24:59.06  starting job on i-05915a3cc4afe54df, Peon 0.27.1                   \n",
      "00:24:59.08  free scratch space: 403.4 GB (403421937664 B)                      \n",
      "00:24:59.09  downloading repository (code)                                      \n",
      "00:24:59.11  /valohai/inputs/apache-opennlp-jar/apache-opennlp-1.9.1-bin.tar.gz:\n",
      "00:24:59.11  /valohai/inputs/java-program/DetectSentence.java: downloading https\n",
      "00:24:59.11  /valohai/inputs/model/en-sent.bin: downloading http://opennlp.sourc\n",
      "00:24:59.18  pulling image neomatrix369/nlp-java:0.2                            \n",
      "00:24:59.30  /valohai/inputs/java-program/DetectSentence.java: downloaded, 1.1 k\n",
      "00:24:59.30  /valohai/inputs/java-program/DetectSentence.java: md5 sum: 0c75a3d2\n",
      "00:24:59.30  /valohai/inputs/java-program/DetectSentence.java: sha1 sum: 1cc6d7f\n",
      "00:24:59.30  /valohai/inputs/java-program/DetectSentence.java: sha256 sum: 5c9db\n",
      "00:24:59.86  /valohai/inputs/model/en-sent.bin: downloaded, 98.5 kB             \n",
      "00:24:59.86  /valohai/inputs/model/en-sent.bin: md5 sum: 3822c5f82cb4ba139284631\n",
      "00:24:59.86  /valohai/inputs/model/en-sent.bin: sha1 sum: 5cc6337965fa2236ad7f08\n",
      "00:24:59.86  /valohai/inputs/model/en-sent.bin: sha256 sum: bd6adffc85d66ccffd09\n",
      "00:25:00.62  /valohai/inputs/apache-opennlp-jar/apache-opennlp-1.9.1-bin.tar.gz:\n",
      "00:25:00.62  /valohai/inputs/apache-opennlp-jar/apache-opennlp-1.9.1-bin.tar.gz:\n",
      "00:25:00.62  /valohai/inputs/apache-opennlp-jar/apache-opennlp-1.9.1-bin.tar.gz:\n",
      "00:25:00.62  /valohai/inputs/apache-opennlp-jar/apache-opennlp-1.9.1-bin.tar.gz:\n",
      "(nlp-java-jvm-example) #31                            2019-11-27T00:26:08.880802\n",
      "Status: started     Step: detect-sentencCommit: ~bde3d0fc8f2           19 events\n",
      "================================================================================\n",
      "00:24:59.06  starting job on i-05915a3cc4afe54df, Peon 0.27.1                   \n",
      "00:24:59.08  free scratch space: 403.4 GB (403421937664 B)                      \n",
      "00:24:59.09  downloading repository (code)                                      \n",
      "00:24:59.11  /valohai/inputs/apache-opennlp-jar/apache-opennlp-1.9.1-bin.tar.gz:\n",
      "00:24:59.11  /valohai/inputs/java-program/DetectSentence.java: downloading https\n",
      "00:24:59.11  /valohai/inputs/model/en-sent.bin: downloading http://opennlp.sourc\n",
      "00:24:59.18  pulling image neomatrix369/nlp-java:0.2                            \n",
      "00:24:59.30  /valohai/inputs/java-program/DetectSentence.java: downloaded, 1.1 k\n",
      "00:24:59.30  /valohai/inputs/java-program/DetectSentence.java: md5 sum: 0c75a3d2\n",
      "00:24:59.30  /valohai/inputs/java-program/DetectSentence.java: sha1 sum: 1cc6d7f\n",
      "00:24:59.30  /valohai/inputs/java-program/DetectSentence.java: sha256 sum: 5c9db\n",
      "00:24:59.86  /valohai/inputs/model/en-sent.bin: downloaded, 98.5 kB             \n",
      "00:24:59.86  /valohai/inputs/model/en-sent.bin: md5 sum: 3822c5f82cb4ba139284631\n",
      "00:24:59.86  /valohai/inputs/model/en-sent.bin: sha1 sum: 5cc6337965fa2236ad7f08\n",
      "00:24:59.86  /valohai/inputs/model/en-sent.bin: sha256 sum: bd6adffc85d66ccffd09\n",
      "00:25:00.62  /valohai/inputs/apache-opennlp-jar/apache-opennlp-1.9.1-bin.tar.gz:\n",
      "00:25:00.62  /valohai/inputs/apache-opennlp-jar/apache-opennlp-1.9.1-bin.tar.gz:\n",
      "00:25:00.62  /valohai/inputs/apache-opennlp-jar/apache-opennlp-1.9.1-bin.tar.gz:\n",
      "00:25:00.62  /valohai/inputs/apache-opennlp-jar/apache-opennlp-1.9.1-bin.tar.gz:\n"
     ]
    }
   ],
   "source": [
    "%system ./watch-execution.sh 31"
   ]
  },
  {
   "cell_type": "code",
   "execution_count": 151,
   "metadata": {},
   "outputs": [
    {
     "name": "stdout",
     "output_type": "stream",
     "text": [
      "Gathering output from counter 31\n",
      "00:27:10.68 [Started...]\n",
      "00:27:10.84 Sentence:   First sentence. Second sentence.\n",
      "00:27:10.84 [First sentence., Second sentence.]\n",
      "00:27:10.85 \n",
      "00:27:10.85 [[2..17), [18..34)]\n",
      "00:27:10.85 [...Finished]\n",
      "00:27:11.84 container finished with return code 0, duration 3.011956\n",
      "00:27:11.85 completed in 132.78 seconds\n"
     ]
    }
   ],
   "source": [
    "%system ./show-final-result.sh 31"
   ]
  },
  {
   "cell_type": "markdown",
   "metadata": {},
   "source": [
    "**As you can see the two ways to use the SentenceDetect API to detect sentences in a piece of text.**"
   ]
  },
  {
   "cell_type": "markdown",
   "metadata": {},
   "source": [
    "Return to [Table of contents](#Table-of-contents)"
   ]
  },
  {
   "cell_type": "markdown",
   "metadata": {},
   "source": [
    "### Tokenizer API"
   ]
  },
  {
   "cell_type": "markdown",
   "metadata": {},
   "source": [
    "##### Show a simple example of tokenization of a sentence using a Tokenizer model called en-token.bin on a remote instance (powered by Valohai), from within the notebook cell using cell magic!"
   ]
  },
  {
   "cell_type": "code",
   "execution_count": 136,
   "metadata": {
    "scrolled": true
   },
   "outputs": [
    {
     "name": "stdout",
     "output_type": "stream",
     "text": [
      "Executing step tokenize\n",
      "Packaging /home/jovyan/work...\n",
      "=>   Git not available, found 15 files to package\n",
      "Uploading 26.6 kB...\n",
      "😎  Success! Uploaded ad-hoc code ~b0c9a5c78af1fffa0e76a38ffd6bd3e0ce12513d1bda34482723c2f4af35e40b\n",
      "😀  Success! Execution #32 created. See https://app.valohai.com/p/neomatrix369/nlp-java-jvm-example/execution/016eaa40-982a-89e5-ec0d-ca0dd955ac16/\n"
     ]
    }
   ],
   "source": [
    "%system ./exec-step.sh \"tokenize\""
   ]
  },
  {
   "cell_type": "code",
   "execution_count": 137,
   "metadata": {
    "scrolled": true
   },
   "outputs": [
    {
     "name": "stdout",
     "output_type": "stream",
     "text": [
      "Watching counter 32\n",
      "(nlp-java-jvm-example) #32                            2019-11-27T00:26:41.666020\n",
      "Status: started     Step: tokenize-senteCommit: ~b0c9a5c78af           19 events\n",
      "================================================================================\n",
      "00:26:30.79  starting job on i-0c865f2a1773b78fd, Peon 0.27.1                   \n",
      "00:26:30.81  free scratch space: 403.4 GB (403421937664 B)                      \n",
      "00:26:30.82  downloading repository (code)                                      \n",
      "00:26:30.83  /valohai/inputs/java-program/Tokenize.java: downloading https://raw\n",
      "00:26:30.83  /valohai/inputs/model/en-token.bin: downloading http://opennlp.sour\n",
      "00:26:30.83  /valohai/inputs/apache-opennlp-jar/apache-opennlp-1.9.1-bin.tar.gz:\n",
      "00:26:30.89  pulling image neomatrix369/nlp-java:0.2                            \n",
      "00:26:31.02  /valohai/inputs/java-program/Tokenize.java: downloaded, 1.3 kB     \n",
      "00:26:31.02  /valohai/inputs/java-program/Tokenize.java: md5 sum: 0be5e9141a98e9\n",
      "00:26:31.02  /valohai/inputs/java-program/Tokenize.java: sha1 sum: 34998f62e664e\n",
      "00:26:31.02  /valohai/inputs/java-program/Tokenize.java: sha256 sum: f65d21436d7\n",
      "00:26:31.72  /valohai/inputs/model/en-token.bin: downloaded, 439.9 kB           \n",
      "00:26:31.72  /valohai/inputs/model/en-token.bin: md5 sum: f38628ea25fc246e99fc5e\n",
      "00:26:31.72  /valohai/inputs/model/en-token.bin: sha1 sum: b9a0168d52518dbe30698\n",
      "00:26:31.72  /valohai/inputs/model/en-token.bin: sha256 sum: 2d0dd64ffb3d084382d\n",
      "00:26:33.09  /valohai/inputs/apache-opennlp-jar/apache-opennlp-1.9.1-bin.tar.gz:\n",
      "00:26:33.09  /valohai/inputs/apache-opennlp-jar/apache-opennlp-1.9.1-bin.tar.gz:\n",
      "00:26:33.09  /valohai/inputs/apache-opennlp-jar/apache-opennlp-1.9.1-bin.tar.gz:\n",
      "00:26:33.09  /valohai/inputs/apache-opennlp-jar/apache-opennlp-1.9.1-bin.tar.gz:\n",
      "(nlp-java-jvm-example) #32                            2019-11-27T00:26:42.936550\n",
      "Status: started     Step: tokenize-senteCommit: ~b0c9a5c78af           19 events\n",
      "================================================================================\n",
      "00:26:30.79  starting job on i-0c865f2a1773b78fd, Peon 0.27.1                   \n",
      "00:26:30.81  free scratch space: 403.4 GB (403421937664 B)                      \n",
      "00:26:30.82  downloading repository (code)                                      \n",
      "00:26:30.83  /valohai/inputs/java-program/Tokenize.java: downloading https://raw\n",
      "00:26:30.83  /valohai/inputs/model/en-token.bin: downloading http://opennlp.sour\n",
      "00:26:30.83  /valohai/inputs/apache-opennlp-jar/apache-opennlp-1.9.1-bin.tar.gz:\n",
      "00:26:30.89  pulling image neomatrix369/nlp-java:0.2                            \n",
      "00:26:31.02  /valohai/inputs/java-program/Tokenize.java: downloaded, 1.3 kB     \n",
      "00:26:31.02  /valohai/inputs/java-program/Tokenize.java: md5 sum: 0be5e9141a98e9\n",
      "00:26:31.02  /valohai/inputs/java-program/Tokenize.java: sha1 sum: 34998f62e664e\n",
      "00:26:31.02  /valohai/inputs/java-program/Tokenize.java: sha256 sum: f65d21436d7\n",
      "00:26:31.72  /valohai/inputs/model/en-token.bin: downloaded, 439.9 kB           \n",
      "00:26:31.72  /valohai/inputs/model/en-token.bin: md5 sum: f38628ea25fc246e99fc5e\n",
      "00:26:31.72  /valohai/inputs/model/en-token.bin: sha1 sum: b9a0168d52518dbe30698\n",
      "00:26:31.72  /valohai/inputs/model/en-token.bin: sha256 sum: 2d0dd64ffb3d084382d\n",
      "00:26:33.09  /valohai/inputs/apache-opennlp-jar/apache-opennlp-1.9.1-bin.tar.gz:\n",
      "00:26:33.09  /valohai/inputs/apache-opennlp-jar/apache-opennlp-1.9.1-bin.tar.gz:\n",
      "00:26:33.09  /valohai/inputs/apache-opennlp-jar/apache-opennlp-1.9.1-bin.tar.gz:\n",
      "00:26:33.09  /valohai/inputs/apache-opennlp-jar/apache-opennlp-1.9.1-bin.tar.gz:\n"
     ]
    }
   ],
   "source": [
    "%system ./watch-execution.sh 32"
   ]
  },
  {
   "cell_type": "code",
   "execution_count": 152,
   "metadata": {},
   "outputs": [
    {
     "name": "stdout",
     "output_type": "stream",
     "text": [
      "Gathering output from counter 32\n",
      "00:28:14.32 [Started...]\n",
      "00:28:14.53 Sentence: An input sample sentence.\n",
      "00:28:14.53 [An, input, sample, sentence, .]\n",
      "00:28:14.53 Probabilities of each of the tokens above\n",
      "00:28:14.54 1.0\n",
      "00:28:14.54 1.0\n",
      "00:28:14.54 1.0\n",
      "00:28:14.54 0.9956236737394807\n",
      "00:28:14.54 1.0\n",
      "00:28:14.54 \n",
      "00:28:14.54 [[0..2), [3..8), [9..15), [16..24), [24..25)]\n",
      "00:28:14.54 [...Finished]\n",
      "00:28:15.66 container finished with return code 0, duration 3.009422\n",
      "00:28:15.67 completed in 104.88 seconds\n"
     ]
    }
   ],
   "source": [
    "%system ./show-final-result.sh 32"
   ]
  },
  {
   "cell_type": "markdown",
   "metadata": {},
   "source": [
    "Return to [Table of contents](#Table-of-contents)"
   ]
  },
  {
   "cell_type": "markdown",
   "metadata": {},
   "source": [
    "### Name Finder API"
   ]
  },
  {
   "cell_type": "markdown",
   "metadata": {},
   "source": [
    "##### Show a simple example of tokenization of a sentence using a Tokenizer model called en-token.bin on a remote instance (powered by Valohai), from within the notebook cell using cell magic!"
   ]
  },
  {
   "cell_type": "code",
   "execution_count": 138,
   "metadata": {
    "scrolled": true
   },
   "outputs": [
    {
     "name": "stdout",
     "output_type": "stream",
     "text": [
      "Executing step name-finder-person\n",
      "Packaging /home/jovyan/work...\n",
      "=>   Git not available, found 15 files to package\n",
      "Uploading 27.2 kB...\n",
      "🙂  Success! Uploaded ad-hoc code ~081836aba2221ea232a42568193fb470d0287c5931204ec392ab22c61ae399dc\n",
      "😺  Success! Execution #33 created. See https://app.valohai.com/p/neomatrix369/nlp-java-jvm-example/execution/016eaa40-f36e-d0da-17d5-6eeb14c60181/\n"
     ]
    }
   ],
   "source": [
    "%system ./exec-step.sh \"name-finder-person\""
   ]
  },
  {
   "cell_type": "code",
   "execution_count": 153,
   "metadata": {},
   "outputs": [
    {
     "name": "stdout",
     "output_type": "stream",
     "text": [
      "Watching counter 33\n",
      "(nlp-java-jvm-example) #33                            2019-11-27T00:29:59.675008\n",
      "Status: complete    Step: name-finder-peCommit: ~081836aba22          572 events\n",
      "================================================================================\n",
      "00:28:28.88  apache-opennlp-1.9.1/docs/apidocs/opennlp-tools/opennlp/tools/util/\n",
      "00:28:28.90  apache-opennlp-1.9.1/docs/apidocs/opennlp-tools/opennlp/tools/lemma\n",
      "00:28:28.92  apache-opennlp-1.9.1/docs/apidocs/opennlp-tools/opennlp/tools/ml/ma\n",
      "00:28:28.94  apache-opennlp-1.9.1/docs/apidocs/opennlp-tools/opennlp/tools/ml/pe\n",
      "00:28:28.96  apache-opennlp-1.9.1/docs/apidocs/opennlp-tools/opennlp/tools/posta\n",
      "00:28:28.98  apache-opennlp-1.9.1/docs/apidocs/opennlp-tools/opennlp/tools/forma\n",
      "00:28:29.00  apache-opennlp-1.9.1/docs/apidocs/opennlp-tools/opennlp/tools/forma\n",
      "00:28:29.02  apache-opennlp-1.9.1/docs/apidocs/opennlp-tools/opennlp/tools/forma\n",
      "00:28:29.04  apache-opennlp-1.9.1/docs/apidocs/opennlp-brat-annotator/opennlp/br\n",
      "00:28:29.06  apache-opennlp-1.9.1/docs/apidocs/opennlp-uima/opennlp/uima/tokeniz\n",
      "00:28:29.08  apache-opennlp-1.9.1/docs/opennlp-uima-descriptors/PersonNameFinder\n",
      "00:28:30.05  [Started...]                                                       \n",
      "00:28:30.85  Sentence: [Pierre, is, from, Paris, France.]                       \n",
      "00:28:30.86  [[0..1) person]                                                    \n",
      "00:28:30.87  Sentence: [John, is, from, London, England.]                       \n",
      "00:28:30.87  [[0..1) person]                                                    \n",
      "00:28:30.87  [...Finished]                                                      \n",
      "00:28:31.28  container finished with return code 0, duration 3.009486           \n",
      "00:28:31.28  completed in 97.16 seconds                                         \n",
      "(nlp-java-jvm-example) #33                            2019-11-27T00:30:00.862983\n",
      "Status: complete    Step: name-finder-peCommit: ~081836aba22          572 events\n",
      "================================================================================\n",
      "00:28:28.88  apache-opennlp-1.9.1/docs/apidocs/opennlp-tools/opennlp/tools/util/\n",
      "00:28:28.90  apache-opennlp-1.9.1/docs/apidocs/opennlp-tools/opennlp/tools/lemma\n",
      "00:28:28.92  apache-opennlp-1.9.1/docs/apidocs/opennlp-tools/opennlp/tools/ml/ma\n",
      "00:28:28.94  apache-opennlp-1.9.1/docs/apidocs/opennlp-tools/opennlp/tools/ml/pe\n",
      "00:28:28.96  apache-opennlp-1.9.1/docs/apidocs/opennlp-tools/opennlp/tools/posta\n",
      "00:28:28.98  apache-opennlp-1.9.1/docs/apidocs/opennlp-tools/opennlp/tools/forma\n",
      "00:28:29.00  apache-opennlp-1.9.1/docs/apidocs/opennlp-tools/opennlp/tools/forma\n",
      "00:28:29.02  apache-opennlp-1.9.1/docs/apidocs/opennlp-tools/opennlp/tools/forma\n",
      "00:28:29.04  apache-opennlp-1.9.1/docs/apidocs/opennlp-brat-annotator/opennlp/br\n",
      "00:28:29.06  apache-opennlp-1.9.1/docs/apidocs/opennlp-uima/opennlp/uima/tokeniz\n",
      "00:28:29.08  apache-opennlp-1.9.1/docs/opennlp-uima-descriptors/PersonNameFinder\n",
      "00:28:30.05  [Started...]                                                       \n",
      "00:28:30.85  Sentence: [Pierre, is, from, Paris, France.]                       \n",
      "00:28:30.86  [[0..1) person]                                                    \n",
      "00:28:30.87  Sentence: [John, is, from, London, England.]                       \n",
      "00:28:30.87  [[0..1) person]                                                    \n",
      "00:28:30.87  [...Finished]                                                      \n",
      "00:28:31.28  container finished with return code 0, duration 3.009486           \n",
      "00:28:31.28  completed in 97.16 seconds                                         \n",
      "(nlp-java-jvm-example) #33                            2019-11-27T00:30:02.241864\n",
      "Status: complete    Step: name-finder-peCommit: ~081836aba22          572 events\n",
      "================================================================================\n",
      "00:28:28.88  apache-opennlp-1.9.1/docs/apidocs/opennlp-tools/opennlp/tools/util/\n",
      "00:28:28.90  apache-opennlp-1.9.1/docs/apidocs/opennlp-tools/opennlp/tools/lemma\n",
      "00:28:28.92  apache-opennlp-1.9.1/docs/apidocs/opennlp-tools/opennlp/tools/ml/ma\n",
      "00:28:28.94  apache-opennlp-1.9.1/docs/apidocs/opennlp-tools/opennlp/tools/ml/pe\n",
      "00:28:28.96  apache-opennlp-1.9.1/docs/apidocs/opennlp-tools/opennlp/tools/posta\n",
      "00:28:28.98  apache-opennlp-1.9.1/docs/apidocs/opennlp-tools/opennlp/tools/forma\n",
      "00:28:29.00  apache-opennlp-1.9.1/docs/apidocs/opennlp-tools/opennlp/tools/forma\n",
      "00:28:29.02  apache-opennlp-1.9.1/docs/apidocs/opennlp-tools/opennlp/tools/forma\n",
      "00:28:29.04  apache-opennlp-1.9.1/docs/apidocs/opennlp-brat-annotator/opennlp/br\n",
      "00:28:29.06  apache-opennlp-1.9.1/docs/apidocs/opennlp-uima/opennlp/uima/tokeniz\n",
      "00:28:29.08  apache-opennlp-1.9.1/docs/opennlp-uima-descriptors/PersonNameFinder\n",
      "00:28:30.05  [Started...]                                                       \n",
      "00:28:30.85  Sentence: [Pierre, is, from, Paris, France.]                       \n",
      "00:28:30.86  [[0..1) person]                                                    \n",
      "00:28:30.87  Sentence: [John, is, from, London, England.]                       \n",
      "00:28:30.87  [[0..1) person]                                                    \n",
      "00:28:30.87  [...Finished]                                                      \n",
      "00:28:31.28  container finished with return code 0, duration 3.009486           \n",
      "00:28:31.28  completed in 97.16 seconds                                         \n",
      "(nlp-java-jvm-example) #33                            2019-11-27T00:30:03.438267\n",
      "Status: complete    Step: name-finder-peCommit: ~081836aba22          572 events\n",
      "================================================================================\n",
      "00:28:28.88  apache-opennlp-1.9.1/docs/apidocs/opennlp-tools/opennlp/tools/util/\n",
      "00:28:28.90  apache-opennlp-1.9.1/docs/apidocs/opennlp-tools/opennlp/tools/lemma\n",
      "00:28:28.92  apache-opennlp-1.9.1/docs/apidocs/opennlp-tools/opennlp/tools/ml/ma\n",
      "00:28:28.94  apache-opennlp-1.9.1/docs/apidocs/opennlp-tools/opennlp/tools/ml/pe\n",
      "00:28:28.96  apache-opennlp-1.9.1/docs/apidocs/opennlp-tools/opennlp/tools/posta\n",
      "00:28:28.98  apache-opennlp-1.9.1/docs/apidocs/opennlp-tools/opennlp/tools/forma\n",
      "00:28:29.00  apache-opennlp-1.9.1/docs/apidocs/opennlp-tools/opennlp/tools/forma\n",
      "00:28:29.02  apache-opennlp-1.9.1/docs/apidocs/opennlp-tools/opennlp/tools/forma\n",
      "00:28:29.04  apache-opennlp-1.9.1/docs/apidocs/opennlp-brat-annotator/opennlp/br\n",
      "00:28:29.06  apache-opennlp-1.9.1/docs/apidocs/opennlp-uima/opennlp/uima/tokeniz\n",
      "00:28:29.08  apache-opennlp-1.9.1/docs/opennlp-uima-descriptors/PersonNameFinder\n",
      "00:28:30.05  [Started...]                                                       \n",
      "00:28:30.85  Sentence: [Pierre, is, from, Paris, France.]                       \n",
      "00:28:30.86  [[0..1) person]                                                    \n",
      "00:28:30.87  Sentence: [John, is, from, London, England.]                       \n",
      "00:28:30.87  [[0..1) person]                                                    \n",
      "00:28:30.87  [...Finished]                                                      \n",
      "00:28:31.28  container finished with return code 0, duration 3.009486           \n",
      "00:28:31.28  completed in 97.16 seconds                                         \n"
     ]
    }
   ],
   "source": [
    "%system ./watch-execution.sh 33"
   ]
  },
  {
   "cell_type": "code",
   "execution_count": 154,
   "metadata": {},
   "outputs": [
    {
     "name": "stdout",
     "output_type": "stream",
     "text": [
      "Gathering output from counter 33\n",
      "00:28:30.05 [Started...]\n",
      "00:28:30.85 Sentence: [Pierre, is, from, Paris, France.]\n",
      "00:28:30.86 [[0..1) person]\n",
      "00:28:30.87 Sentence: [John, is, from, London, England.]\n",
      "00:28:30.87 [[0..1) person]\n",
      "00:28:30.87 [...Finished]\n",
      "00:28:31.28 container finished with return code 0, duration 3.009486\n",
      "00:28:31.28 completed in 97.16 seconds\n"
     ]
    }
   ],
   "source": [
    "%system ./show-final-result.sh 33"
   ]
  },
  {
   "cell_type": "markdown",
   "metadata": {},
   "source": [
    "**As you can see above, it has detected the name of the person in both sentences**"
   ]
  },
  {
   "cell_type": "markdown",
   "metadata": {},
   "source": [
    "Return to [Table of contents](#Table-of-contents)"
   ]
  },
  {
   "cell_type": "markdown",
   "metadata": {},
   "source": [
    "### More Name Finder API examples\n",
    "\n",
    "There are a handful more Name Finder related models i.e.\n",
    "\n",
    "- Name Finder Date\n",
    "- Name Finder Location\n",
    "- Name Finder Money\n",
    "- Name Finder Organization\n",
    "- Name Finder Percentage\n",
    "- Name Finder Time\n",
    "\n",
    "Their model names go by these names respectively:\n",
    "\n",
    "- en-ner-date.bin\n",
    "- en-ner-location.bin\n",
    "- en-ner-money.bin\n",
    "- en-ner-organization.bin\n",
    "- en-ner-percentage.bin\n",
    "- en-ner-time.bin\n",
    "\n",
    "and can be found at the same location all other models are found at, i.e. http://opennlp.sourceforge.net/models-1.5/"
   ]
  },
  {
   "cell_type": "markdown",
   "metadata": {},
   "source": [
    "Return to [Table of contents](#Table-of-contents)"
   ]
  },
  {
   "cell_type": "markdown",
   "metadata": {},
   "source": [
    "### Parts of speech (POS) Tagger API"
   ]
  },
  {
   "cell_type": "markdown",
   "metadata": {},
   "source": [
    "##### Show a simple example of Parts of speech tagger on a sentence using a PoS Tagger model called en-pos-maxent.bin on a remote instance (powered by Valohai), from within the notebook cell using cell magic!"
   ]
  },
  {
   "cell_type": "code",
   "execution_count": 141,
   "metadata": {
    "scrolled": true
   },
   "outputs": [
    {
     "name": "stdout",
     "output_type": "stream",
     "text": [
      "Executing step pos-tagger\n",
      "Packaging /home/jovyan/work...\n",
      "=>   Git not available, found 15 files to package\n",
      "😃  Success! Ad-hoc code ~081836aba2221ea232a42568193fb470d0287c5931204ec392ab22c61ae399dc already uploaded\n",
      "😻  Success! Execution #34 created. See https://app.valohai.com/p/neomatrix369/nlp-java-jvm-example/execution/016eaa41-405b-d39c-041d-834d48964c65/\n"
     ]
    }
   ],
   "source": [
    "%system ./exec-step.sh \"pos-tagger\""
   ]
  },
  {
   "cell_type": "code",
   "execution_count": 142,
   "metadata": {},
   "outputs": [
    {
     "name": "stdout",
     "output_type": "stream",
     "text": [
      "Watching counter 34\n",
      "(nlp-java-jvm-example) #34                            2019-11-27T00:27:17.361272\n",
      "Status: started     Step: pos-tagger    Commit: ~081836aba22           14 events\n",
      "================================================================================\n",
      "00:27:13.76  starting job on i-05915a3cc4afe54df, Peon 0.27.1                   \n",
      "00:27:13.78  free scratch space: 400.3 GB (400329969664 B)                      \n",
      "00:27:13.79  downloading repository (code)                                      \n",
      "00:27:13.80  /valohai/inputs/model/en-pos-maxent.bin: downloading http://opennlp\n",
      "00:27:13.80  /valohai/inputs/java-program/PoSTagger.java: downloading https://ra\n",
      "00:27:13.81  /valohai/inputs/apache-opennlp-jar/apache-opennlp-1.9.1-bin.tar.gz:\n",
      "00:27:13.81  /valohai/inputs/apache-opennlp-jar/apache-opennlp-1.9.1-bin.tar.gz:\n",
      "00:27:13.81  /valohai/inputs/apache-opennlp-jar/apache-opennlp-1.9.1-bin.tar.gz:\n",
      "00:27:13.82  /valohai/inputs/apache-opennlp-jar/apache-opennlp-1.9.1-bin.tar.gz:\n",
      "00:27:13.87  image neomatrix369/nlp-java:0.2 was found in cache                 \n",
      "00:27:13.98  /valohai/inputs/java-program/PoSTagger.java: downloaded, 1.5 kB    \n",
      "00:27:13.98  /valohai/inputs/java-program/PoSTagger.java: md5 sum: 227c3afeff590\n",
      "00:27:13.98  /valohai/inputs/java-program/PoSTagger.java: sha1 sum: 03dbb3d19afc\n",
      "00:27:13.98  /valohai/inputs/java-program/PoSTagger.java: sha256 sum: 645890a28a\n",
      "(nlp-java-jvm-example) #34                            2019-11-27T00:27:18.533824\n",
      "Status: started     Step: pos-tagger    Commit: ~081836aba22           15 events\n",
      "================================================================================\n",
      "00:27:13.76  starting job on i-05915a3cc4afe54df, Peon 0.27.1                   \n",
      "00:27:13.78  free scratch space: 400.3 GB (400329969664 B)                      \n",
      "00:27:13.79  downloading repository (code)                                      \n",
      "00:27:13.80  /valohai/inputs/model/en-pos-maxent.bin: downloading http://opennlp\n",
      "00:27:13.80  /valohai/inputs/java-program/PoSTagger.java: downloading https://ra\n",
      "00:27:13.81  /valohai/inputs/apache-opennlp-jar/apache-opennlp-1.9.1-bin.tar.gz:\n",
      "00:27:13.81  /valohai/inputs/apache-opennlp-jar/apache-opennlp-1.9.1-bin.tar.gz:\n",
      "00:27:13.81  /valohai/inputs/apache-opennlp-jar/apache-opennlp-1.9.1-bin.tar.gz:\n",
      "00:27:13.82  /valohai/inputs/apache-opennlp-jar/apache-opennlp-1.9.1-bin.tar.gz:\n",
      "00:27:13.87  image neomatrix369/nlp-java:0.2 was found in cache                 \n",
      "00:27:13.98  /valohai/inputs/java-program/PoSTagger.java: downloaded, 1.5 kB    \n",
      "00:27:13.98  /valohai/inputs/java-program/PoSTagger.java: md5 sum: 227c3afeff590\n",
      "00:27:13.98  /valohai/inputs/java-program/PoSTagger.java: sha1 sum: 03dbb3d19afc\n",
      "00:27:13.98  /valohai/inputs/java-program/PoSTagger.java: sha256 sum: 645890a28a\n",
      "00:27:17.46  /valohai/inputs/model/en-pos-maxent.bin: 3.1 MB downloaded (55.23%)\n",
      "(nlp-java-jvm-example) #34                            2019-11-27T00:27:19.708086\n",
      "Status: started     Step: pos-tagger    Commit: ~081836aba22           16 events\n",
      "================================================================================\n",
      "00:27:13.76  starting job on i-05915a3cc4afe54df, Peon 0.27.1                   \n",
      "00:27:13.78  free scratch space: 400.3 GB (400329969664 B)                      \n",
      "00:27:13.79  downloading repository (code)                                      \n",
      "00:27:13.80  /valohai/inputs/model/en-pos-maxent.bin: downloading http://opennlp\n",
      "00:27:13.80  /valohai/inputs/java-program/PoSTagger.java: downloading https://ra\n",
      "00:27:13.81  /valohai/inputs/apache-opennlp-jar/apache-opennlp-1.9.1-bin.tar.gz:\n",
      "00:27:13.81  /valohai/inputs/apache-opennlp-jar/apache-opennlp-1.9.1-bin.tar.gz:\n",
      "00:27:13.81  /valohai/inputs/apache-opennlp-jar/apache-opennlp-1.9.1-bin.tar.gz:\n",
      "00:27:13.82  /valohai/inputs/apache-opennlp-jar/apache-opennlp-1.9.1-bin.tar.gz:\n",
      "00:27:13.87  image neomatrix369/nlp-java:0.2 was found in cache                 \n",
      "00:27:13.98  /valohai/inputs/java-program/PoSTagger.java: downloaded, 1.5 kB    \n",
      "00:27:13.98  /valohai/inputs/java-program/PoSTagger.java: md5 sum: 227c3afeff590\n",
      "00:27:13.98  /valohai/inputs/java-program/PoSTagger.java: sha1 sum: 03dbb3d19afc\n",
      "00:27:13.98  /valohai/inputs/java-program/PoSTagger.java: sha256 sum: 645890a28a\n",
      "00:27:17.46  /valohai/inputs/model/en-pos-maxent.bin: 3.1 MB downloaded (55.23%)\n",
      "00:27:19.46  /valohai/inputs/model/en-pos-maxent.bin: 4.2 MB downloaded (73.63%)\n"
     ]
    }
   ],
   "source": [
    "%system ./watch-execution.sh 34"
   ]
  },
  {
   "cell_type": "code",
   "execution_count": 155,
   "metadata": {},
   "outputs": [
    {
     "name": "stdout",
     "output_type": "stream",
     "text": [
      "Gathering output from counter 34\n",
      "00:27:26.23 [Started...]\n",
      "00:27:27.22 Sentence: [Most, large, cities, in, the, US, had, morning, and, afternoon, newspapers, .]\n",
      "00:27:27.22 [JJS, JJ, NNS, IN, DT, NNP, VBD, NN, CC, NN, NNS, .]\n",
      "00:27:27.23 \n",
      "00:27:27.23 Probabilities of tags:\n",
      "00:27:27.23 0.6005488809717314\n",
      "00:27:27.23 0.9346347227057236\n",
      "00:27:27.23 0.9928943439421191\n",
      "00:27:27.23 0.993711911129381\n",
      "00:27:27.24 0.9959619800700815\n",
      "00:27:27.24 0.9632635300742168\n",
      "00:27:27.24 0.96904256131942\n",
      "00:27:27.24 0.936549747737236\n",
      "00:27:27.24 0.9706281118634225\n",
      "00:27:27.24 0.8831901977922334\n",
      "00:27:27.24 0.9711019283924753\n",
      "00:27:27.24 0.9931572030890747\n",
      "00:27:27.24 \n",
      "00:27:27.24 Tags as sequences (contains probabilities:\n",
      "00:27:27.24 [-0.9196402685290461 [JJS, JJ, NNS, IN, DT, NNP, VBD, NN, CC, NN, NNS, .], -1.4538683571912276 [RBS, JJ, NNS, IN, DT, NNP, VBD, NN, CC, NN, NNS, .], -5.124416242584632 [JJS, JJ, NNS, IN, DT, PRP, VBD, NN, CC, NN, NNS, .]]\n",
      "00:27:27.24 [...Finished]\n"
     ]
    }
   ],
   "source": [
    "%system ./show-final-result.sh 34"
   ]
  },
  {
   "cell_type": "markdown",
   "metadata": {},
   "source": [
    "Return to [Table of contents](#Table-of-contents)"
   ]
  },
  {
   "cell_type": "markdown",
   "metadata": {},
   "source": [
    "### Chunking API"
   ]
  },
  {
   "cell_type": "markdown",
   "metadata": {},
   "source": [
    "##### Show a simple example of chunking on a sentence using a Chunker model called en-chunker.bin on a remote instance (powered by Valohai), from within the notebook cell using cell magic!"
   ]
  },
  {
   "cell_type": "code",
   "execution_count": 144,
   "metadata": {
    "scrolled": true
   },
   "outputs": [
    {
     "name": "stdout",
     "output_type": "stream",
     "text": [
      "Executing step chunker\n",
      "Packaging /home/jovyan/work...\n",
      "=>   Git not available, found 15 files to package\n",
      "😃  Success! Ad-hoc code ~081836aba2221ea232a42568193fb470d0287c5931204ec392ab22c61ae399dc already uploaded\n",
      "😼  Success! Execution #35 created. See https://app.valohai.com/p/neomatrix369/nlp-java-jvm-example/execution/016eaa41-9477-3290-ff15-8119f600cc24/\n"
     ]
    }
   ],
   "source": [
    "%system ./exec-step.sh \"chunker\""
   ]
  },
  {
   "cell_type": "code",
   "execution_count": 145,
   "metadata": {},
   "outputs": [
    {
     "name": "stdout",
     "output_type": "stream",
     "text": [
      "Watching counter 35\n",
      "(nlp-java-jvm-example) #35                            2019-11-27T00:27:40.393003\n",
      "Status: started     Step: chunker       Commit: ~081836aba22           19 events\n",
      "================================================================================\n",
      "00:27:35.33  starting job on i-0ce501b6954a07890, Peon 0.27.1                   \n",
      "00:27:35.36  free scratch space: 403.4 GB (403421937664 B)                      \n",
      "00:27:35.37  downloading repository (code)                                      \n",
      "00:27:35.38  /valohai/inputs/java-program/Chunker.java: downloading https://raw.\n",
      "00:27:35.38  /valohai/inputs/apache-opennlp-jar/apache-opennlp-1.9.1-bin.tar.gz:\n",
      "00:27:35.38  /valohai/inputs/model/en-chunker.bin: downloading http://opennlp.so\n",
      "00:27:35.46  pulling image neomatrix369/nlp-java:0.2                            \n",
      "00:27:35.56  /valohai/inputs/java-program/Chunker.java: downloaded, 1.7 kB      \n",
      "00:27:35.57  /valohai/inputs/java-program/Chunker.java: md5 sum: cd797541f005bd4\n",
      "00:27:35.57  /valohai/inputs/java-program/Chunker.java: sha1 sum: 6464c016f3ac7b\n",
      "00:27:35.57  /valohai/inputs/java-program/Chunker.java: sha256 sum: e01707daa44c\n",
      "00:27:36.19  /valohai/inputs/apache-opennlp-jar/apache-opennlp-1.9.1-bin.tar.gz:\n",
      "00:27:36.19  /valohai/inputs/apache-opennlp-jar/apache-opennlp-1.9.1-bin.tar.gz:\n",
      "00:27:36.19  /valohai/inputs/apache-opennlp-jar/apache-opennlp-1.9.1-bin.tar.gz:\n",
      "00:27:36.19  /valohai/inputs/apache-opennlp-jar/apache-opennlp-1.9.1-bin.tar.gz:\n",
      "00:27:38.15  /valohai/inputs/model/en-chunker.bin: downloaded, 2.6 MB           \n",
      "00:27:38.15  /valohai/inputs/model/en-chunker.bin: md5 sum: f058c62bcdab7b6d6113\n",
      "00:27:38.15  /valohai/inputs/model/en-chunker.bin: sha1 sum: 9aa9314c0917a054403\n",
      "00:27:38.15  /valohai/inputs/model/en-chunker.bin: sha256 sum: 7861a0c2f134d9c12\n",
      "(nlp-java-jvm-example) #35                            2019-11-27T00:27:41.595757\n",
      "Status: started     Step: chunker       Commit: ~081836aba22           19 events\n",
      "================================================================================\n",
      "00:27:35.33  starting job on i-0ce501b6954a07890, Peon 0.27.1                   \n",
      "00:27:35.36  free scratch space: 403.4 GB (403421937664 B)                      \n",
      "00:27:35.37  downloading repository (code)                                      \n",
      "00:27:35.38  /valohai/inputs/java-program/Chunker.java: downloading https://raw.\n",
      "00:27:35.38  /valohai/inputs/apache-opennlp-jar/apache-opennlp-1.9.1-bin.tar.gz:\n",
      "00:27:35.38  /valohai/inputs/model/en-chunker.bin: downloading http://opennlp.so\n",
      "00:27:35.46  pulling image neomatrix369/nlp-java:0.2                            \n",
      "00:27:35.56  /valohai/inputs/java-program/Chunker.java: downloaded, 1.7 kB      \n",
      "00:27:35.57  /valohai/inputs/java-program/Chunker.java: md5 sum: cd797541f005bd4\n",
      "00:27:35.57  /valohai/inputs/java-program/Chunker.java: sha1 sum: 6464c016f3ac7b\n",
      "00:27:35.57  /valohai/inputs/java-program/Chunker.java: sha256 sum: e01707daa44c\n",
      "00:27:36.19  /valohai/inputs/apache-opennlp-jar/apache-opennlp-1.9.1-bin.tar.gz:\n",
      "00:27:36.19  /valohai/inputs/apache-opennlp-jar/apache-opennlp-1.9.1-bin.tar.gz:\n",
      "00:27:36.19  /valohai/inputs/apache-opennlp-jar/apache-opennlp-1.9.1-bin.tar.gz:\n",
      "00:27:36.19  /valohai/inputs/apache-opennlp-jar/apache-opennlp-1.9.1-bin.tar.gz:\n",
      "00:27:38.15  /valohai/inputs/model/en-chunker.bin: downloaded, 2.6 MB           \n",
      "00:27:38.15  /valohai/inputs/model/en-chunker.bin: md5 sum: f058c62bcdab7b6d6113\n",
      "00:27:38.15  /valohai/inputs/model/en-chunker.bin: sha1 sum: 9aa9314c0917a054403\n",
      "00:27:38.15  /valohai/inputs/model/en-chunker.bin: sha256 sum: 7861a0c2f134d9c12\n",
      "(nlp-java-jvm-example) #35                            2019-11-27T00:27:42.778898\n",
      "Status: started     Step: chunker       Commit: ~081836aba22           19 events\n",
      "================================================================================\n",
      "00:27:35.33  starting job on i-0ce501b6954a07890, Peon 0.27.1                   \n",
      "00:27:35.36  free scratch space: 403.4 GB (403421937664 B)                      \n",
      "00:27:35.37  downloading repository (code)                                      \n",
      "00:27:35.38  /valohai/inputs/java-program/Chunker.java: downloading https://raw.\n",
      "00:27:35.38  /valohai/inputs/apache-opennlp-jar/apache-opennlp-1.9.1-bin.tar.gz:\n",
      "00:27:35.38  /valohai/inputs/model/en-chunker.bin: downloading http://opennlp.so\n",
      "00:27:35.46  pulling image neomatrix369/nlp-java:0.2                            \n",
      "00:27:35.56  /valohai/inputs/java-program/Chunker.java: downloaded, 1.7 kB      \n",
      "00:27:35.57  /valohai/inputs/java-program/Chunker.java: md5 sum: cd797541f005bd4\n",
      "00:27:35.57  /valohai/inputs/java-program/Chunker.java: sha1 sum: 6464c016f3ac7b\n",
      "00:27:35.57  /valohai/inputs/java-program/Chunker.java: sha256 sum: e01707daa44c\n",
      "00:27:36.19  /valohai/inputs/apache-opennlp-jar/apache-opennlp-1.9.1-bin.tar.gz:\n",
      "00:27:36.19  /valohai/inputs/apache-opennlp-jar/apache-opennlp-1.9.1-bin.tar.gz:\n",
      "00:27:36.19  /valohai/inputs/apache-opennlp-jar/apache-opennlp-1.9.1-bin.tar.gz:\n",
      "00:27:36.19  /valohai/inputs/apache-opennlp-jar/apache-opennlp-1.9.1-bin.tar.gz:\n",
      "00:27:38.15  /valohai/inputs/model/en-chunker.bin: downloaded, 2.6 MB           \n",
      "00:27:38.15  /valohai/inputs/model/en-chunker.bin: md5 sum: f058c62bcdab7b6d6113\n",
      "00:27:38.15  /valohai/inputs/model/en-chunker.bin: sha1 sum: 9aa9314c0917a054403\n",
      "00:27:38.15  /valohai/inputs/model/en-chunker.bin: sha256 sum: 7861a0c2f134d9c12\n",
      "(nlp-java-jvm-example) #35                            2019-11-27T00:27:44.010627\n",
      "Status: started     Step: chunker       Commit: ~081836aba22           19 events\n",
      "================================================================================\n",
      "00:27:35.33  starting job on i-0ce501b6954a07890, Peon 0.27.1                   \n",
      "00:27:35.36  free scratch space: 403.4 GB (403421937664 B)                      \n",
      "00:27:35.37  downloading repository (code)                                      \n",
      "00:27:35.38  /valohai/inputs/java-program/Chunker.java: downloading https://raw.\n",
      "00:27:35.38  /valohai/inputs/apache-opennlp-jar/apache-opennlp-1.9.1-bin.tar.gz:\n",
      "00:27:35.38  /valohai/inputs/model/en-chunker.bin: downloading http://opennlp.so\n",
      "00:27:35.46  pulling image neomatrix369/nlp-java:0.2                            \n",
      "00:27:35.56  /valohai/inputs/java-program/Chunker.java: downloaded, 1.7 kB      \n",
      "00:27:35.57  /valohai/inputs/java-program/Chunker.java: md5 sum: cd797541f005bd4\n",
      "00:27:35.57  /valohai/inputs/java-program/Chunker.java: sha1 sum: 6464c016f3ac7b\n",
      "00:27:35.57  /valohai/inputs/java-program/Chunker.java: sha256 sum: e01707daa44c\n",
      "00:27:36.19  /valohai/inputs/apache-opennlp-jar/apache-opennlp-1.9.1-bin.tar.gz:\n",
      "00:27:36.19  /valohai/inputs/apache-opennlp-jar/apache-opennlp-1.9.1-bin.tar.gz:\n",
      "00:27:36.19  /valohai/inputs/apache-opennlp-jar/apache-opennlp-1.9.1-bin.tar.gz:\n",
      "00:27:36.19  /valohai/inputs/apache-opennlp-jar/apache-opennlp-1.9.1-bin.tar.gz:\n",
      "00:27:38.15  /valohai/inputs/model/en-chunker.bin: downloaded, 2.6 MB           \n",
      "00:27:38.15  /valohai/inputs/model/en-chunker.bin: md5 sum: f058c62bcdab7b6d6113\n",
      "00:27:38.15  /valohai/inputs/model/en-chunker.bin: sha1 sum: 9aa9314c0917a054403\n",
      "00:27:38.15  /valohai/inputs/model/en-chunker.bin: sha256 sum: 7861a0c2f134d9c12\n"
     ]
    }
   ],
   "source": [
    "%system ./watch-execution.sh 35"
   ]
  },
  {
   "cell_type": "code",
   "execution_count": 156,
   "metadata": {
    "scrolled": true
   },
   "outputs": [
    {
     "name": "stdout",
     "output_type": "stream",
     "text": [
      "Gathering output from counter 35\n",
      "00:29:14.99 [Started...]\n",
      "00:29:15.46 Sentence: [Rockwell, International, Corp., 's, Tulsa, unit, said, it, signed, a, tentative, agreement, extending, its, contract, with, Boeing, Co., to, provide, structural, parts, for, Boeing, 's, 747, jetliners, .]\n",
      "00:29:15.46 \n",
      "00:29:15.47 Tags chunked: [B-NP, I-NP, I-NP, B-NP, I-NP, I-NP, B-VP, B-NP, B-VP, B-NP, I-NP, I-NP, B-VP, B-NP, I-NP, B-PP, B-NP, I-NP, B-VP, I-VP, B-NP, I-NP, B-PP, B-NP, B-NP, I-NP, I-NP, O]\n",
      "00:29:15.47 \n",
      "00:29:15.47 Tags chunked (with probabilities): [-0.3533550124421968 [B-NP, I-NP, I-NP, B-NP, I-NP, I-NP, B-VP, B-NP, B-VP, B-NP, I-NP, I-NP, B-VP, B-NP, I-NP, B-PP, B-NP, I-NP, B-VP, I-VP, B-NP, I-NP, B-PP, B-NP, B-NP, I-NP, I-NP, O], -4.9833651782143225 [B-NP, I-NP, I-NP, B-NP, I-NP, I-NP, B-VP, B-NP, B-VP, B-NP, I-NP, I-NP, B-PP, B-NP, I-NP, B-PP, B-NP, I-NP, B-VP, I-VP, B-NP, I-NP, B-PP, B-NP, B-NP, I-NP, I-NP, O], -5.207232108117287 [B-NP, I-NP, I-NP, B-NP, I-NP, I-NP, B-VP, B-NP, B-VP, B-NP, I-NP, I-NP, I-NP, B-NP, I-NP, B-PP, B-NP, I-NP, B-VP, I-VP, B-NP, I-NP, B-PP, B-NP, B-NP, I-NP, I-NP, O], -5.250640871618706 [B-NP, I-NP, I-NP, B-NP, I-NP, O, B-VP, B-NP, B-VP, B-NP, I-NP, I-NP, B-VP, B-NP, I-NP, B-PP, B-NP, I-NP, B-VP, I-VP, B-NP, I-NP, B-PP, B-NP, B-NP, I-NP, I-NP, O], -5.2542712803928815 [B-NP, I-NP, I-NP, B-NP, I-NP, I-NP, B-VP, B-NP, B-VP, B-NP, I-NP, I-NP, B-VP, B-NP, I-NP, B-PP, B-NP, I-NP, B-VP, I-VP, B-NP, I-NP, B-PP, B-NP, B-NP, I-NP, B-VP, O], -5.669524713139481 [B-NP, I-NP, I-NP, B-NP, I-NP, I-NP, B-VP, B-NP, B-VP, B-NP, I-NP, I-NP, B-VP, B-NP, I-NP, B-PP, B-NP, I-NP, B-VP, I-VP, B-NP, I-NP, B-NP, B-NP, B-NP, I-NP, I-NP, O], -5.802479037079788 [B-NP, I-NP, B-PP, B-NP, I-NP, I-NP, B-VP, B-NP, B-VP, B-NP, I-NP, I-NP, B-VP, B-NP, I-NP, B-PP, B-NP, I-NP, B-VP, I-VP, B-NP, I-NP, B-PP, B-NP, B-NP, I-NP, I-NP, O], -5.811282463417802 [B-NP, I-NP, I-NP, B-NP, I-NP, I-NP, B-VP, B-NP, B-VP, B-NP, I-NP, I-NP, B-VP, B-NP, I-NP, B-PP, B-NP, O, B-VP, I-VP, B-NP, I-NP, B-PP, B-NP, B-NP, I-NP, I-NP, O], -5.878077943396101 [B-NP, I-NP, I-NP, B-NP, I-NP, I-NP, B-VP, B-NP, B-VP, B-NP, I-NP, I-NP, B-VP, B-NP, I-NP, B-PP, B-NP, I-NP, B-VP, I-VP, B-NP, I-NP, B-LST, B-NP, B-NP, I-NP, I-NP, O], -5.960383921186912 [B-NP, I-NP, I-NP, B-NP, I-NP, I-NP, B-ADVP, B-NP, B-VP, B-NP, I-NP, I-NP, B-VP, B-NP, I-NP, B-PP, B-NP, I-NP, B-VP, I-VP, B-NP, I-NP, B-PP, B-NP, B-NP, I-NP, I-NP, O]]\n",
      "00:29:15.47 \n",
      "00:29:15.47 [...Finished]\n",
      "00:29:16.09 container finished with return code 0, duration 3.010635\n",
      "00:29:16.09 completed in 100.76 seconds\n"
     ]
    }
   ],
   "source": [
    "%system ./show-final-result.sh 35"
   ]
  },
  {
   "cell_type": "markdown",
   "metadata": {},
   "source": [
    "Return to [Table of contents](#Table-of-contents)"
   ]
  },
  {
   "cell_type": "markdown",
   "metadata": {},
   "source": [
    "### Parsing API"
   ]
  },
  {
   "cell_type": "markdown",
   "metadata": {},
   "source": [
    "##### Show a simple example of parsing chunked sentences using a Parser Chunker model called en-parser-chunking.bin on a remote instance (powered by Valohai), from within the notebook cell using cell magic!"
   ]
  },
  {
   "cell_type": "code",
   "execution_count": 1,
   "metadata": {
    "scrolled": true
   },
   "outputs": [
    {
     "name": "stdout",
     "output_type": "stream",
     "text": [
      "Executing step parser\n",
      "Packaging /home/jovyan/work...\n",
      "=>   Git not available, found 15 files to package\n",
      "Uploading 27.9 kB...\n",
      "😸  Success! Uploaded ad-hoc code ~5fdb97fc287ff35abc100fd118818f36d778f44c47ea6d95edc3b7ed2d933875\n",
      "😻  Success! Execution #41 created. See https://app.valohai.com/p/neomatrix369/nlp-java-jvm-example/execution/016eaa4a-9838-abda-0242-2c4703c96706/\n"
     ]
    }
   ],
   "source": [
    "%system ./exec-step.sh \"parser\""
   ]
  },
  {
   "cell_type": "code",
   "execution_count": 7,
   "metadata": {},
   "outputs": [
    {
     "name": "stdout",
     "output_type": "stream",
     "text": [
      "Watching counter 41\n",
      "(nlp-java-jvm-example) #41                            2019-11-27T01:00:44.328579\n",
      "Status: error       Step: parser        Commit: ~5fdb97fc287          588 events\n",
      "================================================================================\n",
      "00:38:37.45  apache-opennlp-1.9.1/docs/apidocs/opennlp-tools/opennlp/tools/lemma\n",
      "00:38:37.47  apache-opennlp-1.9.1/docs/apidocs/opennlp-tools/opennlp/tools/ml/mo\n",
      "00:38:37.49  apache-opennlp-1.9.1/docs/apidocs/opennlp-tools/opennlp/tools/ml/na\n",
      "00:38:37.51  apache-opennlp-1.9.1/docs/apidocs/opennlp-tools/opennlp/tools/posta\n",
      "00:38:37.53  apache-opennlp-1.9.1/docs/apidocs/opennlp-tools/opennlp/tools/forma\n",
      "00:38:37.55  apache-opennlp-1.9.1/docs/apidocs/opennlp-tools/opennlp/tools/forma\n",
      "00:38:37.57  apache-opennlp-1.9.1/docs/apidocs/opennlp-tools/opennlp/tools/forma\n",
      "00:38:37.59  apache-opennlp-1.9.1/docs/apidocs/opennlp-tools/opennlp/tools/sentd\n",
      "00:38:37.61  apache-opennlp-1.9.1/docs/apidocs/opennlp-morfologik-addon/opennlp/\n",
      "00:38:37.63  apache-opennlp-1.9.1/docs/apidocs/opennlp-uima/opennlp/uima/doccat/\n",
      "00:38:38.70  [Started...]                                                       \n",
      "00:38:38.71  Exception in thread \"main\" java.io.FileNotFoundException: ../shared\n",
      "00:38:38.71  at java.base/java.io.FileInputStream.open0(Native Method)          \n",
      "00:38:38.71  at java.base/java.io.FileInputStream.open(FileInputStream.java:219)\n",
      "00:38:38.71  at java.base/java.io.FileInputStream.<init>(FileInputStream.java:15\n",
      "00:38:38.71  at java.base/java.io.FileInputStream.<init>(FileInputStream.java:11\n",
      "00:38:38.71  at ParserChunking.main(ParserChunking.java:14)                     \n",
      "00:38:39.88  container finished with return code 1, duration 3.008516           \n",
      "00:38:39.88  completed in 73.78 seconds                                         \n",
      "(nlp-java-jvm-example) #41                            2019-11-27T01:00:45.523975\n",
      "Status: error       Step: parser        Commit: ~5fdb97fc287          588 events\n",
      "================================================================================\n",
      "00:38:37.45  apache-opennlp-1.9.1/docs/apidocs/opennlp-tools/opennlp/tools/lemma\n",
      "00:38:37.47  apache-opennlp-1.9.1/docs/apidocs/opennlp-tools/opennlp/tools/ml/mo\n",
      "00:38:37.49  apache-opennlp-1.9.1/docs/apidocs/opennlp-tools/opennlp/tools/ml/na\n",
      "00:38:37.51  apache-opennlp-1.9.1/docs/apidocs/opennlp-tools/opennlp/tools/posta\n",
      "00:38:37.53  apache-opennlp-1.9.1/docs/apidocs/opennlp-tools/opennlp/tools/forma\n",
      "00:38:37.55  apache-opennlp-1.9.1/docs/apidocs/opennlp-tools/opennlp/tools/forma\n",
      "00:38:37.57  apache-opennlp-1.9.1/docs/apidocs/opennlp-tools/opennlp/tools/forma\n",
      "00:38:37.59  apache-opennlp-1.9.1/docs/apidocs/opennlp-tools/opennlp/tools/sentd\n",
      "00:38:37.61  apache-opennlp-1.9.1/docs/apidocs/opennlp-morfologik-addon/opennlp/\n",
      "00:38:37.63  apache-opennlp-1.9.1/docs/apidocs/opennlp-uima/opennlp/uima/doccat/\n",
      "00:38:38.70  [Started...]                                                       \n",
      "00:38:38.71  Exception in thread \"main\" java.io.FileNotFoundException: ../shared\n",
      "00:38:38.71  at java.base/java.io.FileInputStream.open0(Native Method)          \n",
      "00:38:38.71  at java.base/java.io.FileInputStream.open(FileInputStream.java:219)\n",
      "00:38:38.71  at java.base/java.io.FileInputStream.<init>(FileInputStream.java:15\n",
      "00:38:38.71  at java.base/java.io.FileInputStream.<init>(FileInputStream.java:11\n",
      "00:38:38.71  at ParserChunking.main(ParserChunking.java:14)                     \n",
      "00:38:39.88  container finished with return code 1, duration 3.008516           \n",
      "00:38:39.88  completed in 73.78 seconds                                         \n",
      "(nlp-java-jvm-example) #41                            2019-11-27T01:00:46.721714\n",
      "Status: error       Step: parser        Commit: ~5fdb97fc287          588 events\n",
      "================================================================================\n",
      "00:38:37.45  apache-opennlp-1.9.1/docs/apidocs/opennlp-tools/opennlp/tools/lemma\n",
      "00:38:37.47  apache-opennlp-1.9.1/docs/apidocs/opennlp-tools/opennlp/tools/ml/mo\n",
      "00:38:37.49  apache-opennlp-1.9.1/docs/apidocs/opennlp-tools/opennlp/tools/ml/na\n",
      "00:38:37.51  apache-opennlp-1.9.1/docs/apidocs/opennlp-tools/opennlp/tools/posta\n",
      "00:38:37.53  apache-opennlp-1.9.1/docs/apidocs/opennlp-tools/opennlp/tools/forma\n",
      "00:38:37.55  apache-opennlp-1.9.1/docs/apidocs/opennlp-tools/opennlp/tools/forma\n",
      "00:38:37.57  apache-opennlp-1.9.1/docs/apidocs/opennlp-tools/opennlp/tools/forma\n",
      "00:38:37.59  apache-opennlp-1.9.1/docs/apidocs/opennlp-tools/opennlp/tools/sentd\n",
      "00:38:37.61  apache-opennlp-1.9.1/docs/apidocs/opennlp-morfologik-addon/opennlp/\n",
      "00:38:37.63  apache-opennlp-1.9.1/docs/apidocs/opennlp-uima/opennlp/uima/doccat/\n",
      "00:38:38.70  [Started...]                                                       \n",
      "00:38:38.71  Exception in thread \"main\" java.io.FileNotFoundException: ../shared\n",
      "00:38:38.71  at java.base/java.io.FileInputStream.open0(Native Method)          \n",
      "00:38:38.71  at java.base/java.io.FileInputStream.open(FileInputStream.java:219)\n",
      "00:38:38.71  at java.base/java.io.FileInputStream.<init>(FileInputStream.java:15\n",
      "00:38:38.71  at java.base/java.io.FileInputStream.<init>(FileInputStream.java:11\n",
      "00:38:38.71  at ParserChunking.main(ParserChunking.java:14)                     \n",
      "00:38:39.88  container finished with return code 1, duration 3.008516           \n",
      "00:38:39.88  completed in 73.78 seconds                                         \n"
     ]
    }
   ],
   "source": [
    "%system ./watch-execution.sh 41"
   ]
  },
  {
   "cell_type": "code",
   "execution_count": 8,
   "metadata": {
    "scrolled": true
   },
   "outputs": [
    {
     "name": "stdout",
     "output_type": "stream",
     "text": [
      "Gathering output from counter 41\n",
      "00:38:38.70 [Started...]\n",
      "00:38:38.71 Exception in thread \"main\" java.io.FileNotFoundException: ../shared/en-parser-chunking.bin (No such file or directory)\n",
      "00:38:38.71 at java.base/java.io.FileInputStream.open0(Native Method)\n",
      "00:38:38.71 at java.base/java.io.FileInputStream.open(FileInputStream.java:219)\n",
      "00:38:38.71 at java.base/java.io.FileInputStream.<init>(FileInputStream.java:157)\n",
      "00:38:38.71 at java.base/java.io.FileInputStream.<init>(FileInputStream.java:112)\n",
      "00:38:38.71 at ParserChunking.main(ParserChunking.java:14)\n",
      "00:38:39.88 container finished with return code 1, duration 3.008516\n",
      "00:38:39.88 completed in 73.78 seconds\n"
     ]
    }
   ],
   "source": [
    "%system ./show-final-result.sh 41"
   ]
  },
  {
   "cell_type": "markdown",
   "metadata": {},
   "source": [
    "Return to [Table of contents](#Table-of-contents)"
   ]
  },
  {
   "cell_type": "markdown",
   "metadata": {},
   "source": [
    "### For more resources please refer to [Apache OpenNLP README](https://github.com/neomatrix369/nlp-java-jvm-example/blob/master/images/java/opennlp/README.md) and [Apache OpenNLP Resources](https://github.com/neomatrix369/nlp-java-jvm-example/blob/master/images/java/opennlp/README.md#resources)."
   ]
  }
 ],
 "metadata": {
  "kernelspec": {
   "display_name": "Java",
   "language": "java",
   "name": "java"
  },
  "language_info": {
   "codemirror_mode": "java",
   "file_extension": ".jshell",
   "mimetype": "text/x-java-source",
   "name": "Java",
   "pygments_lexer": "java",
   "version": "11.0.4+11"
  }
 },
 "nbformat": 4,
 "nbformat_minor": 2
}
